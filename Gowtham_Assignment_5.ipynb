{
  "nbformat": 4,
  "nbformat_minor": 0,
  "metadata": {
    "colab": {
      "name": "Gowtham_Assignment_5.ipynb",
      "version": "0.3.2",
      "provenance": [],
      "collapsed_sections": [],
      "include_colab_link": true
    },
    "kernelspec": {
      "name": "python3",
      "display_name": "Python 3"
    },
    "accelerator": "GPU"
  },
  "cells": [
    {
      "cell_type": "markdown",
      "metadata": {
        "id": "view-in-github",
        "colab_type": "text"
      },
      "source": [
        "<a href=\"https://colab.research.google.com/github/gowtham66866/Inkers/blob/master/Gowtham_Assignment_5.ipynb\" target=\"_parent\"><img src=\"https://colab.research.google.com/assets/colab-badge.svg\" alt=\"Open In Colab\"/></a>"
      ]
    },
    {
      "cell_type": "markdown",
      "metadata": {
        "id": "aNyZv-Ec52ot",
        "colab_type": "text"
      },
      "source": [
        "# **Import Libraries and modules**"
      ]
    },
    {
      "cell_type": "code",
      "metadata": {
        "id": "3m3w1Cw49Zkt",
        "colab_type": "code",
        "colab": {}
      },
      "source": [
        "# https://keras.io/\n",
        "!pip install -q keras\n",
        "import keras"
      ],
      "execution_count": 0,
      "outputs": []
    },
    {
      "cell_type": "code",
      "metadata": {
        "id": "Eso6UHE080D4",
        "colab_type": "code",
        "colab": {}
      },
      "source": [
        "import numpy as np\n",
        "\n",
        "from keras.models import Sequential\n",
        "from keras.layers import Dense, Dropout, Activation, Flatten, Add, BatchNormalization\n",
        "from keras.layers import Convolution2D, MaxPooling2D\n",
        "from keras.utils import np_utils\n",
        "\n",
        "from keras.datasets import mnist"
      ],
      "execution_count": 0,
      "outputs": []
    },
    {
      "cell_type": "markdown",
      "metadata": {
        "id": "zByEi95J86RD",
        "colab_type": "text"
      },
      "source": [
        "### Load pre-shuffled MNIST data into train and test sets"
      ]
    },
    {
      "cell_type": "code",
      "metadata": {
        "id": "7eRM0QWN83PV",
        "colab_type": "code",
        "outputId": "0979f832-869e-4b87-8a8e-205dbd8071c7",
        "colab": {
          "base_uri": "https://localhost:8080/",
          "height": 51
        }
      },
      "source": [
        "(x_train, y_train), (x_test, y_test) = mnist.load_data()"
      ],
      "execution_count": 4,
      "outputs": [
        {
          "output_type": "stream",
          "text": [
            "Downloading data from https://s3.amazonaws.com/img-datasets/mnist.npz\n",
            "11493376/11490434 [==============================] - 2s 0us/step\n"
          ],
          "name": "stdout"
        }
      ]
    },
    {
      "cell_type": "code",
      "metadata": {
        "id": "4a4Be72j8-ZC",
        "colab_type": "code",
        "outputId": "3bc85e4c-3af6-44ff-9ce6-bc21f9b2eb9b",
        "colab": {
          "base_uri": "https://localhost:8080/",
          "height": 303
        }
      },
      "source": [
        "print (x_train.shape)\n",
        "from matplotlib import pyplot as plt\n",
        "%matplotlib inline\n",
        "plt.imshow(x_train[0])"
      ],
      "execution_count": 5,
      "outputs": [
        {
          "output_type": "stream",
          "text": [
            "(60000, 28, 28)\n"
          ],
          "name": "stdout"
        },
        {
          "output_type": "execute_result",
          "data": {
            "text/plain": [
              "<matplotlib.image.AxesImage at 0x7f1387158dd8>"
            ]
          },
          "metadata": {
            "tags": []
          },
          "execution_count": 5
        },
        {
          "output_type": "display_data",
          "data": {
            "image/png": "[encoded data removed]",
            "text/plain": [
              "<Figure size 432x288 with 1 Axes>"
            ]
          },
          "metadata": {
            "tags": []
          }
        }
      ]
    },
    {
      "cell_type": "code",
      "metadata": {
        "id": "dkmprriw9AnZ",
        "colab_type": "code",
        "colab": {}
      },
      "source": [
        "X_train = x_train.reshape(x_train.shape[0], 28, 28,1)\n",
        "X_test = x_test.reshape(x_test.shape[0], 28, 28,1)"
      ],
      "execution_count": 0,
      "outputs": []
    },
    {
      "cell_type": "code",
      "metadata": {
        "id": "X2m4YS4E9CRh",
        "colab_type": "code",
        "colab": {}
      },
      "source": [
        "X_train = X_train.astype('float32')\n",
        "X_test = X_test.astype('float32')\n",
        "# X_train /= 255\n",
        "# X_test /= 255"
      ],
      "execution_count": 0,
      "outputs": []
    },
    {
      "cell_type": "code",
      "metadata": {
        "id": "0Mn0vAYD9DvB",
        "colab_type": "code",
        "outputId": "6db20467-c85a-4171-9786-7aa717016304",
        "colab": {
          "base_uri": "https://localhost:8080/",
          "height": 34
        }
      },
      "source": [
        "y_train[:10]"
      ],
      "execution_count": 8,
      "outputs": [
        {
          "output_type": "execute_result",
          "data": {
            "text/plain": [
              "array([5, 0, 4, 1, 9, 2, 1, 3, 1, 4], dtype=uint8)"
            ]
          },
          "metadata": {
            "tags": []
          },
          "execution_count": 8
        }
      ]
    },
    {
      "cell_type": "code",
      "metadata": {
        "id": "ZG8JiXR39FHC",
        "colab_type": "code",
        "colab": {}
      },
      "source": [
        "# Convert 1-dimensional class arrays to 10-dimensional class matrices\n",
        "Y_train = np_utils.to_categorical(y_train, 10)\n",
        "Y_test = np_utils.to_categorical(y_test, 10)"
      ],
      "execution_count": 0,
      "outputs": []
    },
    {
      "cell_type": "code",
      "metadata": {
        "id": "fYlFRvKS9HMB",
        "colab_type": "code",
        "outputId": "0bfc2a62-380b-4486-f944-b928d021ce5a",
        "colab": {
          "base_uri": "https://localhost:8080/",
          "height": 187
        }
      },
      "source": [
        "Y_train[:10]\n"
      ],
      "execution_count": 10,
      "outputs": [
        {
          "output_type": "execute_result",
          "data": {
            "text/plain": [
              "array([[0., 0., 0., 0., 0., 1., 0., 0., 0., 0.],\n",
              "       [1., 0., 0., 0., 0., 0., 0., 0., 0., 0.],\n",
              "       [0., 0., 0., 0., 1., 0., 0., 0., 0., 0.],\n",
              "       [0., 1., 0., 0., 0., 0., 0., 0., 0., 0.],\n",
              "       [0., 0., 0., 0., 0., 0., 0., 0., 0., 1.],\n",
              "       [0., 0., 1., 0., 0., 0., 0., 0., 0., 0.],\n",
              "       [0., 1., 0., 0., 0., 0., 0., 0., 0., 0.],\n",
              "       [0., 0., 0., 1., 0., 0., 0., 0., 0., 0.],\n",
              "       [0., 1., 0., 0., 0., 0., 0., 0., 0., 0.],\n",
              "       [0., 0., 0., 0., 1., 0., 0., 0., 0., 0.]], dtype=float32)"
            ]
          },
          "metadata": {
            "tags": []
          },
          "execution_count": 10
        }
      ]
    },
    {
      "cell_type": "markdown",
      "metadata": {
        "id": "HrXX5CAqJMtI",
        "colab_type": "text"
      },
      "source": [
        "**Changes made:**\n",
        ".\n",
        "\n",
        "1.   Introduced BatchNormarlisation after every 3x3 conv layer.\n",
        "2.   Changed Learning rate to 0.01 with decay rate at 0.0005.\n",
        "3.  Introduced dropout of 0.15 after every 3x3 convolution layer, rather than having a concentrated large dropout at less number of places, we are using distributed dropout at every convolution layer. \n",
        "\n",
        "After training the model for 40 epochs, I managed to get an accuracy of 99.44% accuracy with 12,750 parameters. Which meets the requirement.\n",
        "\n",
        "\n"
      ]
    },
    {
      "cell_type": "code",
      "metadata": {
        "id": "osKqT73Q9JJB",
        "colab_type": "code",
        "outputId": "feac6f10-66f9-4e45-b5b2-d68411ee0ee8",
        "colab": {
          "base_uri": "https://localhost:8080/",
          "height": 1295
        }
      },
      "source": [
        "from keras.layers import Activation\n",
        "from keras import regularizers\n",
        "model = Sequential()\n",
        "\n",
        "# input layer and the first conv layer \n",
        "model.add(Convolution2D(10, 3, 3,W_regularizer=regularizers.l2(0.0001), input_shape=(28,28,1))) # 26\n",
        "model.add(BatchNormalization())\n",
        "model.add(Activation('relu'))\n",
        "model.add(Dropout(0.15))\n",
        "\n",
        "# first conv block\n",
        "model.add(Convolution2D(16, 3, 3, W_regularizer=regularizers.l2(0.0001))) # 24\n",
        "model.add(Activation('relu'))\n",
        "model.add(BatchNormalization())\n",
        "model.add(Dropout(0.15))\n",
        "\n",
        "model.add(Convolution2D(24, 3, 3, W_regularizer=regularizers.l2(0.0001))) # 22\n",
        "model.add(Activation('relu'))\n",
        "model.add(BatchNormalization())\n",
        "model.add(Dropout(0.15))\n",
        "\n",
        "# first transition block\n",
        "model.add(MaxPooling2D(pool_size=(2, 2))) # 11\n",
        "model.add(Convolution2D(10, 1, 1, activation='relu')) # 11\n",
        "# model.add(Dropout(0.1))\n",
        "\n",
        "# second conv block\n",
        "model.add(Convolution2D(16, 3, 3, W_regularizer=regularizers.l2(0.0001))) # 9\n",
        "model.add(Activation('relu'))\n",
        "model.add(BatchNormalization())\n",
        "model.add(Dropout(0.15))\n",
        "\n",
        "model.add(Convolution2D(24, 3, 3, W_regularizer=regularizers.l2(0.0001))) # 7\n",
        "model.add(Activation('relu'))\n",
        "model.add(BatchNormalization())\n",
        "model.add(Dropout(0.15))\n",
        "\n",
        "# second transition block\n",
        "model.add(MaxPooling2D(pool_size=(2, 2))) # 3\n",
        "\n",
        "# Last conv block flowed by softmax\n",
        "model.add(Convolution2D(10, 3, W_regularizer=regularizers.l2(0.0001))) # 1\n",
        "model.add(Flatten())\n",
        "model.add(Activation('softmax'))\n",
        "\n",
        "model.summary()"
      ],
      "execution_count": 11,
      "outputs": [
        {
          "output_type": "stream",
          "text": [
            "WARNING:tensorflow:From /usr/local/lib/python3.6/dist-packages/tensorflow/python/framework/op_def_library.py:263: colocate_with (from tensorflow.python.framework.ops) is deprecated and will be removed in a future version.\n",
            "Instructions for updating:\n",
            "Colocations handled automatically by placer.\n"
          ],
          "name": "stdout"
        },
        {
          "output_type": "stream",
          "text": [
            "/usr/local/lib/python3.6/dist-packages/ipykernel_launcher.py:6: UserWarning: Update your `Conv2D` call to the Keras 2 API: `Conv2D(10, (3, 3), input_shape=(28, 28, 1..., kernel_regularizer=<keras.reg...)`\n",
            "  \n"
          ],
          "name": "stderr"
        },
        {
          "output_type": "stream",
          "text": [
            "WARNING:tensorflow:From /usr/local/lib/python3.6/dist-packages/keras/backend/tensorflow_backend.py:3445: calling dropout (from tensorflow.python.ops.nn_ops) with keep_prob is deprecated and will be removed in a future version.\n",
            "Instructions for updating:\n",
            "Please use `rate` instead of `keep_prob`. Rate should be set to `rate = 1 - keep_prob`.\n"
          ],
          "name": "stdout"
        },
        {
          "output_type": "stream",
          "text": [
            "/usr/local/lib/python3.6/dist-packages/ipykernel_launcher.py:12: UserWarning: Update your `Conv2D` call to the Keras 2 API: `Conv2D(16, (3, 3), kernel_regularizer=<keras.reg...)`\n",
            "  if sys.path[0] == '':\n",
            "/usr/local/lib/python3.6/dist-packages/ipykernel_launcher.py:17: UserWarning: Update your `Conv2D` call to the Keras 2 API: `Conv2D(24, (3, 3), kernel_regularizer=<keras.reg...)`\n",
            "/usr/local/lib/python3.6/dist-packages/ipykernel_launcher.py:24: UserWarning: Update your `Conv2D` call to the Keras 2 API: `Conv2D(10, (1, 1), activation=\"relu\")`\n",
            "/usr/local/lib/python3.6/dist-packages/ipykernel_launcher.py:28: UserWarning: Update your `Conv2D` call to the Keras 2 API: `Conv2D(16, (3, 3), kernel_regularizer=<keras.reg...)`\n",
            "/usr/local/lib/python3.6/dist-packages/ipykernel_launcher.py:33: UserWarning: Update your `Conv2D` call to the Keras 2 API: `Conv2D(24, (3, 3), kernel_regularizer=<keras.reg...)`\n"
          ],
          "name": "stderr"
        },
        {
          "output_type": "stream",
          "text": [
            "_________________________________________________________________\n",
            "Layer (type)                 Output Shape              Param #   \n",
            "=================================================================\n",
            "conv2d_1 (Conv2D)            (None, 26, 26, 10)        100       \n",
            "_________________________________________________________________\n",
            "batch_normalization_1 (Batch (None, 26, 26, 10)        40        \n",
            "_________________________________________________________________\n",
            "activation_1 (Activation)    (None, 26, 26, 10)        0         \n",
            "_________________________________________________________________\n",
            "dropout_1 (Dropout)          (None, 26, 26, 10)        0         \n",
            "_________________________________________________________________\n",
            "conv2d_2 (Conv2D)            (None, 24, 24, 16)        1456      \n",
            "_________________________________________________________________\n",
            "activation_2 (Activation)    (None, 24, 24, 16)        0         \n",
            "_________________________________________________________________\n",
            "batch_normalization_2 (Batch (None, 24, 24, 16)        64        \n",
            "_________________________________________________________________\n",
            "dropout_2 (Dropout)          (None, 24, 24, 16)        0         \n",
            "_________________________________________________________________\n",
            "conv2d_3 (Conv2D)            (None, 22, 22, 24)        3480      \n",
            "_________________________________________________________________\n",
            "activation_3 (Activation)    (None, 22, 22, 24)        0         \n",
            "_________________________________________________________________\n",
            "batch_normalization_3 (Batch (None, 22, 22, 24)        96        \n",
            "_________________________________________________________________\n",
            "dropout_3 (Dropout)          (None, 22, 22, 24)        0         \n",
            "_________________________________________________________________\n",
            "max_pooling2d_1 (MaxPooling2 (None, 11, 11, 24)        0         \n",
            "_________________________________________________________________\n",
            "conv2d_4 (Conv2D)            (None, 11, 11, 10)        250       \n",
            "_________________________________________________________________\n",
            "conv2d_5 (Conv2D)            (None, 9, 9, 16)          1456      \n",
            "_________________________________________________________________\n",
            "activation_4 (Activation)    (None, 9, 9, 16)          0         \n",
            "_________________________________________________________________\n",
            "batch_normalization_4 (Batch (None, 9, 9, 16)          64        \n",
            "_________________________________________________________________\n",
            "dropout_4 (Dropout)          (None, 9, 9, 16)          0         \n",
            "_________________________________________________________________\n",
            "conv2d_6 (Conv2D)            (None, 7, 7, 24)          3480      \n",
            "_________________________________________________________________\n",
            "activation_5 (Activation)    (None, 7, 7, 24)          0         \n",
            "_________________________________________________________________\n",
            "batch_normalization_5 (Batch (None, 7, 7, 24)          96        \n",
            "_________________________________________________________________\n",
            "dropout_5 (Dropout)          (None, 7, 7, 24)          0         \n",
            "_________________________________________________________________\n",
            "max_pooling2d_2 (MaxPooling2 (None, 3, 3, 24)          0         \n",
            "_________________________________________________________________\n",
            "conv2d_7 (Conv2D)            (None, 1, 1, 10)          2170      \n",
            "_________________________________________________________________\n",
            "flatten_1 (Flatten)          (None, 10)                0         \n",
            "_________________________________________________________________\n",
            "activation_6 (Activation)    (None, 10)                0         \n",
            "=================================================================\n",
            "Total params: 12,752\n",
            "Trainable params: 12,572\n",
            "Non-trainable params: 180\n",
            "_________________________________________________________________\n"
          ],
          "name": "stdout"
        },
        {
          "output_type": "stream",
          "text": [
            "/usr/local/lib/python3.6/dist-packages/ipykernel_launcher.py:42: UserWarning: Update your `Conv2D` call to the Keras 2 API: `Conv2D(10, 3, kernel_regularizer=<keras.reg...)`\n"
          ],
          "name": "stderr"
        }
      ]
    },
    {
      "cell_type": "code",
      "metadata": {
        "id": "Zp6SuGrL9M3h",
        "colab_type": "code",
        "colab": {}
      },
      "source": [
        "adam = keras.optimizers.Adam(lr=0.01, beta_1=0.9, beta_2=0.999, epsilon=1e-8,decay=0.0005)\n",
        "model.compile(loss='categorical_crossentropy',\n",
        "             optimizer=adam,\n",
        "             metrics=['accuracy'])"
      ],
      "execution_count": 0,
      "outputs": []
    },
    {
      "cell_type": "code",
      "metadata": {
        "id": "rPx79CLCfLQQ",
        "colab_type": "code",
        "colab": {}
      },
      "source": [
        "datagen = keras.preprocessing.image.ImageDataGenerator(featurewise_center=True,featurewise_std_normalization=True)\n",
        "\n",
        "train_iterator = datagen.flow(X_train, Y_train, batch_size=128)\n",
        "test_iterator = datagen.flow(X_test, Y_test, batch_size=128)"
      ],
      "execution_count": 0,
      "outputs": []
    },
    {
      "cell_type": "code",
      "metadata": {
        "id": "zTM8FPtsb1Ty",
        "colab_type": "code",
        "colab": {}
      },
      "source": [
        "from keras.callbacks import ModelCheckpoint\n",
        "mcp_save = ModelCheckpoint('.mdl_wts.hdf5', save_best_only=True, monitor='val_loss', mode='min')"
      ],
      "execution_count": 0,
      "outputs": []
    },
    {
      "cell_type": "code",
      "metadata": {
        "id": "4xWoKhPY9Of5",
        "colab_type": "code",
        "outputId": "3ca6ba93-6753-4301-f53a-31cd65c6e7b8",
        "colab": {
          "base_uri": "https://localhost:8080/",
          "height": 1533
        }
      },
      "source": [
        "# model.fit(X_train, Y_train, batch_size=128, nb_epoch=40, verbose=1, validation_data=(X_test, Y_test))\n",
        "\n",
        "model.fit_generator(train_iterator, steps_per_epoch=len(train_iterator), epochs=40, verbose=1, callbacks=[mcp_save], validation_data=test_iterator,\n",
        "                    validation_steps=len(test_iterator))"
      ],
      "execution_count": 15,
      "outputs": [
        {
          "output_type": "stream",
          "text": [
            "WARNING:tensorflow:From /usr/local/lib/python3.6/dist-packages/tensorflow/python/ops/math_ops.py:3066: to_int32 (from tensorflow.python.ops.math_ops) is deprecated and will be removed in a future version.\n",
            "Instructions for updating:\n",
            "Use tf.cast instead.\n",
            "Epoch 1/40\n"
          ],
          "name": "stdout"
        },
        {
          "output_type": "stream",
          "text": [
            "/usr/local/lib/python3.6/dist-packages/keras_preprocessing/image/image_data_generator.py:699: UserWarning: This ImageDataGenerator specifies `featurewise_center`, but it hasn't been fit on any training data. Fit it first by calling `.fit(numpy_data)`.\n",
            "  warnings.warn('This ImageDataGenerator specifies '\n",
            "/usr/local/lib/python3.6/dist-packages/keras_preprocessing/image/image_data_generator.py:707: UserWarning: This ImageDataGenerator specifies `featurewise_std_normalization`, but it hasn't been fit on any training data. Fit it first by calling `.fit(numpy_data)`.\n",
            "  warnings.warn('This ImageDataGenerator specifies '\n"
          ],
          "name": "stderr"
        },
        {
          "output_type": "stream",
          "text": [
            "469/469 [==============================] - 11s 23ms/step - loss: 0.1903 - acc: 0.9469 - val_loss: 0.0718 - val_acc: 0.9837\n",
            "Epoch 2/40\n",
            "469/469 [==============================] - 7s 14ms/step - loss: 0.0817 - acc: 0.9806 - val_loss: 0.0634 - val_acc: 0.9849\n",
            "Epoch 3/40\n",
            "469/469 [==============================] - 7s 14ms/step - loss: 0.0735 - acc: 0.9837 - val_loss: 0.0573 - val_acc: 0.9878\n",
            "Epoch 4/40\n",
            "469/469 [==============================] - 7s 14ms/step - loss: 0.0683 - acc: 0.9852 - val_loss: 0.0609 - val_acc: 0.9871\n",
            "Epoch 5/40\n",
            "469/469 [==============================] - 7s 14ms/step - loss: 0.0625 - acc: 0.9871 - val_loss: 0.0522 - val_acc: 0.9898\n",
            "Epoch 6/40\n",
            "469/469 [==============================] - 7s 14ms/step - loss: 0.0621 - acc: 0.9874 - val_loss: 0.0571 - val_acc: 0.9890\n",
            "Epoch 7/40\n",
            "469/469 [==============================] - 7s 14ms/step - loss: 0.0592 - acc: 0.9884 - val_loss: 0.0687 - val_acc: 0.9843\n",
            "Epoch 8/40\n",
            "469/469 [==============================] - 7s 14ms/step - loss: 0.0572 - acc: 0.9884 - val_loss: 0.0505 - val_acc: 0.9911\n",
            "Epoch 9/40\n",
            "469/469 [==============================] - 7s 14ms/step - loss: 0.0533 - acc: 0.9900 - val_loss: 0.0499 - val_acc: 0.9904\n",
            "Epoch 10/40\n",
            "469/469 [==============================] - 7s 14ms/step - loss: 0.0526 - acc: 0.9895 - val_loss: 0.0600 - val_acc: 0.9864\n",
            "Epoch 11/40\n",
            "469/469 [==============================] - 7s 14ms/step - loss: 0.0511 - acc: 0.9903 - val_loss: 0.0499 - val_acc: 0.9899\n",
            "Epoch 12/40\n",
            "469/469 [==============================] - 7s 14ms/step - loss: 0.0481 - acc: 0.9911 - val_loss: 0.0460 - val_acc: 0.9922\n",
            "Epoch 13/40\n",
            "469/469 [==============================] - 7s 14ms/step - loss: 0.0488 - acc: 0.9906 - val_loss: 0.0482 - val_acc: 0.9913\n",
            "Epoch 14/40\n",
            "469/469 [==============================] - 7s 14ms/step - loss: 0.0469 - acc: 0.9907 - val_loss: 0.0500 - val_acc: 0.9908\n",
            "Epoch 15/40\n",
            "469/469 [==============================] - 7s 14ms/step - loss: 0.0452 - acc: 0.9919 - val_loss: 0.0417 - val_acc: 0.9926\n",
            "Epoch 16/40\n",
            "469/469 [==============================] - 7s 14ms/step - loss: 0.0434 - acc: 0.9920 - val_loss: 0.0441 - val_acc: 0.9918\n",
            "Epoch 17/40\n",
            "469/469 [==============================] - 7s 14ms/step - loss: 0.0424 - acc: 0.9921 - val_loss: 0.0386 - val_acc: 0.9927\n",
            "Epoch 18/40\n",
            "469/469 [==============================] - 7s 14ms/step - loss: 0.0402 - acc: 0.9927 - val_loss: 0.0393 - val_acc: 0.9928\n",
            "Epoch 19/40\n",
            "469/469 [==============================] - 7s 14ms/step - loss: 0.0406 - acc: 0.9922 - val_loss: 0.0418 - val_acc: 0.9922\n",
            "Epoch 20/40\n",
            "469/469 [==============================] - 7s 14ms/step - loss: 0.0394 - acc: 0.9927 - val_loss: 0.0418 - val_acc: 0.9921\n",
            "Epoch 21/40\n",
            "469/469 [==============================] - 7s 14ms/step - loss: 0.0375 - acc: 0.9935 - val_loss: 0.0360 - val_acc: 0.9938\n",
            "Epoch 22/40\n",
            "469/469 [==============================] - 7s 14ms/step - loss: 0.0384 - acc: 0.9927 - val_loss: 0.0396 - val_acc: 0.9926\n",
            "Epoch 23/40\n",
            "469/469 [==============================] - 7s 14ms/step - loss: 0.0357 - acc: 0.9934 - val_loss: 0.0382 - val_acc: 0.9926\n",
            "Epoch 24/40\n",
            "469/469 [==============================] - 7s 14ms/step - loss: 0.0357 - acc: 0.9932 - val_loss: 0.0357 - val_acc: 0.9935\n",
            "Epoch 25/40\n",
            "469/469 [==============================] - 7s 14ms/step - loss: 0.0353 - acc: 0.9934 - val_loss: 0.0362 - val_acc: 0.9923\n",
            "Epoch 26/40\n",
            "469/469 [==============================] - 7s 14ms/step - loss: 0.0341 - acc: 0.9938 - val_loss: 0.0365 - val_acc: 0.9924\n",
            "Epoch 27/40\n",
            "469/469 [==============================] - 7s 14ms/step - loss: 0.0336 - acc: 0.9936 - val_loss: 0.0348 - val_acc: 0.9939\n",
            "Epoch 28/40\n",
            "469/469 [==============================] - 7s 14ms/step - loss: 0.0326 - acc: 0.9940 - val_loss: 0.0352 - val_acc: 0.9937\n",
            "Epoch 29/40\n",
            "469/469 [==============================] - 7s 14ms/step - loss: 0.0323 - acc: 0.9939 - val_loss: 0.0326 - val_acc: 0.9940\n",
            "Epoch 30/40\n",
            "469/469 [==============================] - 7s 14ms/step - loss: 0.0309 - acc: 0.9941 - val_loss: 0.0368 - val_acc: 0.9919\n",
            "Epoch 31/40\n",
            "469/469 [==============================] - 7s 14ms/step - loss: 0.0318 - acc: 0.9943 - val_loss: 0.0372 - val_acc: 0.9922\n",
            "Epoch 32/40\n",
            "469/469 [==============================] - 7s 14ms/step - loss: 0.0306 - acc: 0.9944 - val_loss: 0.0340 - val_acc: 0.9930\n",
            "Epoch 33/40\n",
            "469/469 [==============================] - 7s 14ms/step - loss: 0.0296 - acc: 0.9948 - val_loss: 0.0334 - val_acc: 0.9934\n",
            "Epoch 34/40\n",
            "469/469 [==============================] - 7s 14ms/step - loss: 0.0304 - acc: 0.9947 - val_loss: 0.0333 - val_acc: 0.9929\n",
            "Epoch 35/40\n",
            "469/469 [==============================] - 7s 14ms/step - loss: 0.0290 - acc: 0.9946 - val_loss: 0.0335 - val_acc: 0.9933\n",
            "Epoch 36/40\n",
            "469/469 [==============================] - 7s 14ms/step - loss: 0.0290 - acc: 0.9948 - val_loss: 0.0308 - val_acc: 0.9935\n",
            "Epoch 37/40\n",
            "469/469 [==============================] - 7s 14ms/step - loss: 0.0286 - acc: 0.9945 - val_loss: 0.0300 - val_acc: 0.9941\n",
            "Epoch 38/40\n",
            "469/469 [==============================] - 7s 14ms/step - loss: 0.0283 - acc: 0.9945 - val_loss: 0.0292 - val_acc: 0.9940\n",
            "Epoch 39/40\n",
            "469/469 [==============================] - 7s 14ms/step - loss: 0.0269 - acc: 0.9953 - val_loss: 0.0337 - val_acc: 0.9926\n",
            "Epoch 40/40\n",
            "469/469 [==============================] - 7s 14ms/step - loss: 0.0271 - acc: 0.9950 - val_loss: 0.0285 - val_acc: 0.9946\n"
          ],
          "name": "stdout"
        },
        {
          "output_type": "execute_result",
          "data": {
            "text/plain": [
              "<keras.callbacks.History at 0x7f1387132e80>"
            ]
          },
          "metadata": {
            "tags": []
          },
          "execution_count": 15
        }
      ]
    },
    {
      "cell_type": "code",
      "metadata": {
        "id": "4rKRPEDU3RbN",
        "colab_type": "code",
        "colab": {}
      },
      "source": [
        "model.load_weights(\".mdl_wts.hdf5\")"
      ],
      "execution_count": 0,
      "outputs": []
    },
    {
      "cell_type": "code",
      "metadata": {
        "id": "iixoZaJNH4gw",
        "colab_type": "code",
        "outputId": "d87d5171-8bfd-4b3e-b9af-36749b645e5d",
        "colab": {
          "base_uri": "https://localhost:8080/",
          "height": 34
        }
      },
      "source": [
        "score = model.evaluate(X_test, Y_test, verbose=0)\n",
        "print(score)"
      ],
      "execution_count": 17,
      "outputs": [
        {
          "output_type": "stream",
          "text": [
            "[0.028513735942542553, 0.9946]\n"
          ],
          "name": "stdout"
        }
      ]
    },
    {
      "cell_type": "code",
      "metadata": {
        "id": "AtsH-lLk-eLb",
        "colab_type": "code",
        "outputId": "dd302a14-a512-482b-941c-ade3b93cd88b",
        "colab": {
          "base_uri": "https://localhost:8080/",
          "height": 156
        }
      },
      "source": [
        "# score = model.evaluate(X_test, Y_test, verbose=0)\n",
        "_, acc = model.evaluate_generator(test_iterator, steps=len(test_iterator),verbose=1)\n",
        "print(acc)\n",
        "print(len(test_iterator))"
      ],
      "execution_count": 18,
      "outputs": [
        {
          "output_type": "stream",
          "text": [
            "42/79 [==============>...............] - ETA: 0s"
          ],
          "name": "stdout"
        },
        {
          "output_type": "stream",
          "text": [
            "/usr/local/lib/python3.6/dist-packages/keras_preprocessing/image/image_data_generator.py:699: UserWarning: This ImageDataGenerator specifies `featurewise_center`, but it hasn't been fit on any training data. Fit it first by calling `.fit(numpy_data)`.\n",
            "  warnings.warn('This ImageDataGenerator specifies '\n",
            "/usr/local/lib/python3.6/dist-packages/keras_preprocessing/image/image_data_generator.py:707: UserWarning: This ImageDataGenerator specifies `featurewise_std_normalization`, but it hasn't been fit on any training data. Fit it first by calling `.fit(numpy_data)`.\n",
            "  warnings.warn('This ImageDataGenerator specifies '\n"
          ],
          "name": "stderr"
        },
        {
          "output_type": "stream",
          "text": [
            "79/79 [==============================] - 0s 4ms/step\n",
            "0.9949\n",
            "79\n"
          ],
          "name": "stdout"
        }
      ]
    },
    {
      "cell_type": "markdown",
      "metadata": {
        "id": "ikrJRKFQIOwA",
        "colab_type": "text"
      },
      "source": [
        "### Find out 25 misclassified images from the validation dataset and create an image gallery\n",
        "In the following code, first 25 wrongly predicted images are saved among the test set.\n",
        "Of these wrongly classified examples are saved into a list of tuples. Each tuple will have three elements with image data tensor, predicted value and the actual values."
      ]
    },
    {
      "cell_type": "markdown",
      "metadata": {
        "id": "XAhq9wy0IoZx",
        "colab_type": "text"
      },
      "source": [
        "In the subsiquent cell, I will use the list of 25 wrong prediction **tuple** to plot and show image using **matplotlib**."
      ]
    },
    {
      "cell_type": "code",
      "metadata": {
        "id": "C_r7tzHq-KRf",
        "colab_type": "code",
        "outputId": "bcfe51ac-c37c-40da-aef7-a9f0c497f8c1",
        "colab": {
          "base_uri": "https://localhost:8080/",
          "height": 34
        }
      },
      "source": [
        "j,t = 0, 0\n",
        "X_test_wrong = []\n",
        "for i in range(len(X_test)):\n",
        "  img_data = x_test[i].reshape(1, 28, 28,1)\n",
        "  t += 1\n",
        "  if np.argmax(model.predict(img_data)) != np.argmax(Y_test[i]):\n",
        "    X_test_wrong.append((img_data, np.argmax(model.predict(img_data)), np.argmax(Y_test[i])))\n",
        "    j += 1\n",
        "  if j >= 25:\n",
        "    break\n",
        "print('totla false preds {} for samples {}'.format(j,t))\n"
      ],
      "execution_count": 19,
      "outputs": [
        {
          "output_type": "stream",
          "text": [
            "totla false preds 25 for samples 2415\n"
          ],
          "name": "stdout"
        }
      ]
    },
    {
      "cell_type": "code",
      "metadata": {
        "id": "udJIGUM7CIMZ",
        "colab_type": "code",
        "outputId": "ba62fec4-5b27-4532-b6fc-60bf65c50a6c",
        "colab": {
          "base_uri": "https://localhost:8080/",
          "height": 1042
        }
      },
      "source": [
        "plt.figure(figsize=(18,18))\n",
        "batch_size = 25\n",
        "i = 0\n",
        "for img in X_test_wrong:\n",
        "  ax = plt.subplot(5,5,i+1)\n",
        "  ax.set_title(\"pred: {}   actu: {}\".format(img[1], img[2]), color='r')\n",
        "  plt.imshow(np.reshape(img[0], (28,28)), cmap=plt.cm.gray)\n",
        "  i += 1"
      ],
      "execution_count": 20,
      "outputs": [
        {
          "output_type": "display_data",
          "data": {
            "image/png": "[encoded data removed]",
            "text/plain": [
              "<Figure size 1296x1296 with 25 Axes>"
            ]
          },
          "metadata": {
            "tags": []
          }
        }
      ]
    },
    {
      "cell_type": "code",
      "metadata": {
        "id": "OCWoJkwE9suh",
        "colab_type": "code",
        "colab": {}
      },
      "source": [
        "y_pred = model.predict(X_test)"
      ],
      "execution_count": 0,
      "outputs": []
    },
    {
      "cell_type": "code",
      "metadata": {
        "id": "Ym7iCFBm9uBs",
        "colab_type": "code",
        "outputId": "1b1e146c-f4cb-41e2-98b6-481cabc2182f",
        "colab": {
          "base_uri": "https://localhost:8080/",
          "height": 340
        }
      },
      "source": [
        "print(y_pred[:9])\n",
        "print(y_test[:9])"
      ],
      "execution_count": 22,
      "outputs": [
        {
          "output_type": "stream",
          "text": [
            "[[6.1692319e-08 1.3016172e-07 7.9452411e-07 4.7068119e-07 3.8719776e-08\n",
            "  1.2385089e-10 2.6568500e-10 9.9999833e-01 4.1689456e-09 1.8023457e-07]\n",
            " [5.1826686e-05 2.4245848e-05 9.9992263e-01 2.4919299e-07 2.0071331e-08\n",
            "  1.0659264e-10 5.7581821e-07 1.6547055e-07 3.8282997e-07 1.3230609e-08]\n",
            " [1.8301162e-06 9.9986267e-01 4.7192862e-06 9.1559222e-08 9.1421025e-06\n",
            "  5.7279531e-06 2.4389499e-05 8.0382444e-05 1.1646124e-06 9.9211138e-06]\n",
            " [9.9997652e-01 9.5341248e-13 4.1842874e-08 1.0238046e-09 5.9889924e-09\n",
            "  1.9833482e-09 1.3450167e-05 4.0060528e-09 1.3222346e-07 9.9078125e-06]\n",
            " [3.9322309e-10 8.8588550e-09 1.3601880e-09 2.0685822e-10 9.9999511e-01\n",
            "  6.9377459e-10 1.2031404e-08 1.3684032e-09 5.7311076e-09 4.9063115e-06]\n",
            " [1.1844352e-06 9.9978882e-01 6.3376278e-06 1.0289550e-08 3.3599647e-06\n",
            "  4.2616861e-07 1.5941199e-05 1.7926702e-04 2.6967544e-07 4.4148219e-06]\n",
            " [6.3244158e-12 1.0669175e-06 1.0547612e-06 1.5636742e-09 9.9950850e-01\n",
            "  5.3982911e-09 3.6437786e-10 3.9578808e-06 2.1279227e-06 4.8323296e-04]\n",
            " [2.9793259e-08 1.0592921e-09 6.6122055e-08 4.0798729e-09 2.7960994e-06\n",
            "  1.3188918e-08 1.8069439e-10 2.5289970e-09 1.2780525e-05 9.9998438e-01]\n",
            " [2.8804166e-06 2.4074262e-10 3.0798924e-07 3.7976811e-08 9.8624953e-10\n",
            "  9.2714167e-01 7.2093941e-02 1.1190442e-11 7.6115516e-04 5.8364433e-09]]\n",
            "[7 2 1 0 4 1 4 9 5]\n"
          ],
          "name": "stdout"
        }
      ]
    },
    {
      "cell_type": "code",
      "metadata": {
        "id": "CT--y98_dr2T",
        "colab_type": "code",
        "colab": {}
      },
      "source": [
        "layer_dict = dict([(layer.name, layer) for layer in model.layers])"
      ],
      "execution_count": 0,
      "outputs": []
    },
    {
      "cell_type": "code",
      "metadata": {
        "id": "hNPU5-_8kPIQ",
        "colab_type": "code",
        "colab": {}
      },
      "source": [
        ""
      ],
      "execution_count": 0,
      "outputs": []
    },
    {
      "cell_type": "code",
      "metadata": {
        "id": "2GY4Upv4dsUR",
        "colab_type": "code",
        "outputId": "7e46d1d3-cd8d-4c63-adac-c54819485378",
        "colab": {
          "base_uri": "https://localhost:8080/",
          "height": 317
        }
      },
      "source": [
        "import numpy as np\n",
        "from matplotlib import pyplot as plt\n",
        "from keras import backend as K\n",
        "%matplotlib inline\n",
        "# util function to convert a tensor into a valid image\n",
        "def deprocess_image(x):\n",
        "    # normalize tensor: center on 0., ensure std is 0.1\n",
        "    x -= x.mean()\n",
        "    x /= (x.std() + 1e-5)\n",
        "    x *= 0.1\n",
        "\n",
        "    # clip to [0, 1]\n",
        "    x += 0.5\n",
        "    x = np.clip(x, 0, 1)\n",
        "\n",
        "    # convert to RGB array\n",
        "    x *= 255\n",
        "    #x = x.transpose((1, 2, 0))\n",
        "    x = np.clip(x, 0, 255).astype('uint8')\n",
        "    return x\n",
        "\n",
        "def vis_img_in_filter(img = np.array(X_train[2]).reshape((1, 28, 28, 1)).astype(np.float64), \n",
        "                      layer_name = 'conv2d_14'):\n",
        "    layer_output = layer_dict[layer_name].output\n",
        "    img_ascs = list()\n",
        "    for filter_index in range(layer_output.shape[3]):\n",
        "        # build a loss function that maximizes the activation\n",
        "        # of the nth filter of the layer considered\n",
        "        loss = K.mean(layer_output[:, :, :, filter_index])\n",
        "\n",
        "        # compute the gradient of the input picture wrt this loss\n",
        "        grads = K.gradients(loss, model.input)[0]\n",
        "\n",
        "        # normalization trick: we normalize the gradient\n",
        "        grads /= (K.sqrt(K.mean(K.square(grads))) + 1e-5)\n",
        "\n",
        "        # this function returns the loss and grads given the input picture\n",
        "        iterate = K.function([model.input], [loss, grads])\n",
        "\n",
        "        # step size for gradient ascent\n",
        "        step = 5.\n",
        "\n",
        "        img_asc = np.array(img)\n",
        "        # run gradient ascent for 20 steps\n",
        "        for i in range(20):\n",
        "            loss_value, grads_value = iterate([img_asc])\n",
        "            img_asc += grads_value * step\n",
        "\n",
        "        img_asc = img_asc[0]\n",
        "        img_ascs.append(deprocess_image(img_asc).reshape((28, 28)))\n",
        "        \n",
        "    if layer_output.shape[3] >= 35:\n",
        "        plot_x, plot_y = 6, 6\n",
        "    elif layer_output.shape[3] >= 23:\n",
        "        plot_x, plot_y = 4, 6\n",
        "    elif layer_output.shape[3] >= 11:\n",
        "        plot_x, plot_y = 2, 6\n",
        "    else:\n",
        "        plot_x, plot_y = 1, 2\n",
        "    fig, ax = plt.subplots(plot_x, plot_y, figsize = (12, 12))\n",
        "    ax[0, 0].imshow(img.reshape((28, 28)), cmap = 'gray')\n",
        "    ax[0, 0].set_title('Input image')\n",
        "    fig.suptitle('Input image and %s filters' % (layer_name,))\n",
        "    fig.tight_layout(pad = 0.3, rect = [0, 0, 0.9, 0.9])\n",
        "    for (x, y) in [(i, j) for i in range(plot_x) for j in range(plot_y)]:\n",
        "        if x == 0 and y == 0:\n",
        "            continue\n",
        "        ax[x, y].imshow(img_ascs[x * plot_y + y - 1], cmap = 'gray')\n",
        "        ax[x, y].set_title('filter %d' % (x * plot_y + y - 1))\n",
        "\n",
        "vis_img_in_filter()"
      ],
      "execution_count": 24,
      "outputs": [
        {
          "output_type": "error",
          "ename": "KeyError",
          "evalue": "ignored",
          "traceback": [
            "\u001b[0;31m---------------------------------------------------------------------------\u001b[0m",
            "\u001b[0;31mKeyError\u001b[0m                                  Traceback (most recent call last)",
            "\u001b[0;32m<ipython-input-24-19229f66b51a>\u001b[0m in \u001b[0;36m<module>\u001b[0;34m()\u001b[0m\n\u001b[1;32m     69\u001b[0m         \u001b[0max\u001b[0m\u001b[0;34m[\u001b[0m\u001b[0mx\u001b[0m\u001b[0;34m,\u001b[0m \u001b[0my\u001b[0m\u001b[0;34m]\u001b[0m\u001b[0;34m.\u001b[0m\u001b[0mset_title\u001b[0m\u001b[0;34m(\u001b[0m\u001b[0;34m'filter %d'\u001b[0m \u001b[0;34m%\u001b[0m \u001b[0;34m(\u001b[0m\u001b[0mx\u001b[0m \u001b[0;34m*\u001b[0m \u001b[0mplot_y\u001b[0m \u001b[0;34m+\u001b[0m \u001b[0my\u001b[0m \u001b[0;34m-\u001b[0m \u001b[0;36m1\u001b[0m\u001b[0;34m)\u001b[0m\u001b[0;34m)\u001b[0m\u001b[0;34m\u001b[0m\u001b[0;34m\u001b[0m\u001b[0m\n\u001b[1;32m     70\u001b[0m \u001b[0;34m\u001b[0m\u001b[0m\n\u001b[0;32m---> 71\u001b[0;31m \u001b[0mvis_img_in_filter\u001b[0m\u001b[0;34m(\u001b[0m\u001b[0;34m)\u001b[0m\u001b[0;34m\u001b[0m\u001b[0;34m\u001b[0m\u001b[0m\n\u001b[0m",
            "\u001b[0;32m<ipython-input-24-19229f66b51a>\u001b[0m in \u001b[0;36mvis_img_in_filter\u001b[0;34m(img, layer_name)\u001b[0m\n\u001b[1;32m     22\u001b[0m def vis_img_in_filter(img = np.array(X_train[2]).reshape((1, 28, 28, 1)).astype(np.float64), \n\u001b[1;32m     23\u001b[0m                       layer_name = 'conv2d_14'):\n\u001b[0;32m---> 24\u001b[0;31m     \u001b[0mlayer_output\u001b[0m \u001b[0;34m=\u001b[0m \u001b[0mlayer_dict\u001b[0m\u001b[0;34m[\u001b[0m\u001b[0mlayer_name\u001b[0m\u001b[0;34m]\u001b[0m\u001b[0;34m.\u001b[0m\u001b[0moutput\u001b[0m\u001b[0;34m\u001b[0m\u001b[0;34m\u001b[0m\u001b[0m\n\u001b[0m\u001b[1;32m     25\u001b[0m     \u001b[0mimg_ascs\u001b[0m \u001b[0;34m=\u001b[0m \u001b[0mlist\u001b[0m\u001b[0;34m(\u001b[0m\u001b[0;34m)\u001b[0m\u001b[0;34m\u001b[0m\u001b[0;34m\u001b[0m\u001b[0m\n\u001b[1;32m     26\u001b[0m     \u001b[0;32mfor\u001b[0m \u001b[0mfilter_index\u001b[0m \u001b[0;32min\u001b[0m \u001b[0mrange\u001b[0m\u001b[0;34m(\u001b[0m\u001b[0mlayer_output\u001b[0m\u001b[0;34m.\u001b[0m\u001b[0mshape\u001b[0m\u001b[0;34m[\u001b[0m\u001b[0;36m3\u001b[0m\u001b[0;34m]\u001b[0m\u001b[0;34m)\u001b[0m\u001b[0;34m:\u001b[0m\u001b[0;34m\u001b[0m\u001b[0;34m\u001b[0m\u001b[0m\n",
            "\u001b[0;31mKeyError\u001b[0m: 'conv2d_14'"
          ]
        }
      ]
    },
    {
      "cell_type": "code",
      "metadata": {
        "id": "9tvptcn8dxvp",
        "colab_type": "code",
        "colab": {}
      },
      "source": [
        ""
      ],
      "execution_count": 0,
      "outputs": []
    }
  ]
}