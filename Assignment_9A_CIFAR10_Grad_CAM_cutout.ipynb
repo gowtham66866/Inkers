{
  "nbformat": 4,
  "nbformat_minor": 0,
  "metadata": {
    "colab": {
      "name": "Assignment_9A_CIFAR10_Grad_CAM_cutout.ipynb",
      "version": "0.3.2",
      "provenance": [],
      "collapsed_sections": [],
      "include_colab_link": true
    },
    "kernelspec": {
      "name": "python3",
      "display_name": "Python 3"
    },
    "accelerator": "GPU"
  },
  "cells": [
    {
      "cell_type": "markdown",
      "metadata": {
        "id": "view-in-github",
        "colab_type": "text"
      },
      "source": [
        "<a href=\"https://colab.research.google.com/github/gowtham66866/Inkers/blob/master/Assignment_9A_CIFAR10_Grad_CAM_cutout.ipynb\" target=\"_parent\"><img src=\"https://colab.research.google.com/assets/colab-badge.svg\" alt=\"Open In Colab\"/></a>"
      ]
    },
    {
      "cell_type": "code",
      "metadata": {
        "id": "SsLGBZ118yP2",
        "colab_type": "code",
        "outputId": "506b846d-a089-484a-e89b-e4015664799f",
        "colab": {
          "base_uri": "https://localhost:8080/",
          "height": 122
        }
      },
      "source": [
        "from google.colab import drive\n",
        "drive.mount(\"/content/gdrive/\")"
      ],
      "execution_count": 1,
      "outputs": [
        {
          "output_type": "stream",
          "text": [
            "Go to this URL in a browser: https://accounts.google.com/o/oauth2/auth?client_id=947318989803-6bn6qk8qdgf4n4g3pfee6491hc0brc4i.apps.googleusercontent.com&redirect_uri=urn%3Aietf%3Awg%3Aoauth%3A2.0%3Aoob&scope=email%20https%3A%2F%2Fwww.googleapis.com%2Fauth%2Fdocs.test%20https%3A%2F%2Fwww.googleapis.com%2Fauth%2Fdrive%20https%3A%2F%2Fwww.googleapis.com%2Fauth%2Fdrive.photos.readonly%20https%3A%2F%2Fwww.googleapis.com%2Fauth%2Fpeopleapi.readonly&response_type=code\n",
            "\n",
            "Enter your authorization code:\n",
            "··········\n",
            "Mounted at /content/gdrive/\n"
          ],
          "name": "stdout"
        }
      ]
    },
    {
      "cell_type": "code",
      "metadata": {
        "id": "aIukypTO9eQA",
        "colab_type": "code",
        "colab": {}
      },
      "source": [
        "# ls /content/gdrive/My\\ Drive/EVA"
      ],
      "execution_count": 0,
      "outputs": []
    },
    {
      "cell_type": "code",
      "metadata": {
        "id": "KkwXnw9OfHZl",
        "colab_type": "code",
        "colab": {
          "base_uri": "https://localhost:8080/",
          "height": 34
        },
        "outputId": "02e27f8a-12f5-4df5-ab27-670e29412d5a"
      },
      "source": [
        "from keras import backend as K\n",
        "import time\n",
        "import matplotlib.pyplot as plt\n",
        "import numpy as np\n",
        "% matplotlib inline\n",
        "np.random.seed(2017) \n",
        "from keras.models import Sequential\n",
        "from keras.layers.convolutional import Convolution2D, MaxPooling2D\n",
        "from keras.layers import Activation, Flatten, Dense, Dropout, GlobalAveragePooling2D\n",
        "from keras.layers.normalization import BatchNormalization\n",
        "from keras.utils import np_utils\n",
        "from keras.callbacks import ModelCheckpoint, EarlyStopping, ReduceLROnPlateau\n",
        "\n",
        "# from random_eraser import get_random_eraser"
      ],
      "execution_count": 3,
      "outputs": [
        {
          "output_type": "stream",
          "text": [
            "Using TensorFlow backend.\n"
          ],
          "name": "stderr"
        }
      ]
    },
    {
      "cell_type": "code",
      "metadata": {
        "id": "AIij3FAiQ4bG",
        "colab_type": "code",
        "colab": {}
      },
      "source": [
        "import numpy as np\n",
        "\n",
        "\n",
        "def get_random_eraser(p=0.5, s_l=0.02, s_h=0.4, r_1=0.3, r_2=1/0.3, v_l=0, v_h=255, pixel_level=False):\n",
        "    def eraser(input_img):\n",
        "        img_h, img_w, img_c = input_img.shape\n",
        "        p_1 = np.random.rand()\n",
        "\n",
        "        if p_1 > p:\n",
        "            return input_img\n",
        "\n",
        "        while True:\n",
        "            s = np.random.uniform(s_l, s_h) * img_h * img_w\n",
        "            r = np.random.uniform(r_1, r_2)\n",
        "            w = int(np.sqrt(s / r))\n",
        "            h = int(np.sqrt(s * r))\n",
        "            left = np.random.randint(0, img_w)\n",
        "            top = np.random.randint(0, img_h)\n",
        "\n",
        "            if left + w <= img_w and top + h <= img_h:\n",
        "                break\n",
        "\n",
        "        if pixel_level:\n",
        "            c = np.random.uniform(v_l, v_h, (h, w, img_c))\n",
        "        else:\n",
        "            c = np.random.uniform(v_l, v_h)\n",
        "\n",
        "        input_img[top:top + h, left:left + w, :] = c\n",
        "\n",
        "        return input_img\n",
        "\n",
        "    return eraser"
      ],
      "execution_count": 0,
      "outputs": []
    },
    {
      "cell_type": "code",
      "metadata": {
        "id": "NHpnoCHZfO8g",
        "colab_type": "code",
        "colab": {
          "base_uri": "https://localhost:8080/",
          "height": 51
        },
        "outputId": "765b1924-0c5b-4088-c1bf-9f8e0aae0bdd"
      },
      "source": [
        "from keras.datasets import cifar10\n",
        "(train_features, train_labels), (test_features, test_labels) = cifar10.load_data()\n",
        "num_train, img_channels, img_rows, img_cols =  train_features.shape\n",
        "num_test, _, _, _ =  test_features.shape\n",
        "num_classes = len(np.unique(train_labels))"
      ],
      "execution_count": 5,
      "outputs": [
        {
          "output_type": "stream",
          "text": [
            "Downloading data from https://www.cs.toronto.edu/~kriz/cifar-10-python.tar.gz\n",
            "170500096/170498071 [==============================] - 2s 0us/step\n"
          ],
          "name": "stdout"
        }
      ]
    },
    {
      "cell_type": "code",
      "metadata": {
        "id": "14HyBUXdfS6G",
        "colab_type": "code",
        "colab": {
          "base_uri": "https://localhost:8080/",
          "height": 213
        },
        "outputId": "62c834b7-e3a6-4891-ed1a-82298df6b701"
      },
      "source": [
        "class_names = ['airplane','automobile','bird','cat','deer',\n",
        "               'dog','frog','horse','ship','truck']\n",
        "fig = plt.figure(figsize=(8,3))\n",
        "for i in range(num_classes):\n",
        "    ax = fig.add_subplot(2, 5, 1 + i, xticks=[], yticks=[])\n",
        "    idx = np.where(train_labels[:]==i)[0]\n",
        "    features_idx = train_features[idx,::]\n",
        "    img_num = np.random.randint(features_idx.shape[0])\n",
        "    im = features_idx[img_num]\n",
        "    ax.set_title(class_names[i])\n",
        "    plt.imshow(im)\n",
        "plt.show()"
      ],
      "execution_count": 6,
      "outputs": [
        {
          "output_type": "display_data",
          "data": {
            "image/png": "[encoded data removed]",
            "text/plain": [
              "<Figure size 576x216 with 10 Axes>"
            ]
          },
          "metadata": {
            "tags": []
          }
        }
      ]
    },
    {
      "cell_type": "code",
      "metadata": {
        "id": "bmfsk76-fadV",
        "colab_type": "code",
        "colab": {}
      },
      "source": [
        "def plot_model_history(model_history):\n",
        "    fig, axs = plt.subplots(1,2,figsize=(15,5))\n",
        "    # summarize history for accuracy\n",
        "    axs[0].plot(range(1,len(model_history.history['acc'])+1),model_history.history['acc'])\n",
        "    axs[0].plot(range(1,len(model_history.history['val_acc'])+1),model_history.history['val_acc'])\n",
        "    axs[0].set_title('Model Accuracy')\n",
        "    axs[0].set_ylabel('Accuracy')\n",
        "    axs[0].set_xlabel('Epoch')\n",
        "    axs[0].set_xticks(np.arange(1,len(model_history.history['acc'])+1),len(model_history.history['acc'])/10)\n",
        "    axs[0].legend(['train', 'val'], loc='best')\n",
        "    # summarize history for loss\n",
        "    axs[1].plot(range(1,len(model_history.history['loss'])+1),model_history.history['loss'])\n",
        "    axs[1].plot(range(1,len(model_history.history['val_loss'])+1),model_history.history['val_loss'])\n",
        "    axs[1].set_title('Model Loss')\n",
        "    axs[1].set_ylabel('Loss')\n",
        "    axs[1].set_xlabel('Epoch')\n",
        "    axs[1].set_xticks(np.arange(1,len(model_history.history['loss'])+1),len(model_history.history['loss'])/10)\n",
        "    axs[1].legend(['train', 'val'], loc='best')\n",
        "    plt.show()"
      ],
      "execution_count": 0,
      "outputs": []
    },
    {
      "cell_type": "code",
      "metadata": {
        "id": "YJMT4rjgfdZz",
        "colab_type": "code",
        "colab": {}
      },
      "source": [
        "def accuracy(test_x, test_y, model):\n",
        "    result = model.predict(test_x)\n",
        "    predicted_class = np.argmax(result, axis=1)\n",
        "    true_class = np.argmax(test_y, axis=1)\n",
        "    num_correct = np.sum(predicted_class == true_class) \n",
        "    accuracy = float(num_correct)/result.shape[0]\n",
        "    return (accuracy * 100)"
      ],
      "execution_count": 0,
      "outputs": []
    },
    {
      "cell_type": "code",
      "metadata": {
        "id": "T5c5nDvxm6zR",
        "colab_type": "code",
        "colab": {}
      },
      "source": [
        "train_features = train_features.astype('float32')/255\n",
        "test_features = test_features.astype('float32')/255\n",
        "# convert class labels to binary class labels\n",
        "train_labels = np_utils.to_categorical(train_labels, num_classes)\n",
        "test_labels = np_utils.to_categorical(test_labels, num_classes)"
      ],
      "execution_count": 0,
      "outputs": []
    },
    {
      "cell_type": "code",
      "metadata": {
        "id": "cSOb2lkJfhVq",
        "colab_type": "code",
        "colab": {
          "base_uri": "https://localhost:8080/",
          "height": 1000
        },
        "outputId": "c698c9dd-df72-4b84-e0a2-bbecf520d18b"
      },
      "source": [
        "from keras import regularizers\n",
        "weight_decay = 0.0005\n",
        "    \n",
        "model = Sequential()\n",
        "\n",
        "\n",
        "# first convolution block\n",
        "model.add(Convolution2D(32, (3, 3), padding='same',\n",
        "                         input_shape=[32,32,3],kernel_regularizer=regularizers.l2(weight_decay))) #32\n",
        "model.add(Activation('relu'))\n",
        "model.add(BatchNormalization())\n",
        "model.add(Dropout(0.15))\n",
        "\n",
        "model.add(Convolution2D(64, (3, 3), padding='same',kernel_regularizer=regularizers.l2(weight_decay))) #32\n",
        "model.add(Activation('relu'))\n",
        "model.add(BatchNormalization())\n",
        "model.add(Dropout(0.15))\n",
        "\n",
        "model.add(Convolution2D(64, (3, 3), padding='same',kernel_regularizer=regularizers.l2(weight_decay))) #32\n",
        "model.add(Activation('relu'))\n",
        "model.add(BatchNormalization())\n",
        "model.add(Dropout(0.15))\n",
        "\n",
        "# first transition block with bottlneck\n",
        "model.add(MaxPooling2D(pool_size=(2, 2)))   #16\n",
        "model.add(Convolution2D(32, 1, 1, activation='relu'))\n",
        "\n",
        "\n",
        "# second convolution block\n",
        "model.add(Convolution2D(128, (3, 3), padding='same',kernel_regularizer=regularizers.l2(weight_decay)))  #16\n",
        "model.add(Activation('relu'))\n",
        "model.add(BatchNormalization())\n",
        "model.add(Dropout(0.15))\n",
        "\n",
        "model.add(Convolution2D(128, (3, 3), padding='same',kernel_regularizer=regularizers.l2(weight_decay)))  #16\n",
        "model.add(Activation('relu'))\n",
        "model.add(BatchNormalization())\n",
        "model.add(Dropout(0.15))\n",
        "\n",
        "# second transition block with bottlneck\n",
        "model.add(MaxPooling2D(pool_size=(2, 2)))  #8\n",
        "model.add(Convolution2D(32, 1, 1, activation='relu'))\n",
        "\n",
        "# third convolution block\n",
        "model.add(Convolution2D(256, (3, 3), padding='same',kernel_regularizer=regularizers.l2(weight_decay)))  #8\n",
        "model.add(Activation('relu'))\n",
        "model.add(BatchNormalization())\n",
        "model.add(Dropout(0.15))\n",
        "\n",
        "model.add(Convolution2D(256, (3, 3), padding='same',kernel_regularizer=regularizers.l2(weight_decay)))  #8\n",
        "model.add(Activation('relu'))\n",
        "model.add(BatchNormalization())\n",
        "model.add(Dropout(0.15))\n",
        "\n",
        "model.add(Convolution2D(256, (3, 3), padding='same',kernel_regularizer=regularizers.l2(weight_decay)))   #18\n",
        "model.add(Activation('relu'))\n",
        "model.add(BatchNormalization())\n",
        "model.add(Dropout(0.15))\n",
        "\n",
        "# third transition block with bottlneck\n",
        "model.add(MaxPooling2D(pool_size=(2, 2)))   #4\n",
        "model.add(Convolution2D(32, 1, 1, activation='relu'))\n",
        "\n",
        "# fourth convolution block\n",
        "model.add(Convolution2D(256, (3, 3), padding='same',kernel_regularizer=regularizers.l2(weight_decay))) #4\n",
        "model.add(Activation('relu'))\n",
        "model.add(BatchNormalization())\n",
        "model.add(Dropout(0.15))\n",
        "\n",
        "model.add(Convolution2D(256, (3, 3), padding='same',kernel_regularizer=regularizers.l2(weight_decay))) #4\n",
        "model.add(Activation('relu'))\n",
        "model.add(BatchNormalization())\n",
        "model.add(Dropout(0.15))\n",
        "\n",
        "model.add(Convolution2D(256, (3, 3), padding='same',kernel_regularizer=regularizers.l2(weight_decay)))#4\n",
        "model.add(Activation('relu'))\n",
        "model.add(BatchNormalization())\n",
        "model.add(Dropout(0.15))\n",
        "\n",
        "# fourth transition block with bottlneck\n",
        "model.add(MaxPooling2D(pool_size=(2, 2))) #2\n",
        "model.add(Convolution2D(64, 1, 1, activation='relu'))\n",
        "\n",
        "\n",
        "# fifth convolution block\n",
        "model.add(Convolution2D(512, (3, 3), padding='same',kernel_regularizer=regularizers.l2(weight_decay)))  #2\n",
        "model.add(Activation('relu'))\n",
        "model.add(BatchNormalization())\n",
        "model.add(Dropout(0.15))\n",
        "\n",
        "model.add(Convolution2D(512, (3, 3), padding='same',kernel_regularizer=regularizers.l2(weight_decay)))  #2\n",
        "model.add(Activation('relu'))\n",
        "model.add(BatchNormalization())\n",
        "model.add(Dropout(0.15))\n",
        "\n",
        "# fifth transition block with bottlneck\n",
        "model.add(MaxPooling2D(pool_size=(2, 2)))   #1\n",
        "model.add(Convolution2D(32, 1, 1, activation='relu'))\n",
        "\n",
        "# final convolution block\n",
        "model.add(Convolution2D(512, (3, 3), padding='same',kernel_regularizer=regularizers.l2(weight_decay)))  #1\n",
        "model.add(Activation('relu'))\n",
        "model.add(BatchNormalization())\n",
        "model.add(Dropout(0.15))\n",
        "model.add(Convolution2D(512, (3, 3), padding='same',kernel_regularizer=regularizers.l2(weight_decay)))  #1\n",
        "model.add(Activation('relu'))\n",
        "model.add(BatchNormalization())\n",
        "model.add(Dropout(0.15))\n",
        "\n",
        "model.add(Convolution2D(10, (3, 3), padding='same'))\n",
        "\n",
        "# model.add(GlobalAveragePooling2D())\n",
        "model.add(Flatten())\n",
        "\n",
        "model.add(Activation('softmax'))\n",
        "model.summary()"
      ],
      "execution_count": 10,
      "outputs": [
        {
          "output_type": "stream",
          "text": [
            "WARNING: Logging before flag parsing goes to stderr.\n",
            "W0721 16:40:44.497615 140126747371392 deprecation_wrapper.py:119] From /usr/local/lib/python3.6/dist-packages/keras/backend/tensorflow_backend.py:74: The name tf.get_default_graph is deprecated. Please use tf.compat.v1.get_default_graph instead.\n",
            "\n",
            "W0721 16:40:44.533758 140126747371392 deprecation_wrapper.py:119] From /usr/local/lib/python3.6/dist-packages/keras/backend/tensorflow_backend.py:517: The name tf.placeholder is deprecated. Please use tf.compat.v1.placeholder instead.\n",
            "\n",
            "W0721 16:40:44.541641 140126747371392 deprecation_wrapper.py:119] From /usr/local/lib/python3.6/dist-packages/keras/backend/tensorflow_backend.py:4138: The name tf.random_uniform is deprecated. Please use tf.random.uniform instead.\n",
            "\n",
            "W0721 16:40:44.584463 140126747371392 deprecation_wrapper.py:119] From /usr/local/lib/python3.6/dist-packages/keras/backend/tensorflow_backend.py:174: The name tf.get_default_session is deprecated. Please use tf.compat.v1.get_default_session instead.\n",
            "\n",
            "W0721 16:40:44.585564 140126747371392 deprecation_wrapper.py:119] From /usr/local/lib/python3.6/dist-packages/keras/backend/tensorflow_backend.py:181: The name tf.ConfigProto is deprecated. Please use tf.compat.v1.ConfigProto instead.\n",
            "\n",
            "W0721 16:40:47.580307 140126747371392 deprecation_wrapper.py:119] From /usr/local/lib/python3.6/dist-packages/keras/backend/tensorflow_backend.py:1834: The name tf.nn.fused_batch_norm is deprecated. Please use tf.compat.v1.nn.fused_batch_norm instead.\n",
            "\n",
            "W0721 16:40:47.743172 140126747371392 deprecation.py:506] From /usr/local/lib/python3.6/dist-packages/keras/backend/tensorflow_backend.py:3445: calling dropout (from tensorflow.python.ops.nn_ops) with keep_prob is deprecated and will be removed in a future version.\n",
            "Instructions for updating:\n",
            "Please use `rate` instead of `keep_prob`. Rate should be set to `rate = 1 - keep_prob`.\n",
            "W0721 16:40:47.956855 140126747371392 deprecation_wrapper.py:119] From /usr/local/lib/python3.6/dist-packages/keras/backend/tensorflow_backend.py:3976: The name tf.nn.max_pool is deprecated. Please use tf.nn.max_pool2d instead.\n",
            "\n",
            "/usr/local/lib/python3.6/dist-packages/ipykernel_launcher.py:26: UserWarning: Update your `Conv2D` call to the Keras 2 API: `Conv2D(32, (1, 1), activation=\"relu\")`\n",
            "/usr/local/lib/python3.6/dist-packages/ipykernel_launcher.py:42: UserWarning: Update your `Conv2D` call to the Keras 2 API: `Conv2D(32, (1, 1), activation=\"relu\")`\n",
            "/usr/local/lib/python3.6/dist-packages/ipykernel_launcher.py:62: UserWarning: Update your `Conv2D` call to the Keras 2 API: `Conv2D(32, (1, 1), activation=\"relu\")`\n",
            "/usr/local/lib/python3.6/dist-packages/ipykernel_launcher.py:82: UserWarning: Update your `Conv2D` call to the Keras 2 API: `Conv2D(64, (1, 1), activation=\"relu\")`\n",
            "/usr/local/lib/python3.6/dist-packages/ipykernel_launcher.py:98: UserWarning: Update your `Conv2D` call to the Keras 2 API: `Conv2D(32, (1, 1), activation=\"relu\")`\n"
          ],
          "name": "stderr"
        },
        {
          "output_type": "stream",
          "text": [
            "_________________________________________________________________\n",
            "Layer (type)                 Output Shape              Param #   \n",
            "=================================================================\n",
            "conv2d_1 (Conv2D)            (None, 32, 32, 32)        896       \n",
            "_________________________________________________________________\n",
            "activation_1 (Activation)    (None, 32, 32, 32)        0         \n",
            "_________________________________________________________________\n",
            "batch_normalization_1 (Batch (None, 32, 32, 32)        128       \n",
            "_________________________________________________________________\n",
            "dropout_1 (Dropout)          (None, 32, 32, 32)        0         \n",
            "_________________________________________________________________\n",
            "conv2d_2 (Conv2D)            (None, 32, 32, 64)        18496     \n",
            "_________________________________________________________________\n",
            "activation_2 (Activation)    (None, 32, 32, 64)        0         \n",
            "_________________________________________________________________\n",
            "batch_normalization_2 (Batch (None, 32, 32, 64)        256       \n",
            "_________________________________________________________________\n",
            "dropout_2 (Dropout)          (None, 32, 32, 64)        0         \n",
            "_________________________________________________________________\n",
            "conv2d_3 (Conv2D)            (None, 32, 32, 64)        36928     \n",
            "_________________________________________________________________\n",
            "activation_3 (Activation)    (None, 32, 32, 64)        0         \n",
            "_________________________________________________________________\n",
            "batch_normalization_3 (Batch (None, 32, 32, 64)        256       \n",
            "_________________________________________________________________\n",
            "dropout_3 (Dropout)          (None, 32, 32, 64)        0         \n",
            "_________________________________________________________________\n",
            "max_pooling2d_1 (MaxPooling2 (None, 16, 16, 64)        0         \n",
            "_________________________________________________________________\n",
            "conv2d_4 (Conv2D)            (None, 16, 16, 32)        2080      \n",
            "_________________________________________________________________\n",
            "conv2d_5 (Conv2D)            (None, 16, 16, 128)       36992     \n",
            "_________________________________________________________________\n",
            "activation_4 (Activation)    (None, 16, 16, 128)       0         \n",
            "_________________________________________________________________\n",
            "batch_normalization_4 (Batch (None, 16, 16, 128)       512       \n",
            "_________________________________________________________________\n",
            "dropout_4 (Dropout)          (None, 16, 16, 128)       0         \n",
            "_________________________________________________________________\n",
            "conv2d_6 (Conv2D)            (None, 16, 16, 128)       147584    \n",
            "_________________________________________________________________\n",
            "activation_5 (Activation)    (None, 16, 16, 128)       0         \n",
            "_________________________________________________________________\n",
            "batch_normalization_5 (Batch (None, 16, 16, 128)       512       \n",
            "_________________________________________________________________\n",
            "dropout_5 (Dropout)          (None, 16, 16, 128)       0         \n",
            "_________________________________________________________________\n",
            "max_pooling2d_2 (MaxPooling2 (None, 8, 8, 128)         0         \n",
            "_________________________________________________________________\n",
            "conv2d_7 (Conv2D)            (None, 8, 8, 32)          4128      \n",
            "_________________________________________________________________\n",
            "conv2d_8 (Conv2D)            (None, 8, 8, 256)         73984     \n",
            "_________________________________________________________________\n",
            "activation_6 (Activation)    (None, 8, 8, 256)         0         \n",
            "_________________________________________________________________\n",
            "batch_normalization_6 (Batch (None, 8, 8, 256)         1024      \n",
            "_________________________________________________________________\n",
            "dropout_6 (Dropout)          (None, 8, 8, 256)         0         \n",
            "_________________________________________________________________\n",
            "conv2d_9 (Conv2D)            (None, 8, 8, 256)         590080    \n",
            "_________________________________________________________________\n",
            "activation_7 (Activation)    (None, 8, 8, 256)         0         \n",
            "_________________________________________________________________\n",
            "batch_normalization_7 (Batch (None, 8, 8, 256)         1024      \n",
            "_________________________________________________________________\n",
            "dropout_7 (Dropout)          (None, 8, 8, 256)         0         \n",
            "_________________________________________________________________\n",
            "conv2d_10 (Conv2D)           (None, 8, 8, 256)         590080    \n",
            "_________________________________________________________________\n",
            "activation_8 (Activation)    (None, 8, 8, 256)         0         \n",
            "_________________________________________________________________\n",
            "batch_normalization_8 (Batch (None, 8, 8, 256)         1024      \n",
            "_________________________________________________________________\n",
            "dropout_8 (Dropout)          (None, 8, 8, 256)         0         \n",
            "_________________________________________________________________\n",
            "max_pooling2d_3 (MaxPooling2 (None, 4, 4, 256)         0         \n",
            "_________________________________________________________________\n",
            "conv2d_11 (Conv2D)           (None, 4, 4, 32)          8224      \n",
            "_________________________________________________________________\n",
            "conv2d_12 (Conv2D)           (None, 4, 4, 256)         73984     \n",
            "_________________________________________________________________\n",
            "activation_9 (Activation)    (None, 4, 4, 256)         0         \n",
            "_________________________________________________________________\n",
            "batch_normalization_9 (Batch (None, 4, 4, 256)         1024      \n",
            "_________________________________________________________________\n",
            "dropout_9 (Dropout)          (None, 4, 4, 256)         0         \n",
            "_________________________________________________________________\n",
            "conv2d_13 (Conv2D)           (None, 4, 4, 256)         590080    \n",
            "_________________________________________________________________\n",
            "activation_10 (Activation)   (None, 4, 4, 256)         0         \n",
            "_________________________________________________________________\n",
            "batch_normalization_10 (Batc (None, 4, 4, 256)         1024      \n",
            "_________________________________________________________________\n",
            "dropout_10 (Dropout)         (None, 4, 4, 256)         0         \n",
            "_________________________________________________________________\n",
            "conv2d_14 (Conv2D)           (None, 4, 4, 256)         590080    \n",
            "_________________________________________________________________\n",
            "activation_11 (Activation)   (None, 4, 4, 256)         0         \n",
            "_________________________________________________________________\n",
            "batch_normalization_11 (Batc (None, 4, 4, 256)         1024      \n",
            "_________________________________________________________________\n",
            "dropout_11 (Dropout)         (None, 4, 4, 256)         0         \n",
            "_________________________________________________________________\n",
            "max_pooling2d_4 (MaxPooling2 (None, 2, 2, 256)         0         \n",
            "_________________________________________________________________\n",
            "conv2d_15 (Conv2D)           (None, 2, 2, 64)          16448     \n",
            "_________________________________________________________________\n",
            "conv2d_16 (Conv2D)           (None, 2, 2, 512)         295424    \n",
            "_________________________________________________________________\n",
            "activation_12 (Activation)   (None, 2, 2, 512)         0         \n",
            "_________________________________________________________________\n",
            "batch_normalization_12 (Batc (None, 2, 2, 512)         2048      \n",
            "_________________________________________________________________\n",
            "dropout_12 (Dropout)         (None, 2, 2, 512)         0         \n",
            "_________________________________________________________________\n",
            "conv2d_17 (Conv2D)           (None, 2, 2, 512)         2359808   \n",
            "_________________________________________________________________\n",
            "activation_13 (Activation)   (None, 2, 2, 512)         0         \n",
            "_________________________________________________________________\n",
            "batch_normalization_13 (Batc (None, 2, 2, 512)         2048      \n",
            "_________________________________________________________________\n",
            "dropout_13 (Dropout)         (None, 2, 2, 512)         0         \n",
            "_________________________________________________________________\n",
            "max_pooling2d_5 (MaxPooling2 (None, 1, 1, 512)         0         \n",
            "_________________________________________________________________\n",
            "conv2d_18 (Conv2D)           (None, 1, 1, 32)          16416     \n",
            "_________________________________________________________________\n",
            "conv2d_19 (Conv2D)           (None, 1, 1, 512)         147968    \n",
            "_________________________________________________________________\n",
            "activation_14 (Activation)   (None, 1, 1, 512)         0         \n",
            "_________________________________________________________________\n",
            "batch_normalization_14 (Batc (None, 1, 1, 512)         2048      \n",
            "_________________________________________________________________\n",
            "dropout_14 (Dropout)         (None, 1, 1, 512)         0         \n",
            "_________________________________________________________________\n",
            "conv2d_20 (Conv2D)           (None, 1, 1, 512)         2359808   \n",
            "_________________________________________________________________\n",
            "activation_15 (Activation)   (None, 1, 1, 512)         0         \n",
            "_________________________________________________________________\n",
            "batch_normalization_15 (Batc (None, 1, 1, 512)         2048      \n",
            "_________________________________________________________________\n",
            "dropout_15 (Dropout)         (None, 1, 1, 512)         0         \n",
            "_________________________________________________________________\n",
            "conv2d_21 (Conv2D)           (None, 1, 1, 10)          46090     \n",
            "_________________________________________________________________\n",
            "flatten_1 (Flatten)          (None, 10)                0         \n",
            "_________________________________________________________________\n",
            "activation_16 (Activation)   (None, 10)                0         \n",
            "=================================================================\n",
            "Total params: 8,021,578\n",
            "Trainable params: 8,013,578\n",
            "Non-trainable params: 8,000\n",
            "_________________________________________________________________\n"
          ],
          "name": "stdout"
        }
      ]
    },
    {
      "cell_type": "code",
      "metadata": {
        "id": "ff9_fAECKmo9",
        "colab_type": "code",
        "colab": {
          "base_uri": "https://localhost:8080/",
          "height": 71
        },
        "outputId": "b3eb57a1-f406-42d1-ca28-95c7dab88325"
      },
      "source": [
        "from keras.optimizers import adam\n",
        "adam = adam(lr=0.01, beta_1=0.9, beta_2=0.999, epsilon=1e-8,decay=0.005)\n",
        "model.compile(loss='categorical_crossentropy',\n",
        "             optimizer=adam,\n",
        "             metrics=['accuracy'])"
      ],
      "execution_count": 11,
      "outputs": [
        {
          "output_type": "stream",
          "text": [
            "W0721 16:40:52.450437 140126747371392 deprecation_wrapper.py:119] From /usr/local/lib/python3.6/dist-packages/keras/optimizers.py:790: The name tf.train.Optimizer is deprecated. Please use tf.compat.v1.train.Optimizer instead.\n",
            "\n"
          ],
          "name": "stderr"
        }
      ]
    },
    {
      "cell_type": "markdown",
      "metadata": {
        "id": "FeM9olujkXlf",
        "colab_type": "text"
      },
      "source": [
        "### cutout\n",
        "Image augmentation incudes cutout, resulting in 1.5% improvement in validation accuracy.\n",
        "I am saving this model, to be used for calculating grad-CAM.\n"
      ]
    },
    {
      "cell_type": "code",
      "metadata": {
        "id": "5oK_V7WyfsXX",
        "colab_type": "code",
        "colab": {
          "base_uri": "https://localhost:8080/",
          "height": 1000
        },
        "outputId": "f274c1f3-589a-496e-c1c5-0a511f49b93b"
      },
      "source": [
        "from keras.preprocessing.image import ImageDataGenerator\n",
        "random_erasing = True\n",
        "pixel_level = False\n",
        "\n",
        "datagen = ImageDataGenerator(featurewise_center=True,featurewise_std_normalization=True,\n",
        "                            preprocessing_function=get_random_eraser(v_l=0, v_h=1, pixel_level=pixel_level))\n",
        "\n",
        "filepath=\"/content/gdrive/My Drive/epochs:{epoch:03d}-val_acc:{val_acc:.3f}.hdf5\"\n",
        "\n",
        "earlyStopping = EarlyStopping(monitor='val_loss', patience=10, verbose=0, mode='min')\n",
        "mcp_save = ModelCheckpoint(filepath, save_best_only=True,verbose=1, monitor='val_loss', mode='min')\n",
        "reduce_lr_loss = ReduceLROnPlateau(monitor='val_loss', factor=0.1, patience=7, verbose=1, epsilon=1e-4, mode='min')\n",
        "\n",
        "# train the model\n",
        "start = time.time()\n",
        "# Train the model\n",
        "model_info = model.fit_generator(datagen.flow(train_features, train_labels, batch_size = 128),\n",
        "                                 samples_per_epoch = train_features.shape[0], nb_epoch = 100, \n",
        "                                 callbacks = [earlyStopping, mcp_save, reduce_lr_loss],\n",
        "                                 validation_data = (test_features, test_labels), verbose=1)\n",
        "end = time.time()\n",
        "print (\"Model took %0.2f seconds to train\"%(end - start))\n",
        "# plot model history\n",
        "plot_model_history(model_info)\n",
        "# compute test accuracy\n",
        "print (\"Accuracy on test data is: %0.2f\"%accuracy(test_features, test_labels, model))"
      ],
      "execution_count": 12,
      "outputs": [
        {
          "output_type": "stream",
          "text": [
            "/usr/local/lib/python3.6/dist-packages/keras/callbacks.py:1065: UserWarning: `epsilon` argument is deprecated and will be removed, use `min_delta` instead.\n",
            "  warnings.warn('`epsilon` argument is deprecated and '\n",
            "/usr/local/lib/python3.6/dist-packages/ipykernel_launcher.py:20: UserWarning: The semantics of the Keras 2 argument `steps_per_epoch` is not the same as the Keras 1 argument `samples_per_epoch`. `steps_per_epoch` is the number of batches to draw from the generator at each epoch. Basically steps_per_epoch = samples_per_epoch/batch_size. Similarly `nb_val_samples`->`validation_steps` and `val_samples`->`steps` arguments have changed. Update your method calls accordingly.\n",
            "/usr/local/lib/python3.6/dist-packages/ipykernel_launcher.py:20: UserWarning: Update your `fit_generator` call to the Keras 2 API: `fit_generator(<keras_pre..., callbacks=[<keras.ca..., validation_data=(array([[[..., verbose=1, steps_per_epoch=390, epochs=100)`\n",
            "W0721 16:40:58.640244 140126747371392 deprecation.py:323] From /usr/local/lib/python3.6/dist-packages/tensorflow/python/ops/math_grad.py:1250: add_dispatch_support.<locals>.wrapper (from tensorflow.python.ops.array_ops) is deprecated and will be removed in a future version.\n",
            "Instructions for updating:\n",
            "Use tf.where in 2.0, which has the same broadcast rule as np.where\n"
          ],
          "name": "stderr"
        },
        {
          "output_type": "stream",
          "text": [
            "Epoch 1/100\n"
          ],
          "name": "stdout"
        },
        {
          "output_type": "stream",
          "text": [
            "/usr/local/lib/python3.6/dist-packages/keras_preprocessing/image/image_data_generator.py:716: UserWarning: This ImageDataGenerator specifies `featurewise_center`, but it hasn't been fit on any training data. Fit it first by calling `.fit(numpy_data)`.\n",
            "  warnings.warn('This ImageDataGenerator specifies '\n",
            "/usr/local/lib/python3.6/dist-packages/keras_preprocessing/image/image_data_generator.py:724: UserWarning: This ImageDataGenerator specifies `featurewise_std_normalization`, but it hasn't been fit on any training data. Fit it first by calling `.fit(numpy_data)`.\n",
            "  warnings.warn('This ImageDataGenerator specifies '\n"
          ],
          "name": "stderr"
        },
        {
          "output_type": "stream",
          "text": [
            "390/390 [==============================] - 45s 116ms/step - loss: 5.1153 - acc: 0.2060 - val_loss: 3.3941 - val_acc: 0.1038\n",
            "\n",
            "Epoch 00001: val_loss improved from inf to 3.39409, saving model to /content/gdrive/My Drive/epochs:001-val_acc:0.104.hdf5\n",
            "Epoch 2/100\n",
            "390/390 [==============================] - 38s 97ms/step - loss: 2.5683 - acc: 0.2839 - val_loss: 2.7085 - val_acc: 0.1573\n",
            "\n",
            "Epoch 00002: val_loss improved from 3.39409 to 2.70845, saving model to /content/gdrive/My Drive/epochs:002-val_acc:0.157.hdf5\n",
            "Epoch 3/100\n",
            "390/390 [==============================] - 36s 92ms/step - loss: 2.1189 - acc: 0.3308 - val_loss: 2.2811 - val_acc: 0.2737\n",
            "\n",
            "Epoch 00003: val_loss improved from 2.70845 to 2.28111, saving model to /content/gdrive/My Drive/epochs:003-val_acc:0.274.hdf5\n",
            "Epoch 4/100\n",
            "390/390 [==============================] - 36s 92ms/step - loss: 1.9268 - acc: 0.3828 - val_loss: 2.1937 - val_acc: 0.3379\n",
            "\n",
            "Epoch 00004: val_loss improved from 2.28111 to 2.19373, saving model to /content/gdrive/My Drive/epochs:004-val_acc:0.338.hdf5\n",
            "Epoch 5/100\n",
            "390/390 [==============================] - 36s 92ms/step - loss: 1.7237 - acc: 0.4661 - val_loss: 1.9232 - val_acc: 0.4053\n",
            "\n",
            "Epoch 00005: val_loss improved from 2.19373 to 1.92325, saving model to /content/gdrive/My Drive/epochs:005-val_acc:0.405.hdf5\n",
            "Epoch 6/100\n",
            "390/390 [==============================] - 36s 92ms/step - loss: 1.5496 - acc: 0.5411 - val_loss: 1.6636 - val_acc: 0.5099\n",
            "\n",
            "Epoch 00006: val_loss improved from 1.92325 to 1.66362, saving model to /content/gdrive/My Drive/epochs:006-val_acc:0.510.hdf5\n",
            "Epoch 7/100\n",
            "390/390 [==============================] - 36s 92ms/step - loss: 1.4144 - acc: 0.5974 - val_loss: 1.7995 - val_acc: 0.4822\n",
            "\n",
            "Epoch 00007: val_loss did not improve from 1.66362\n",
            "Epoch 8/100\n",
            "390/390 [==============================] - 36s 92ms/step - loss: 1.3073 - acc: 0.6405 - val_loss: 1.6368 - val_acc: 0.5594\n",
            "\n",
            "Epoch 00008: val_loss improved from 1.66362 to 1.63683, saving model to /content/gdrive/My Drive/epochs:008-val_acc:0.559.hdf5\n",
            "Epoch 9/100\n",
            "390/390 [==============================] - 36s 92ms/step - loss: 1.2110 - acc: 0.6758 - val_loss: 1.2041 - val_acc: 0.6837\n",
            "\n",
            "Epoch 00009: val_loss improved from 1.63683 to 1.20412, saving model to /content/gdrive/My Drive/epochs:009-val_acc:0.684.hdf5\n",
            "Epoch 10/100\n",
            "390/390 [==============================] - 36s 93ms/step - loss: 1.1322 - acc: 0.7064 - val_loss: 1.1400 - val_acc: 0.7050\n",
            "\n",
            "Epoch 00010: val_loss improved from 1.20412 to 1.13998, saving model to /content/gdrive/My Drive/epochs:010-val_acc:0.705.hdf5\n",
            "Epoch 11/100\n",
            "390/390 [==============================] - 36s 92ms/step - loss: 1.0715 - acc: 0.7269 - val_loss: 1.1191 - val_acc: 0.7151\n",
            "\n",
            "Epoch 00011: val_loss improved from 1.13998 to 1.11913, saving model to /content/gdrive/My Drive/epochs:011-val_acc:0.715.hdf5\n",
            "Epoch 12/100\n",
            "390/390 [==============================] - 36s 92ms/step - loss: 1.0263 - acc: 0.7459 - val_loss: 1.4381 - val_acc: 0.6607\n",
            "\n",
            "Epoch 00012: val_loss did not improve from 1.11913\n",
            "Epoch 13/100\n",
            "390/390 [==============================] - 36s 92ms/step - loss: 0.9811 - acc: 0.7617 - val_loss: 1.1905 - val_acc: 0.7091\n",
            "\n",
            "Epoch 00013: val_loss did not improve from 1.11913\n",
            "Epoch 14/100\n",
            "390/390 [==============================] - 36s 92ms/step - loss: 0.9285 - acc: 0.7801 - val_loss: 0.9197 - val_acc: 0.7864\n",
            "\n",
            "Epoch 00014: val_loss improved from 1.11913 to 0.91966, saving model to /content/gdrive/My Drive/epochs:014-val_acc:0.786.hdf5\n",
            "Epoch 15/100\n",
            "390/390 [==============================] - 36s 92ms/step - loss: 0.8889 - acc: 0.7922 - val_loss: 0.8986 - val_acc: 0.8024\n",
            "\n",
            "Epoch 00015: val_loss improved from 0.91966 to 0.89860, saving model to /content/gdrive/My Drive/epochs:015-val_acc:0.802.hdf5\n",
            "Epoch 16/100\n",
            "390/390 [==============================] - 36s 92ms/step - loss: 0.8569 - acc: 0.8030 - val_loss: 0.9988 - val_acc: 0.7705\n",
            "\n",
            "Epoch 00016: val_loss did not improve from 0.89860\n",
            "Epoch 17/100\n",
            "390/390 [==============================] - 36s 92ms/step - loss: 0.8179 - acc: 0.8157 - val_loss: 0.9340 - val_acc: 0.7862\n",
            "\n",
            "Epoch 00017: val_loss did not improve from 0.89860\n",
            "Epoch 18/100\n",
            "390/390 [==============================] - 36s 93ms/step - loss: 0.7901 - acc: 0.8256 - val_loss: 0.8632 - val_acc: 0.8117\n",
            "\n",
            "Epoch 00018: val_loss improved from 0.89860 to 0.86322, saving model to /content/gdrive/My Drive/epochs:018-val_acc:0.812.hdf5\n",
            "Epoch 19/100\n",
            "390/390 [==============================] - 36s 92ms/step - loss: 0.7697 - acc: 0.8317 - val_loss: 0.8428 - val_acc: 0.8138\n",
            "\n",
            "Epoch 00019: val_loss improved from 0.86322 to 0.84276, saving model to /content/gdrive/My Drive/epochs:019-val_acc:0.814.hdf5\n",
            "Epoch 20/100\n",
            "390/390 [==============================] - 36s 92ms/step - loss: 0.7422 - acc: 0.8393 - val_loss: 0.9864 - val_acc: 0.7721\n",
            "\n",
            "Epoch 00020: val_loss did not improve from 0.84276\n",
            "Epoch 21/100\n",
            "390/390 [==============================] - 36s 92ms/step - loss: 0.7221 - acc: 0.8465 - val_loss: 0.8767 - val_acc: 0.8043\n",
            "\n",
            "Epoch 00021: val_loss did not improve from 0.84276\n",
            "Epoch 22/100\n",
            "390/390 [==============================] - 36s 92ms/step - loss: 0.6985 - acc: 0.8524 - val_loss: 0.8492 - val_acc: 0.8177\n",
            "\n",
            "Epoch 00022: val_loss did not improve from 0.84276\n",
            "Epoch 23/100\n",
            "390/390 [==============================] - 36s 92ms/step - loss: 0.6784 - acc: 0.8604 - val_loss: 0.9011 - val_acc: 0.8089\n",
            "\n",
            "Epoch 00023: val_loss did not improve from 0.84276\n",
            "Epoch 24/100\n",
            "390/390 [==============================] - 36s 93ms/step - loss: 0.6598 - acc: 0.8658 - val_loss: 0.7961 - val_acc: 0.8270\n",
            "\n",
            "Epoch 00024: val_loss improved from 0.84276 to 0.79609, saving model to /content/gdrive/My Drive/epochs:024-val_acc:0.827.hdf5\n",
            "Epoch 25/100\n",
            "390/390 [==============================] - 36s 92ms/step - loss: 0.6496 - acc: 0.8680 - val_loss: 0.7240 - val_acc: 0.8499\n",
            "\n",
            "Epoch 00025: val_loss improved from 0.79609 to 0.72398, saving model to /content/gdrive/My Drive/epochs:025-val_acc:0.850.hdf5\n",
            "Epoch 26/100\n",
            "390/390 [==============================] - 36s 92ms/step - loss: 0.6239 - acc: 0.8776 - val_loss: 0.8767 - val_acc: 0.8080\n",
            "\n",
            "Epoch 00026: val_loss did not improve from 0.72398\n",
            "Epoch 27/100\n",
            "390/390 [==============================] - 36s 92ms/step - loss: 0.6122 - acc: 0.8798 - val_loss: 0.7351 - val_acc: 0.8451\n",
            "\n",
            "Epoch 00027: val_loss did not improve from 0.72398\n",
            "Epoch 28/100\n",
            "390/390 [==============================] - 36s 92ms/step - loss: 0.5985 - acc: 0.8848 - val_loss: 0.7749 - val_acc: 0.8336\n",
            "\n",
            "Epoch 00028: val_loss did not improve from 0.72398\n",
            "Epoch 29/100\n",
            "390/390 [==============================] - 36s 92ms/step - loss: 0.5873 - acc: 0.8884 - val_loss: 0.8165 - val_acc: 0.8267\n",
            "\n",
            "Epoch 00029: val_loss did not improve from 0.72398\n",
            "Epoch 30/100\n",
            "390/390 [==============================] - 36s 92ms/step - loss: 0.5691 - acc: 0.8942 - val_loss: 0.9069 - val_acc: 0.8147\n",
            "\n",
            "Epoch 00030: val_loss did not improve from 0.72398\n",
            "Epoch 31/100\n",
            "390/390 [==============================] - 36s 92ms/step - loss: 0.5565 - acc: 0.8969 - val_loss: 0.8154 - val_acc: 0.8379\n",
            "\n",
            "Epoch 00031: val_loss did not improve from 0.72398\n",
            "Epoch 32/100\n",
            "390/390 [==============================] - 36s 92ms/step - loss: 0.5521 - acc: 0.8984 - val_loss: 0.7591 - val_acc: 0.8459\n",
            "\n",
            "Epoch 00032: val_loss did not improve from 0.72398\n",
            "\n",
            "Epoch 00032: ReduceLROnPlateau reducing learning rate to 0.0009999999776482583.\n",
            "Epoch 33/100\n",
            "390/390 [==============================] - 36s 92ms/step - loss: 0.4927 - acc: 0.9189 - val_loss: 0.7110 - val_acc: 0.8579\n",
            "\n",
            "Epoch 00033: val_loss improved from 0.72398 to 0.71103, saving model to /content/gdrive/My Drive/epochs:033-val_acc:0.858.hdf5\n",
            "Epoch 34/100\n",
            "390/390 [==============================] - 36s 91ms/step - loss: 0.4729 - acc: 0.9237 - val_loss: 0.6948 - val_acc: 0.8609\n",
            "\n",
            "Epoch 00034: val_loss improved from 0.71103 to 0.69475, saving model to /content/gdrive/My Drive/epochs:034-val_acc:0.861.hdf5\n",
            "Epoch 35/100\n",
            "390/390 [==============================] - 36s 92ms/step - loss: 0.4670 - acc: 0.9251 - val_loss: 0.6924 - val_acc: 0.8612\n",
            "\n",
            "Epoch 00035: val_loss improved from 0.69475 to 0.69243, saving model to /content/gdrive/My Drive/epochs:035-val_acc:0.861.hdf5\n",
            "Epoch 36/100\n",
            "390/390 [==============================] - 36s 92ms/step - loss: 0.4566 - acc: 0.9283 - val_loss: 0.6863 - val_acc: 0.8644\n",
            "\n",
            "Epoch 00036: val_loss improved from 0.69243 to 0.68627, saving model to /content/gdrive/My Drive/epochs:036-val_acc:0.864.hdf5\n",
            "Epoch 37/100\n",
            "390/390 [==============================] - 36s 93ms/step - loss: 0.4534 - acc: 0.9298 - val_loss: 0.6882 - val_acc: 0.8622\n",
            "\n",
            "Epoch 00037: val_loss did not improve from 0.68627\n",
            "Epoch 38/100\n",
            "390/390 [==============================] - 36s 92ms/step - loss: 0.4462 - acc: 0.9323 - val_loss: 0.6859 - val_acc: 0.8630\n",
            "\n",
            "Epoch 00038: val_loss improved from 0.68627 to 0.68590, saving model to /content/gdrive/My Drive/epochs:038-val_acc:0.863.hdf5\n",
            "Epoch 39/100\n",
            "390/390 [==============================] - 36s 93ms/step - loss: 0.4456 - acc: 0.9301 - val_loss: 0.6928 - val_acc: 0.8636\n",
            "\n",
            "Epoch 00039: val_loss did not improve from 0.68590\n",
            "Epoch 40/100\n",
            "390/390 [==============================] - 36s 92ms/step - loss: 0.4365 - acc: 0.9340 - val_loss: 0.6831 - val_acc: 0.8644\n",
            "\n",
            "Epoch 00040: val_loss improved from 0.68590 to 0.68307, saving model to /content/gdrive/My Drive/epochs:040-val_acc:0.864.hdf5\n",
            "Epoch 41/100\n",
            "390/390 [==============================] - 36s 91ms/step - loss: 0.4359 - acc: 0.9333 - val_loss: 0.6771 - val_acc: 0.8651\n",
            "\n",
            "Epoch 00041: val_loss improved from 0.68307 to 0.67710, saving model to /content/gdrive/My Drive/epochs:041-val_acc:0.865.hdf5\n",
            "Epoch 42/100\n",
            "390/390 [==============================] - 36s 92ms/step - loss: 0.4368 - acc: 0.9331 - val_loss: 0.6895 - val_acc: 0.8626\n",
            "\n",
            "Epoch 00042: val_loss did not improve from 0.67710\n",
            "Epoch 43/100\n",
            "390/390 [==============================] - 36s 93ms/step - loss: 0.4297 - acc: 0.9345 - val_loss: 0.6821 - val_acc: 0.8644\n",
            "\n",
            "Epoch 00043: val_loss did not improve from 0.67710\n",
            "Epoch 44/100\n",
            "390/390 [==============================] - 36s 92ms/step - loss: 0.4254 - acc: 0.9362 - val_loss: 0.6802 - val_acc: 0.8650\n",
            "\n",
            "Epoch 00044: val_loss did not improve from 0.67710\n",
            "Epoch 45/100\n",
            "390/390 [==============================] - 36s 92ms/step - loss: 0.4210 - acc: 0.9388 - val_loss: 0.6857 - val_acc: 0.8652\n",
            "\n",
            "Epoch 00045: val_loss did not improve from 0.67710\n",
            "Epoch 46/100\n",
            "390/390 [==============================] - 36s 91ms/step - loss: 0.4204 - acc: 0.9386 - val_loss: 0.6945 - val_acc: 0.8630\n",
            "\n",
            "Epoch 00046: val_loss did not improve from 0.67710\n",
            "Epoch 47/100\n",
            "390/390 [==============================] - 36s 92ms/step - loss: 0.4229 - acc: 0.9363 - val_loss: 0.6888 - val_acc: 0.8642\n",
            "\n",
            "Epoch 00047: val_loss did not improve from 0.67710\n",
            "Epoch 48/100\n",
            "390/390 [==============================] - 36s 91ms/step - loss: 0.4172 - acc: 0.9373 - val_loss: 0.6864 - val_acc: 0.8654\n",
            "\n",
            "Epoch 00048: val_loss did not improve from 0.67710\n",
            "\n",
            "Epoch 00048: ReduceLROnPlateau reducing learning rate to 9.999999310821295e-05.\n",
            "Epoch 49/100\n",
            "390/390 [==============================] - 36s 92ms/step - loss: 0.4158 - acc: 0.9374 - val_loss: 0.6832 - val_acc: 0.8646\n",
            "\n",
            "Epoch 00049: val_loss did not improve from 0.67710\n",
            "Epoch 50/100\n",
            "390/390 [==============================] - 36s 92ms/step - loss: 0.4164 - acc: 0.9379 - val_loss: 0.6829 - val_acc: 0.8645\n",
            "\n",
            "Epoch 00050: val_loss did not improve from 0.67710\n",
            "Epoch 51/100\n",
            "390/390 [==============================] - 36s 91ms/step - loss: 0.4105 - acc: 0.9402 - val_loss: 0.6860 - val_acc: 0.8646\n",
            "\n",
            "Epoch 00051: val_loss did not improve from 0.67710\n",
            "Model took 1859.36 seconds to train\n"
          ],
          "name": "stdout"
        },
        {
          "output_type": "display_data",
          "data": {
            "image/png": "[encoded data removed]",
            "text/plain": [
              "<Figure size 1080x360 with 2 Axes>"
            ]
          },
          "metadata": {
            "tags": []
          }
        },
        {
          "output_type": "stream",
          "text": [
            "Accuracy on test data is: 86.46\n"
          ],
          "name": "stdout"
        }
      ]
    },
    {
      "cell_type": "code",
      "metadata": {
        "id": "M1k93xgNA-6K",
        "colab_type": "code",
        "colab": {}
      },
      "source": [
        "from keras.applications.vgg16 import VGG16, preprocess_input, decode_predictions\n",
        "from keras.preprocessing import image\n",
        "import keras.backend as K\n",
        "import numpy as np\n",
        "import cv2\n",
        "import sys\n",
        "from google.colab.patches import cv2_imshow"
      ],
      "execution_count": 0,
      "outputs": []
    },
    {
      "cell_type": "code",
      "metadata": {
        "id": "l8eZ5BSJfJth",
        "colab_type": "code",
        "colab": {}
      },
      "source": [
        "# (train_data, train_labels), (test_data, test_labels) = cifar10.load_data()"
      ],
      "execution_count": 0,
      "outputs": []
    },
    {
      "cell_type": "code",
      "metadata": {
        "id": "V_g8w3AHY0ah",
        "colab_type": "code",
        "colab": {}
      },
      "source": [
        "# # model = VGG16(weights=\"imagenet\")\n",
        "# # img_path = \"car.jpeg\"\n",
        "# # img = image.load_img(img_path, target_size=(224, 224))\n",
        "# # x = image.img_to_array(img)\n",
        "# num = 55\n",
        "# x = test_data[num]\n",
        "# print(np.shape(x))\n",
        "# x = image.img_to_array(x)\n",
        "# x = np.expand_dims(x, axis=0)\n",
        "# x = preprocess_input(x)\n",
        "\n",
        "# print(np.shape(x))\n",
        "# print(x.dtype)"
      ],
      "execution_count": 0,
      "outputs": []
    },
    {
      "cell_type": "code",
      "metadata": {
        "id": "Ww0ZGcOpZFmh",
        "colab_type": "code",
        "colab": {}
      },
      "source": [
        "# preds = model.predict(x)\n",
        "# print(np.shape(preds))\n",
        "# class_idx = np.argmax(preds[0])\n",
        "# class_output = model.output[:, class_idx]\n",
        "# print(class_output)\n",
        "# last_conv_layer = model.get_layer(\"conv2d_83\")\n",
        "# print(last_conv_layer)"
      ],
      "execution_count": 0,
      "outputs": []
    },
    {
      "cell_type": "code",
      "metadata": {
        "id": "CWQ9MMaAZS6r",
        "colab_type": "code",
        "colab": {}
      },
      "source": [
        "# grads = K.gradients(class_output, last_conv_layer.output)[0]\n",
        "# pooled_grads = K.mean(grads, axis=(0, 1, 2))\n",
        "# iterate = K.function([model.input], [pooled_grads, last_conv_layer.output[0]])\n",
        "# pooled_grads_value, conv_layer_output_value = iterate([x])\n",
        "# # print(np.shape(conv_layer_output_value))\n",
        "# for i in range(256):\n",
        "# #     print(i)\n",
        "#     conv_layer_output_value[:, :, i] *= pooled_grads_value[i]"
      ],
      "execution_count": 0,
      "outputs": []
    },
    {
      "cell_type": "code",
      "metadata": {
        "id": "QInkBCxcZgHm",
        "colab_type": "code",
        "colab": {}
      },
      "source": [
        "# print(np.shape(conv_layer_output_value))\n",
        "# heatmap = np.mean(conv_layer_output_value, axis=-1)\n",
        "# print(np.shape(heatmap))\n",
        "# heatmap = np.maximum(heatmap, 0)\n",
        "# heatmap /= np.max(heatmap)"
      ],
      "execution_count": 0,
      "outputs": []
    },
    {
      "cell_type": "code",
      "metadata": {
        "id": "Rq6SK-gKZm-w",
        "colab_type": "code",
        "colab": {}
      },
      "source": [
        "# # from google.colab.patches import cv2_imshow\n",
        "# import matplotlib.pyplot as plt\n",
        "\n",
        "# %matplotlib inline\n",
        "\n",
        "# # img = cv2.imread(img_path)\n",
        "# org = test_features[num]\n",
        "# img = test_features[num].astype(np.uint8)\n",
        "# heatmap = cv2.resize(heatmap, (img.shape[1], img.shape[0]))\n",
        "# print(np.shape(heatmap),heatmap.dtype)\n",
        "# heatmap = np.uint8(255 * heatmap)\n",
        "# # heatmap = np.float32(255 * heatmap)\n",
        "# print(np.shape(heatmap))\n",
        "# heatmap = cv2.applyColorMap(heatmap, cv2.COLORMAP_JET)\n",
        "# print(np.shape(heatmap),np.shape(img),type(img),type(heatmap))\n",
        "# print(img.dtype,heatmap.dtype)\n",
        "# # img = img.astype(np.uint8)\n",
        "# print(img.dtype,heatmap.dtype)\n",
        "# superimposed_img = cv2.addWeighted(img, 0.6, heatmap, 0.4, 0)\n",
        "# # cv2.imshow(\"Original\", img)\n",
        "# # cv2.imshow(\"GradCam\", superimposed_img)\n",
        "# # cv2.waitKey(0)\n",
        "# # display images\n",
        "# fig, ax = plt.subplots(1,2)\n",
        "# ax[0].imshow(org)\n",
        "# ax[1].imshow(superimposed_img)\n",
        "# # plt.imshow(superimposed_img)\n",
        "# # plt.show()"
      ],
      "execution_count": 0,
      "outputs": []
    },
    {
      "cell_type": "code",
      "metadata": {
        "id": "qs0mn684kNi6",
        "colab_type": "code",
        "colab": {}
      },
      "source": [
        "# # from google.colab.patches import cv2_imshow\n",
        "# import matplotlib.pyplot as plt\n",
        "\n",
        "# %matplotlib inline\n",
        "\n",
        "# # img = cv2.imread(img_path)\n",
        "# org = test_features[num]\n",
        "# img = test_features[num].astype(np.uint8)\n",
        "# heatmap = cv2.resize(heatmap, (img.shape[1], img.shape[0]))\n",
        "# heatmap = np.uint8(255 * heatmap)\n",
        "# # heatmap = np.float32(255 * heatmap)\n",
        "# heatmap = cv2.applyColorMap(heatmap, cv2.COLORMAP_JET)\n",
        "# print(img.dtype,heatmap.dtype)\n",
        "# # img = img.astype(np.uint8)\n",
        "# print(img.dtype,heatmap.dtype)\n",
        "# print(type(img),type(heatmap))\n",
        "# superimposed_img = cv2.addWeighted(img, 0.6, heatmap, 0.4, 0)\n",
        "# superimposed_img11 = cv2.addWeighted(img, 1, heatmap, 0, 0)\n",
        "# superimposed_img22 = cv2.addWeighted(img, 0, heatmap, 1, 0)\n",
        "# print(superimposed_img.dtype)\n",
        "# superimposed_img = superimposed_img.astype(np.float32)\n",
        "# # display images\n",
        "# fig, ax = plt.subplots(1,4)\n",
        "# ax[0].imshow(org)\n",
        "# ax[1].imshow(superimposed_img)\n",
        "# ax[2].imshow(superimposed_img11)\n",
        "# ax[3].imshow(superimposed_img22)\n",
        "# # plt.imshow(superimposed_img)\n",
        "# # plt.show()"
      ],
      "execution_count": 0,
      "outputs": []
    },
    {
      "cell_type": "code",
      "metadata": {
        "id": "jeDRNLuon6rm",
        "colab_type": "code",
        "colab": {
          "resources": {
            "http://localhost:8080/nbextensions/google.colab/files.js": {
              "data": "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",
              "ok": true,
              "headers": [
                [
                  "content-type",
                  "application/javascript"
                ]
              ],
              "status": 200,
              "status_text": ""
            }
          },
          "base_uri": "https://localhost:8080/",
          "height": 54
        },
        "outputId": "78ec240f-5718-4b0e-e9e8-d6efae04d01c"
      },
      "source": [
        "from google.colab import files\n",
        "files.upload()"
      ],
      "execution_count": 21,
      "outputs": [
        {
          "output_type": "display_data",
          "data": {
            "text/html": [
              "\n",
              "     <input type=\"file\" id=\"files-4631c71e-b993-43a2-85c2-674a9f63acb5\" name=\"files[]\" multiple disabled />\n",
              "     <output id=\"result-4631c71e-b993-43a2-85c2-674a9f63acb5\">\n",
              "      Upload widget is only available when the cell has been executed in the\n",
              "      current browser session. Please rerun this cell to enable.\n",
              "      </output>\n",
              "      <script src=\"/nbextensions/google.colab/files.js\"></script> "
            ],
            "text/plain": [
              "<IPython.core.display.HTML object>"
            ]
          },
          "metadata": {
            "tags": []
          }
        },
        {
          "output_type": "execute_result",
          "data": {
            "text/plain": [
              "{}"
            ]
          },
          "metadata": {
            "tags": []
          },
          "execution_count": 21
        }
      ]
    },
    {
      "cell_type": "code",
      "metadata": {
        "id": "QF-dw4g5oVKh",
        "colab_type": "code",
        "colab": {}
      },
      "source": [
        "# img_path = \"dog.jpg\"\n",
        "# img = image.load_img(img_path, target_size=(32, 32))\n",
        "img = test_features[3]\n",
        "x = image.img_to_array(img)\n",
        "x = np.expand_dims(x, axis=0)\n",
        "x = preprocess_input(x)"
      ],
      "execution_count": 0,
      "outputs": []
    },
    {
      "cell_type": "code",
      "metadata": {
        "id": "OMzBxwcAopgY",
        "colab_type": "code",
        "colab": {
          "base_uri": "https://localhost:8080/",
          "height": 317
        },
        "outputId": "2e2aa89c-461c-46f1-8ade-5f6c93f98289"
      },
      "source": [
        "preds = model.predict(x)\n",
        "class_idx = np.argmax(preds[0])\n",
        "class_output = model.output[:, class_idx]\n",
        "last_conv_layer = model.get_layer(\"conv2d_146\")"
      ],
      "execution_count": 23,
      "outputs": [
        {
          "output_type": "error",
          "ename": "ValueError",
          "evalue": "ignored",
          "traceback": [
            "\u001b[0;31m---------------------------------------------------------------------------\u001b[0m",
            "\u001b[0;31mValueError\u001b[0m                                Traceback (most recent call last)",
            "\u001b[0;32m<ipython-input-23-1927a98583f8>\u001b[0m in \u001b[0;36m<module>\u001b[0;34m()\u001b[0m\n\u001b[1;32m      2\u001b[0m \u001b[0mclass_idx\u001b[0m \u001b[0;34m=\u001b[0m \u001b[0mnp\u001b[0m\u001b[0;34m.\u001b[0m\u001b[0margmax\u001b[0m\u001b[0;34m(\u001b[0m\u001b[0mpreds\u001b[0m\u001b[0;34m[\u001b[0m\u001b[0;36m0\u001b[0m\u001b[0;34m]\u001b[0m\u001b[0;34m)\u001b[0m\u001b[0;34m\u001b[0m\u001b[0;34m\u001b[0m\u001b[0m\n\u001b[1;32m      3\u001b[0m \u001b[0mclass_output\u001b[0m \u001b[0;34m=\u001b[0m \u001b[0mmodel\u001b[0m\u001b[0;34m.\u001b[0m\u001b[0moutput\u001b[0m\u001b[0;34m[\u001b[0m\u001b[0;34m:\u001b[0m\u001b[0;34m,\u001b[0m \u001b[0mclass_idx\u001b[0m\u001b[0;34m]\u001b[0m\u001b[0;34m\u001b[0m\u001b[0;34m\u001b[0m\u001b[0m\n\u001b[0;32m----> 4\u001b[0;31m \u001b[0mlast_conv_layer\u001b[0m \u001b[0;34m=\u001b[0m \u001b[0mmodel\u001b[0m\u001b[0;34m.\u001b[0m\u001b[0mget_layer\u001b[0m\u001b[0;34m(\u001b[0m\u001b[0;34m\"conv2d_146\"\u001b[0m\u001b[0;34m)\u001b[0m\u001b[0;34m\u001b[0m\u001b[0;34m\u001b[0m\u001b[0m\n\u001b[0m",
            "\u001b[0;32m/usr/local/lib/python3.6/dist-packages/keras/engine/network.py\u001b[0m in \u001b[0;36mget_layer\u001b[0;34m(self, name, index)\u001b[0m\n\u001b[1;32m    356\u001b[0m                 \u001b[0;32mreturn\u001b[0m \u001b[0mlayer\u001b[0m\u001b[0;34m\u001b[0m\u001b[0;34m\u001b[0m\u001b[0m\n\u001b[1;32m    357\u001b[0m \u001b[0;34m\u001b[0m\u001b[0m\n\u001b[0;32m--> 358\u001b[0;31m         \u001b[0;32mraise\u001b[0m \u001b[0mValueError\u001b[0m\u001b[0;34m(\u001b[0m\u001b[0;34m'No such layer: '\u001b[0m \u001b[0;34m+\u001b[0m \u001b[0mname\u001b[0m\u001b[0;34m)\u001b[0m\u001b[0;34m\u001b[0m\u001b[0;34m\u001b[0m\u001b[0m\n\u001b[0m\u001b[1;32m    359\u001b[0m \u001b[0;34m\u001b[0m\u001b[0m\n\u001b[1;32m    360\u001b[0m     \u001b[0;34m@\u001b[0m\u001b[0mproperty\u001b[0m\u001b[0;34m\u001b[0m\u001b[0;34m\u001b[0m\u001b[0m\n",
            "\u001b[0;31mValueError\u001b[0m: No such layer: conv2d_146"
          ]
        }
      ]
    },
    {
      "cell_type": "code",
      "metadata": {
        "id": "tKI_WSKEopqv",
        "colab_type": "code",
        "colab": {
          "base_uri": "https://localhost:8080/",
          "height": 232
        },
        "outputId": "64df1c09-e1bc-460e-b919-3d9020dfe545"
      },
      "source": [
        "grads = K.gradients(class_output, last_conv_layer.output)[0]\n",
        "pooled_grads = K.mean(grads, axis=(0, 1, 2))\n",
        "iterate = K.function([model.input], [pooled_grads, last_conv_layer.output[0]])\n",
        "pooled_grads_value, conv_layer_output_value = iterate([x])\n",
        "for i in range(10):\n",
        "    conv_layer_output_value[:, :, i] *= pooled_grads_value[i]"
      ],
      "execution_count": 24,
      "outputs": [
        {
          "output_type": "error",
          "ename": "NameError",
          "evalue": "ignored",
          "traceback": [
            "\u001b[0;31m---------------------------------------------------------------------------\u001b[0m",
            "\u001b[0;31mNameError\u001b[0m                                 Traceback (most recent call last)",
            "\u001b[0;32m<ipython-input-24-f2a8553cb30d>\u001b[0m in \u001b[0;36m<module>\u001b[0;34m()\u001b[0m\n\u001b[0;32m----> 1\u001b[0;31m \u001b[0mgrads\u001b[0m \u001b[0;34m=\u001b[0m \u001b[0mK\u001b[0m\u001b[0;34m.\u001b[0m\u001b[0mgradients\u001b[0m\u001b[0;34m(\u001b[0m\u001b[0mclass_output\u001b[0m\u001b[0;34m,\u001b[0m \u001b[0mlast_conv_layer\u001b[0m\u001b[0;34m.\u001b[0m\u001b[0moutput\u001b[0m\u001b[0;34m)\u001b[0m\u001b[0;34m[\u001b[0m\u001b[0;36m0\u001b[0m\u001b[0;34m]\u001b[0m\u001b[0;34m\u001b[0m\u001b[0;34m\u001b[0m\u001b[0m\n\u001b[0m\u001b[1;32m      2\u001b[0m \u001b[0mpooled_grads\u001b[0m \u001b[0;34m=\u001b[0m \u001b[0mK\u001b[0m\u001b[0;34m.\u001b[0m\u001b[0mmean\u001b[0m\u001b[0;34m(\u001b[0m\u001b[0mgrads\u001b[0m\u001b[0;34m,\u001b[0m \u001b[0maxis\u001b[0m\u001b[0;34m=\u001b[0m\u001b[0;34m(\u001b[0m\u001b[0;36m0\u001b[0m\u001b[0;34m,\u001b[0m \u001b[0;36m1\u001b[0m\u001b[0;34m,\u001b[0m \u001b[0;36m2\u001b[0m\u001b[0;34m)\u001b[0m\u001b[0;34m)\u001b[0m\u001b[0;34m\u001b[0m\u001b[0;34m\u001b[0m\u001b[0m\n\u001b[1;32m      3\u001b[0m \u001b[0miterate\u001b[0m \u001b[0;34m=\u001b[0m \u001b[0mK\u001b[0m\u001b[0;34m.\u001b[0m\u001b[0mfunction\u001b[0m\u001b[0;34m(\u001b[0m\u001b[0;34m[\u001b[0m\u001b[0mmodel\u001b[0m\u001b[0;34m.\u001b[0m\u001b[0minput\u001b[0m\u001b[0;34m]\u001b[0m\u001b[0;34m,\u001b[0m \u001b[0;34m[\u001b[0m\u001b[0mpooled_grads\u001b[0m\u001b[0;34m,\u001b[0m \u001b[0mlast_conv_layer\u001b[0m\u001b[0;34m.\u001b[0m\u001b[0moutput\u001b[0m\u001b[0;34m[\u001b[0m\u001b[0;36m0\u001b[0m\u001b[0;34m]\u001b[0m\u001b[0;34m]\u001b[0m\u001b[0;34m)\u001b[0m\u001b[0;34m\u001b[0m\u001b[0;34m\u001b[0m\u001b[0m\n\u001b[1;32m      4\u001b[0m \u001b[0mpooled_grads_value\u001b[0m\u001b[0;34m,\u001b[0m \u001b[0mconv_layer_output_value\u001b[0m \u001b[0;34m=\u001b[0m \u001b[0miterate\u001b[0m\u001b[0;34m(\u001b[0m\u001b[0;34m[\u001b[0m\u001b[0mx\u001b[0m\u001b[0;34m]\u001b[0m\u001b[0;34m)\u001b[0m\u001b[0;34m\u001b[0m\u001b[0;34m\u001b[0m\u001b[0m\n\u001b[1;32m      5\u001b[0m \u001b[0;32mfor\u001b[0m \u001b[0mi\u001b[0m \u001b[0;32min\u001b[0m \u001b[0mrange\u001b[0m\u001b[0;34m(\u001b[0m\u001b[0;36m10\u001b[0m\u001b[0;34m)\u001b[0m\u001b[0;34m:\u001b[0m\u001b[0;34m\u001b[0m\u001b[0;34m\u001b[0m\u001b[0m\n",
            "\u001b[0;31mNameError\u001b[0m: name 'last_conv_layer' is not defined"
          ]
        }
      ]
    },
    {
      "cell_type": "code",
      "metadata": {
        "id": "iUsxI5R3optI",
        "colab_type": "code",
        "colab": {
          "base_uri": "https://localhost:8080/",
          "height": 198
        },
        "outputId": "c795d026-786b-47e0-a9db-8edee371b1cf"
      },
      "source": [
        "heatmap = np.mean(conv_layer_output_value, axis=-1)\n",
        "heatmap = np.maximum(heatmap, 0)\n",
        "heatmap /= np.max(heatmap)"
      ],
      "execution_count": 25,
      "outputs": [
        {
          "output_type": "error",
          "ename": "NameError",
          "evalue": "ignored",
          "traceback": [
            "\u001b[0;31m---------------------------------------------------------------------------\u001b[0m",
            "\u001b[0;31mNameError\u001b[0m                                 Traceback (most recent call last)",
            "\u001b[0;32m<ipython-input-25-23563b040673>\u001b[0m in \u001b[0;36m<module>\u001b[0;34m()\u001b[0m\n\u001b[0;32m----> 1\u001b[0;31m \u001b[0mheatmap\u001b[0m \u001b[0;34m=\u001b[0m \u001b[0mnp\u001b[0m\u001b[0;34m.\u001b[0m\u001b[0mmean\u001b[0m\u001b[0;34m(\u001b[0m\u001b[0mconv_layer_output_value\u001b[0m\u001b[0;34m,\u001b[0m \u001b[0maxis\u001b[0m\u001b[0;34m=\u001b[0m\u001b[0;34m-\u001b[0m\u001b[0;36m1\u001b[0m\u001b[0;34m)\u001b[0m\u001b[0;34m\u001b[0m\u001b[0;34m\u001b[0m\u001b[0m\n\u001b[0m\u001b[1;32m      2\u001b[0m \u001b[0mheatmap\u001b[0m \u001b[0;34m=\u001b[0m \u001b[0mnp\u001b[0m\u001b[0;34m.\u001b[0m\u001b[0mmaximum\u001b[0m\u001b[0;34m(\u001b[0m\u001b[0mheatmap\u001b[0m\u001b[0;34m,\u001b[0m \u001b[0;36m0\u001b[0m\u001b[0;34m)\u001b[0m\u001b[0;34m\u001b[0m\u001b[0;34m\u001b[0m\u001b[0m\n\u001b[1;32m      3\u001b[0m \u001b[0mheatmap\u001b[0m \u001b[0;34m/=\u001b[0m \u001b[0mnp\u001b[0m\u001b[0;34m.\u001b[0m\u001b[0mmax\u001b[0m\u001b[0;34m(\u001b[0m\u001b[0mheatmap\u001b[0m\u001b[0;34m)\u001b[0m\u001b[0;34m\u001b[0m\u001b[0;34m\u001b[0m\u001b[0m\n",
            "\u001b[0;31mNameError\u001b[0m: name 'conv_layer_output_value' is not defined"
          ]
        }
      ]
    },
    {
      "cell_type": "code",
      "metadata": {
        "id": "HQW6rJ7Eopxz",
        "colab_type": "code",
        "colab": {
          "base_uri": "https://localhost:8080/",
          "height": 266
        },
        "outputId": "2d7ebea6-1611-4060-8bec-3e5ff3d18345"
      },
      "source": [
        "import matplotlib.pyplot as plt\n",
        "\n",
        "%matplotlib inline\n",
        "# img = cv2.imread(img)\n",
        "org = img\n",
        "img = image.img_to_array(img)\n",
        "print(np.shape(img))\n",
        "print(img.dtype)\n",
        "img = cv2.resize(img, (32,32))\n",
        "heatmap = cv2.resize(heatmap, (img.shape[1], img.shape[0]))\n",
        "print(np.shape(heatmap))\n",
        "heatmap = np.uint8(255 * heatmap)\n",
        "print(np.shape(heatmap))\n",
        "heatmap = cv2.applyColorMap(heatmap, cv2.COLORMAP_JET)\n",
        "print(np.shape(heatmap),np.shape(img))\n",
        "print(img.dtype,heatmap.dtype)\n",
        "superimposed_img = cv2.addWeighted(np.uint8(img), 0.6, heatmap, 0.4, 0)\n",
        "# cv2.imshow(\"Original\", img)\n",
        "# cv2.imshow(\"GradCam\", superimposed_img)\n",
        "# cv2.waitKey(0)\n",
        "# plt.imshow(superimposed_img)\n",
        "# plt.show()\n",
        "# display images\n",
        "fig, ax = plt.subplots(1,2)\n",
        "ax[0].imshow(org)\n",
        "ax[1].imshow(superimposed_img)"
      ],
      "execution_count": 26,
      "outputs": [
        {
          "output_type": "stream",
          "text": [
            "(32, 32, 3)\n",
            "float32\n"
          ],
          "name": "stdout"
        },
        {
          "output_type": "error",
          "ename": "NameError",
          "evalue": "ignored",
          "traceback": [
            "\u001b[0;31m---------------------------------------------------------------------------\u001b[0m",
            "\u001b[0;31mNameError\u001b[0m                                 Traceback (most recent call last)",
            "\u001b[0;32m<ipython-input-26-c0de8743d03f>\u001b[0m in \u001b[0;36m<module>\u001b[0;34m()\u001b[0m\n\u001b[1;32m      8\u001b[0m \u001b[0mprint\u001b[0m\u001b[0;34m(\u001b[0m\u001b[0mimg\u001b[0m\u001b[0;34m.\u001b[0m\u001b[0mdtype\u001b[0m\u001b[0;34m)\u001b[0m\u001b[0;34m\u001b[0m\u001b[0;34m\u001b[0m\u001b[0m\n\u001b[1;32m      9\u001b[0m \u001b[0mimg\u001b[0m \u001b[0;34m=\u001b[0m \u001b[0mcv2\u001b[0m\u001b[0;34m.\u001b[0m\u001b[0mresize\u001b[0m\u001b[0;34m(\u001b[0m\u001b[0mimg\u001b[0m\u001b[0;34m,\u001b[0m \u001b[0;34m(\u001b[0m\u001b[0;36m32\u001b[0m\u001b[0;34m,\u001b[0m\u001b[0;36m32\u001b[0m\u001b[0;34m)\u001b[0m\u001b[0;34m)\u001b[0m\u001b[0;34m\u001b[0m\u001b[0;34m\u001b[0m\u001b[0m\n\u001b[0;32m---> 10\u001b[0;31m \u001b[0mheatmap\u001b[0m \u001b[0;34m=\u001b[0m \u001b[0mcv2\u001b[0m\u001b[0;34m.\u001b[0m\u001b[0mresize\u001b[0m\u001b[0;34m(\u001b[0m\u001b[0mheatmap\u001b[0m\u001b[0;34m,\u001b[0m \u001b[0;34m(\u001b[0m\u001b[0mimg\u001b[0m\u001b[0;34m.\u001b[0m\u001b[0mshape\u001b[0m\u001b[0;34m[\u001b[0m\u001b[0;36m1\u001b[0m\u001b[0;34m]\u001b[0m\u001b[0;34m,\u001b[0m \u001b[0mimg\u001b[0m\u001b[0;34m.\u001b[0m\u001b[0mshape\u001b[0m\u001b[0;34m[\u001b[0m\u001b[0;36m0\u001b[0m\u001b[0;34m]\u001b[0m\u001b[0;34m)\u001b[0m\u001b[0;34m)\u001b[0m\u001b[0;34m\u001b[0m\u001b[0;34m\u001b[0m\u001b[0m\n\u001b[0m\u001b[1;32m     11\u001b[0m \u001b[0mprint\u001b[0m\u001b[0;34m(\u001b[0m\u001b[0mnp\u001b[0m\u001b[0;34m.\u001b[0m\u001b[0mshape\u001b[0m\u001b[0;34m(\u001b[0m\u001b[0mheatmap\u001b[0m\u001b[0;34m)\u001b[0m\u001b[0;34m)\u001b[0m\u001b[0;34m\u001b[0m\u001b[0;34m\u001b[0m\u001b[0m\n\u001b[1;32m     12\u001b[0m \u001b[0mheatmap\u001b[0m \u001b[0;34m=\u001b[0m \u001b[0mnp\u001b[0m\u001b[0;34m.\u001b[0m\u001b[0muint8\u001b[0m\u001b[0;34m(\u001b[0m\u001b[0;36m255\u001b[0m \u001b[0;34m*\u001b[0m \u001b[0mheatmap\u001b[0m\u001b[0;34m)\u001b[0m\u001b[0;34m\u001b[0m\u001b[0;34m\u001b[0m\u001b[0m\n",
            "\u001b[0;31mNameError\u001b[0m: name 'heatmap' is not defined"
          ]
        }
      ]
    },
    {
      "cell_type": "code",
      "metadata": {
        "id": "JmQXndk3op1X",
        "colab_type": "code",
        "colab": {}
      },
      "source": [
        ""
      ],
      "execution_count": 0,
      "outputs": []
    },
    {
      "cell_type": "code",
      "metadata": {
        "id": "hW7bCB-Iop3p",
        "colab_type": "code",
        "colab": {}
      },
      "source": [
        "\n"
      ],
      "execution_count": 0,
      "outputs": []
    },
    {
      "cell_type": "code",
      "metadata": {
        "id": "BX4IY3jgop8p",
        "colab_type": "code",
        "colab": {}
      },
      "source": [
        ""
      ],
      "execution_count": 0,
      "outputs": []
    },
    {
      "cell_type": "code",
      "metadata": {
        "id": "Y3MS9y8Zop6X",
        "colab_type": "code",
        "colab": {}
      },
      "source": [
        ""
      ],
      "execution_count": 0,
      "outputs": []
    },
    {
      "cell_type": "code",
      "metadata": {
        "id": "dB7CqhMIbo2g",
        "colab_type": "code",
        "colab": {
          "base_uri": "https://localhost:8080/",
          "height": 269
        },
        "outputId": "63988310-c42b-400d-f9a6-71ba644afe00"
      },
      "source": [
        "num = 1100\n",
        "img = test_features[num]\n",
        "plt.imshow(img)\n",
        "plt.show()"
      ],
      "execution_count": 27,
      "outputs": [
        {
          "output_type": "display_data",
          "data": {
            "image/png": "[encoded data removed]",
            "text/plain": [
              "<Figure size 432x288 with 1 Axes>"
            ]
          },
          "metadata": {
            "tags": []
          }
        }
      ]
    },
    {
      "cell_type": "code",
      "metadata": {
        "id": "6Spm5AC_emqC",
        "colab_type": "code",
        "colab": {
          "base_uri": "https://localhost:8080/",
          "height": 119
        },
        "outputId": "690958a8-8667-4fce-e665-00466defa509"
      },
      "source": [
        "x = np.expand_dims(img, axis=0)\n",
        "preds = model.predict(x)\n",
        "print(preds)\n",
        "print(np.max(preds))\n",
        "print(np.argmax(preds))\n",
        "print(class_names[np.argmax(preds)])\n",
        "print(class_names[np.argmax(train_labels[num])])"
      ],
      "execution_count": 28,
      "outputs": [
        {
          "output_type": "stream",
          "text": [
            "[[0.03973625 0.03752863 0.11204014 0.44877908 0.00406979 0.21191613\n",
            "  0.01863282 0.02928117 0.09087124 0.00714479]]\n",
            "0.44877908\n",
            "3\n",
            "cat\n",
            "cat\n"
          ],
          "name": "stdout"
        }
      ]
    },
    {
      "cell_type": "code",
      "metadata": {
        "id": "FFRW7_mLiZal",
        "colab_type": "code",
        "colab": {
          "base_uri": "https://localhost:8080/",
          "height": 187
        },
        "outputId": "f95e266d-1b4e-4877-d8af-5f1779d40270"
      },
      "source": [
        "class_names"
      ],
      "execution_count": 29,
      "outputs": [
        {
          "output_type": "execute_result",
          "data": {
            "text/plain": [
              "['airplane',\n",
              " 'automobile',\n",
              " 'bird',\n",
              " 'cat',\n",
              " 'deer',\n",
              " 'dog',\n",
              " 'frog',\n",
              " 'horse',\n",
              " 'ship',\n",
              " 'truck']"
            ]
          },
          "metadata": {
            "tags": []
          },
          "execution_count": 29
        }
      ]
    },
    {
      "cell_type": "code",
      "metadata": {
        "id": "VH6h95RgmUpc",
        "colab_type": "code",
        "colab": {}
      },
      "source": [
        ""
      ],
      "execution_count": 0,
      "outputs": []
    }
  ]
}