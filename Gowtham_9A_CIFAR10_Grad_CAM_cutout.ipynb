{
  "nbformat": 4,
  "nbformat_minor": 0,
  "metadata": {
    "colab": {
      "name": "Gowtham_9A_CIFAR10_Grad_CAM_cutout.ipynb",
      "version": "0.3.2",
      "provenance": [],
      "collapsed_sections": [],
      "include_colab_link": true
    },
    "kernelspec": {
      "name": "python3",
      "display_name": "Python 3"
    },
    "accelerator": "GPU"
  },
  "cells": [
    {
      "cell_type": "markdown",
      "metadata": {
        "id": "view-in-github",
        "colab_type": "text"
      },
      "source": [
        "<a href=\"https://colab.research.google.com/github/gowtham66866/Inkers/blob/master/Gowtham_9A_CIFAR10_Grad_CAM_cutout.ipynb\" target=\"_parent\"><img src=\"https://colab.research.google.com/assets/colab-badge.svg\" alt=\"Open In Colab\"/></a>"
      ]
    },
    {
      "cell_type": "code",
      "metadata": {
        "id": "SsLGBZ118yP2",
        "colab_type": "code",
        "outputId": "78530200-3324-459b-d9b6-1e20d44407a4",
        "colab": {
          "base_uri": "https://localhost:8080/",
          "height": 34
        }
      },
      "source": [
        "from google.colab import drive\n",
        "drive.mount(\"/content/gdrive/\")"
      ],
      "execution_count": 1,
      "outputs": [
        {
          "output_type": "stream",
          "text": [
            "Drive already mounted at /content/gdrive/; to attempt to forcibly remount, call drive.mount(\"/content/gdrive/\", force_remount=True).\n"
          ],
          "name": "stdout"
        }
      ]
    },
    {
      "cell_type": "code",
      "metadata": {
        "id": "aIukypTO9eQA",
        "colab_type": "code",
        "colab": {}
      },
      "source": [
        "# ls /content/gdrive/My\\ Drive/EVA"
      ],
      "execution_count": 0,
      "outputs": []
    },
    {
      "cell_type": "code",
      "metadata": {
        "id": "KkwXnw9OfHZl",
        "colab_type": "code",
        "colab": {
          "base_uri": "https://localhost:8080/",
          "height": 34
        },
        "outputId": "3f3fe99b-b486-41f4-b876-23ae2377d240"
      },
      "source": [
        "from keras import backend as K\n",
        "import time\n",
        "import matplotlib.pyplot as plt\n",
        "import numpy as np\n",
        "% matplotlib inline\n",
        "np.random.seed(2017) \n",
        "from keras.models import Sequential\n",
        "from keras.layers.convolutional import Convolution2D, MaxPooling2D\n",
        "from keras.layers import Activation, Flatten, Dense, Dropout, GlobalAveragePooling2D\n",
        "from keras.layers.normalization import BatchNormalization\n",
        "from keras.utils import np_utils\n",
        "from keras.callbacks import ModelCheckpoint, EarlyStopping, ReduceLROnPlateau\n",
        "\n",
        "# from random_eraser import get_random_eraser"
      ],
      "execution_count": 3,
      "outputs": [
        {
          "output_type": "stream",
          "text": [
            "Using TensorFlow backend.\n"
          ],
          "name": "stderr"
        }
      ]
    },
    {
      "cell_type": "code",
      "metadata": {
        "id": "AIij3FAiQ4bG",
        "colab_type": "code",
        "colab": {}
      },
      "source": [
        "import numpy as np\n",
        "\n",
        "\n",
        "def get_random_eraser(p=0.5, s_l=0.02, s_h=0.4, r_1=0.3, r_2=1/0.3, v_l=0, v_h=255, pixel_level=False):\n",
        "    def eraser(input_img):\n",
        "        img_h, img_w, img_c = input_img.shape\n",
        "        p_1 = np.random.rand()\n",
        "\n",
        "        if p_1 > p:\n",
        "            return input_img\n",
        "\n",
        "        while True:\n",
        "            s = np.random.uniform(s_l, s_h) * img_h * img_w\n",
        "            r = np.random.uniform(r_1, r_2)\n",
        "            w = int(np.sqrt(s / r))\n",
        "            h = int(np.sqrt(s * r))\n",
        "            left = np.random.randint(0, img_w)\n",
        "            top = np.random.randint(0, img_h)\n",
        "\n",
        "            if left + w <= img_w and top + h <= img_h:\n",
        "                break\n",
        "\n",
        "        if pixel_level:\n",
        "            c = np.random.uniform(v_l, v_h, (h, w, img_c))\n",
        "        else:\n",
        "            c = np.random.uniform(v_l, v_h)\n",
        "\n",
        "        input_img[top:top + h, left:left + w, :] = c\n",
        "\n",
        "        return input_img\n",
        "\n",
        "    return eraser"
      ],
      "execution_count": 0,
      "outputs": []
    },
    {
      "cell_type": "code",
      "metadata": {
        "id": "NHpnoCHZfO8g",
        "colab_type": "code",
        "colab": {}
      },
      "source": [
        "from keras.datasets import cifar10\n",
        "(train_features, train_labels), (test_features, test_labels) = cifar10.load_data()\n",
        "num_train, img_channels, img_rows, img_cols =  train_features.shape\n",
        "num_test, _, _, _ =  test_features.shape\n",
        "num_classes = len(np.unique(train_labels))"
      ],
      "execution_count": 0,
      "outputs": []
    },
    {
      "cell_type": "code",
      "metadata": {
        "id": "14HyBUXdfS6G",
        "colab_type": "code",
        "outputId": "15b9b944-9bb5-4145-fd8e-120a65dbff19",
        "colab": {
          "base_uri": "https://localhost:8080/",
          "height": 213
        }
      },
      "source": [
        "class_names = ['airplane','automobile','bird','cat','deer',\n",
        "               'dog','frog','horse','ship','truck']\n",
        "fig = plt.figure(figsize=(8,3))\n",
        "for i in range(num_classes):\n",
        "    ax = fig.add_subplot(2, 5, 1 + i, xticks=[], yticks=[])\n",
        "    idx = np.where(train_labels[:]==i)[0]\n",
        "    features_idx = train_features[idx,::]\n",
        "    img_num = np.random.randint(features_idx.shape[0])\n",
        "    im = features_idx[img_num]\n",
        "    ax.set_title(class_names[i])\n",
        "    plt.imshow(im)\n",
        "plt.show()"
      ],
      "execution_count": 6,
      "outputs": [
        {
          "output_type": "display_data",
          "data": {
            "image/png": "[encoded data removed]",
            "text/plain": [
              "<Figure size 576x216 with 10 Axes>"
            ]
          },
          "metadata": {
            "tags": []
          }
        }
      ]
    },
    {
      "cell_type": "code",
      "metadata": {
        "id": "bmfsk76-fadV",
        "colab_type": "code",
        "colab": {}
      },
      "source": [
        "def plot_model_history(model_history):\n",
        "    fig, axs = plt.subplots(1,2,figsize=(15,5))\n",
        "    # summarize history for accuracy\n",
        "    axs[0].plot(range(1,len(model_history.history['acc'])+1),model_history.history['acc'])\n",
        "    axs[0].plot(range(1,len(model_history.history['val_acc'])+1),model_history.history['val_acc'])\n",
        "    axs[0].set_title('Model Accuracy')\n",
        "    axs[0].set_ylabel('Accuracy')\n",
        "    axs[0].set_xlabel('Epoch')\n",
        "    axs[0].set_xticks(np.arange(1,len(model_history.history['acc'])+1),len(model_history.history['acc'])/10)\n",
        "    axs[0].legend(['train', 'val'], loc='best')\n",
        "    # summarize history for loss\n",
        "    axs[1].plot(range(1,len(model_history.history['loss'])+1),model_history.history['loss'])\n",
        "    axs[1].plot(range(1,len(model_history.history['val_loss'])+1),model_history.history['val_loss'])\n",
        "    axs[1].set_title('Model Loss')\n",
        "    axs[1].set_ylabel('Loss')\n",
        "    axs[1].set_xlabel('Epoch')\n",
        "    axs[1].set_xticks(np.arange(1,len(model_history.history['loss'])+1),len(model_history.history['loss'])/10)\n",
        "    axs[1].legend(['train', 'val'], loc='best')\n",
        "    plt.show()"
      ],
      "execution_count": 0,
      "outputs": []
    },
    {
      "cell_type": "code",
      "metadata": {
        "id": "YJMT4rjgfdZz",
        "colab_type": "code",
        "colab": {}
      },
      "source": [
        "def accuracy(test_x, test_y, model):\n",
        "    result = model.predict(test_x)\n",
        "    predicted_class = np.argmax(result, axis=1)\n",
        "    true_class = np.argmax(test_y, axis=1)\n",
        "    num_correct = np.sum(predicted_class == true_class) \n",
        "    accuracy = float(num_correct)/result.shape[0]\n",
        "    return (accuracy * 100)"
      ],
      "execution_count": 0,
      "outputs": []
    },
    {
      "cell_type": "code",
      "metadata": {
        "id": "T5c5nDvxm6zR",
        "colab_type": "code",
        "colab": {}
      },
      "source": [
        "train_features = train_features.astype('float32')/255\n",
        "test_features = test_features.astype('float32')/255\n",
        "# convert class labels to binary class labels\n",
        "train_labels = np_utils.to_categorical(train_labels, num_classes)\n",
        "test_labels = np_utils.to_categorical(test_labels, num_classes)"
      ],
      "execution_count": 0,
      "outputs": []
    },
    {
      "cell_type": "code",
      "metadata": {
        "id": "cSOb2lkJfhVq",
        "colab_type": "code",
        "outputId": "ba6669d5-08cb-4eef-a1b4-eb2a660641bd",
        "colab": {
          "base_uri": "https://localhost:8080/",
          "height": 1000
        }
      },
      "source": [
        "from keras import regularizers\n",
        "weight_decay = 0.0005\n",
        "    \n",
        "model = Sequential()\n",
        "\n",
        "\n",
        "# first convolution block\n",
        "model.add(Convolution2D(32, (3, 3), padding='same',\n",
        "                         input_shape=[32,32,3],kernel_regularizer=regularizers.l2(weight_decay))) #32\n",
        "model.add(Activation('relu'))\n",
        "model.add(BatchNormalization())\n",
        "model.add(Dropout(0.15))\n",
        "\n",
        "model.add(Convolution2D(64, (3, 3), padding='same',kernel_regularizer=regularizers.l2(weight_decay))) #32\n",
        "model.add(Activation('relu'))\n",
        "model.add(BatchNormalization())\n",
        "model.add(Dropout(0.15))\n",
        "\n",
        "model.add(Convolution2D(64, (3, 3), padding='same',kernel_regularizer=regularizers.l2(weight_decay))) #32\n",
        "model.add(Activation('relu'))\n",
        "model.add(BatchNormalization())\n",
        "model.add(Dropout(0.15))\n",
        "\n",
        "# first transition block with bottlneck\n",
        "model.add(MaxPooling2D(pool_size=(2, 2)))   #16\n",
        "model.add(Convolution2D(32, 1, 1, activation='relu'))\n",
        "\n",
        "\n",
        "# second convolution block\n",
        "model.add(Convolution2D(128, (3, 3), padding='same',kernel_regularizer=regularizers.l2(weight_decay)))  #16\n",
        "model.add(Activation('relu'))\n",
        "model.add(BatchNormalization())\n",
        "model.add(Dropout(0.15))\n",
        "\n",
        "model.add(Convolution2D(128, (3, 3), padding='same',kernel_regularizer=regularizers.l2(weight_decay)))  #16\n",
        "model.add(Activation('relu'))\n",
        "model.add(BatchNormalization())\n",
        "model.add(Dropout(0.15))\n",
        "\n",
        "# second transition block with bottlneck\n",
        "model.add(MaxPooling2D(pool_size=(2, 2)))  #8\n",
        "model.add(Convolution2D(32, 1, 1, activation='relu'))\n",
        "\n",
        "# third convolution block\n",
        "model.add(Convolution2D(256, (3, 3), padding='same',kernel_regularizer=regularizers.l2(weight_decay)))  #8\n",
        "model.add(Activation('relu'))\n",
        "model.add(BatchNormalization())\n",
        "model.add(Dropout(0.15))\n",
        "\n",
        "model.add(Convolution2D(256, (3, 3), padding='same',kernel_regularizer=regularizers.l2(weight_decay)))  #8\n",
        "model.add(Activation('relu'))\n",
        "model.add(BatchNormalization())\n",
        "model.add(Dropout(0.15))\n",
        "\n",
        "model.add(Convolution2D(256, (3, 3), padding='same',kernel_regularizer=regularizers.l2(weight_decay)))   #18\n",
        "model.add(Activation('relu'))\n",
        "model.add(BatchNormalization())\n",
        "model.add(Dropout(0.15))\n",
        "\n",
        "# third transition block with bottlneck\n",
        "model.add(MaxPooling2D(pool_size=(2, 2)))   #4\n",
        "model.add(Convolution2D(32, 1, 1, activation='relu'))\n",
        "\n",
        "# fourth convolution block\n",
        "model.add(Convolution2D(256, (3, 3), padding='same',kernel_regularizer=regularizers.l2(weight_decay))) #4\n",
        "model.add(Activation('relu'))\n",
        "model.add(BatchNormalization())\n",
        "model.add(Dropout(0.15))\n",
        "\n",
        "model.add(Convolution2D(256, (3, 3), padding='same',kernel_regularizer=regularizers.l2(weight_decay))) #4\n",
        "model.add(Activation('relu'))\n",
        "model.add(BatchNormalization())\n",
        "model.add(Dropout(0.15))\n",
        "\n",
        "model.add(Convolution2D(256, (3, 3), padding='same',kernel_regularizer=regularizers.l2(weight_decay)))#4\n",
        "model.add(Activation('relu'))\n",
        "model.add(BatchNormalization())\n",
        "model.add(Dropout(0.15))\n",
        "\n",
        "# fourth transition block with bottlneck\n",
        "model.add(MaxPooling2D(pool_size=(2, 2))) #2\n",
        "model.add(Convolution2D(64, 1, 1, activation='relu'))\n",
        "\n",
        "\n",
        "# fifth convolution block\n",
        "model.add(Convolution2D(512, (3, 3), padding='same',kernel_regularizer=regularizers.l2(weight_decay)))  #2\n",
        "model.add(Activation('relu'))\n",
        "model.add(BatchNormalization())\n",
        "model.add(Dropout(0.15))\n",
        "\n",
        "model.add(Convolution2D(512, (3, 3), padding='same',kernel_regularizer=regularizers.l2(weight_decay)))  #2\n",
        "model.add(Activation('relu'))\n",
        "model.add(BatchNormalization())\n",
        "model.add(Dropout(0.15))\n",
        "\n",
        "# fifth transition block with bottlneck\n",
        "model.add(MaxPooling2D(pool_size=(2, 2)))   #1\n",
        "model.add(Convolution2D(32, 1, 1, activation='relu'))\n",
        "\n",
        "# final convolution block\n",
        "model.add(Convolution2D(512, (3, 3), padding='same',kernel_regularizer=regularizers.l2(weight_decay)))  #1\n",
        "model.add(Activation('relu'))\n",
        "model.add(BatchNormalization())\n",
        "model.add(Dropout(0.15))\n",
        "model.add(Convolution2D(512, (3, 3), padding='same',kernel_regularizer=regularizers.l2(weight_decay)))  #1\n",
        "model.add(Activation('relu'))\n",
        "model.add(BatchNormalization())\n",
        "model.add(Dropout(0.15))\n",
        "\n",
        "model.add(Convolution2D(10, (3, 3), padding='same'))\n",
        "\n",
        "# model.add(GlobalAveragePooling2D())\n",
        "model.add(Flatten())\n",
        "\n",
        "model.add(Activation('softmax'))\n",
        "model.summary()"
      ],
      "execution_count": 10,
      "outputs": [
        {
          "output_type": "stream",
          "text": [
            "WARNING: Logging before flag parsing goes to stderr.\n",
            "W0724 04:36:25.275999 140703663208320 deprecation_wrapper.py:119] From /usr/local/lib/python3.6/dist-packages/keras/backend/tensorflow_backend.py:74: The name tf.get_default_graph is deprecated. Please use tf.compat.v1.get_default_graph instead.\n",
            "\n",
            "W0724 04:36:25.296610 140703663208320 deprecation_wrapper.py:119] From /usr/local/lib/python3.6/dist-packages/keras/backend/tensorflow_backend.py:517: The name tf.placeholder is deprecated. Please use tf.compat.v1.placeholder instead.\n",
            "\n",
            "W0724 04:36:25.304334 140703663208320 deprecation_wrapper.py:119] From /usr/local/lib/python3.6/dist-packages/keras/backend/tensorflow_backend.py:4138: The name tf.random_uniform is deprecated. Please use tf.random.uniform instead.\n",
            "\n",
            "W0724 04:36:25.365298 140703663208320 deprecation_wrapper.py:119] From /usr/local/lib/python3.6/dist-packages/keras/backend/tensorflow_backend.py:174: The name tf.get_default_session is deprecated. Please use tf.compat.v1.get_default_session instead.\n",
            "\n",
            "W0724 04:36:25.366514 140703663208320 deprecation_wrapper.py:119] From /usr/local/lib/python3.6/dist-packages/keras/backend/tensorflow_backend.py:181: The name tf.ConfigProto is deprecated. Please use tf.compat.v1.ConfigProto instead.\n",
            "\n",
            "W0724 04:36:27.068968 140703663208320 deprecation_wrapper.py:119] From /usr/local/lib/python3.6/dist-packages/keras/backend/tensorflow_backend.py:1834: The name tf.nn.fused_batch_norm is deprecated. Please use tf.compat.v1.nn.fused_batch_norm instead.\n",
            "\n",
            "W0724 04:36:27.352188 140703663208320 deprecation.py:506] From /usr/local/lib/python3.6/dist-packages/keras/backend/tensorflow_backend.py:3445: calling dropout (from tensorflow.python.ops.nn_ops) with keep_prob is deprecated and will be removed in a future version.\n",
            "Instructions for updating:\n",
            "Please use `rate` instead of `keep_prob`. Rate should be set to `rate = 1 - keep_prob`.\n",
            "W0724 04:36:27.681890 140703663208320 deprecation_wrapper.py:119] From /usr/local/lib/python3.6/dist-packages/keras/backend/tensorflow_backend.py:3976: The name tf.nn.max_pool is deprecated. Please use tf.nn.max_pool2d instead.\n",
            "\n",
            "/usr/local/lib/python3.6/dist-packages/ipykernel_launcher.py:26: UserWarning: Update your `Conv2D` call to the Keras 2 API: `Conv2D(32, (1, 1), activation=\"relu\")`\n",
            "/usr/local/lib/python3.6/dist-packages/ipykernel_launcher.py:42: UserWarning: Update your `Conv2D` call to the Keras 2 API: `Conv2D(32, (1, 1), activation=\"relu\")`\n",
            "/usr/local/lib/python3.6/dist-packages/ipykernel_launcher.py:62: UserWarning: Update your `Conv2D` call to the Keras 2 API: `Conv2D(32, (1, 1), activation=\"relu\")`\n",
            "/usr/local/lib/python3.6/dist-packages/ipykernel_launcher.py:82: UserWarning: Update your `Conv2D` call to the Keras 2 API: `Conv2D(64, (1, 1), activation=\"relu\")`\n",
            "/usr/local/lib/python3.6/dist-packages/ipykernel_launcher.py:98: UserWarning: Update your `Conv2D` call to the Keras 2 API: `Conv2D(32, (1, 1), activation=\"relu\")`\n"
          ],
          "name": "stderr"
        },
        {
          "output_type": "stream",
          "text": [
            "_________________________________________________________________\n",
            "Layer (type)                 Output Shape              Param #   \n",
            "=================================================================\n",
            "conv2d_1 (Conv2D)            (None, 32, 32, 32)        896       \n",
            "_________________________________________________________________\n",
            "activation_1 (Activation)    (None, 32, 32, 32)        0         \n",
            "_________________________________________________________________\n",
            "batch_normalization_1 (Batch (None, 32, 32, 32)        128       \n",
            "_________________________________________________________________\n",
            "dropout_1 (Dropout)          (None, 32, 32, 32)        0         \n",
            "_________________________________________________________________\n",
            "conv2d_2 (Conv2D)            (None, 32, 32, 64)        18496     \n",
            "_________________________________________________________________\n",
            "activation_2 (Activation)    (None, 32, 32, 64)        0         \n",
            "_________________________________________________________________\n",
            "batch_normalization_2 (Batch (None, 32, 32, 64)        256       \n",
            "_________________________________________________________________\n",
            "dropout_2 (Dropout)          (None, 32, 32, 64)        0         \n",
            "_________________________________________________________________\n",
            "conv2d_3 (Conv2D)            (None, 32, 32, 64)        36928     \n",
            "_________________________________________________________________\n",
            "activation_3 (Activation)    (None, 32, 32, 64)        0         \n",
            "_________________________________________________________________\n",
            "batch_normalization_3 (Batch (None, 32, 32, 64)        256       \n",
            "_________________________________________________________________\n",
            "dropout_3 (Dropout)          (None, 32, 32, 64)        0         \n",
            "_________________________________________________________________\n",
            "max_pooling2d_1 (MaxPooling2 (None, 16, 16, 64)        0         \n",
            "_________________________________________________________________\n",
            "conv2d_4 (Conv2D)            (None, 16, 16, 32)        2080      \n",
            "_________________________________________________________________\n",
            "conv2d_5 (Conv2D)            (None, 16, 16, 128)       36992     \n",
            "_________________________________________________________________\n",
            "activation_4 (Activation)    (None, 16, 16, 128)       0         \n",
            "_________________________________________________________________\n",
            "batch_normalization_4 (Batch (None, 16, 16, 128)       512       \n",
            "_________________________________________________________________\n",
            "dropout_4 (Dropout)          (None, 16, 16, 128)       0         \n",
            "_________________________________________________________________\n",
            "conv2d_6 (Conv2D)            (None, 16, 16, 128)       147584    \n",
            "_________________________________________________________________\n",
            "activation_5 (Activation)    (None, 16, 16, 128)       0         \n",
            "_________________________________________________________________\n",
            "batch_normalization_5 (Batch (None, 16, 16, 128)       512       \n",
            "_________________________________________________________________\n",
            "dropout_5 (Dropout)          (None, 16, 16, 128)       0         \n",
            "_________________________________________________________________\n",
            "max_pooling2d_2 (MaxPooling2 (None, 8, 8, 128)         0         \n",
            "_________________________________________________________________\n",
            "conv2d_7 (Conv2D)            (None, 8, 8, 32)          4128      \n",
            "_________________________________________________________________\n",
            "conv2d_8 (Conv2D)            (None, 8, 8, 256)         73984     \n",
            "_________________________________________________________________\n",
            "activation_6 (Activation)    (None, 8, 8, 256)         0         \n",
            "_________________________________________________________________\n",
            "batch_normalization_6 (Batch (None, 8, 8, 256)         1024      \n",
            "_________________________________________________________________\n",
            "dropout_6 (Dropout)          (None, 8, 8, 256)         0         \n",
            "_________________________________________________________________\n",
            "conv2d_9 (Conv2D)            (None, 8, 8, 256)         590080    \n",
            "_________________________________________________________________\n",
            "activation_7 (Activation)    (None, 8, 8, 256)         0         \n",
            "_________________________________________________________________\n",
            "batch_normalization_7 (Batch (None, 8, 8, 256)         1024      \n",
            "_________________________________________________________________\n",
            "dropout_7 (Dropout)          (None, 8, 8, 256)         0         \n",
            "_________________________________________________________________\n",
            "conv2d_10 (Conv2D)           (None, 8, 8, 256)         590080    \n",
            "_________________________________________________________________\n",
            "activation_8 (Activation)    (None, 8, 8, 256)         0         \n",
            "_________________________________________________________________\n",
            "batch_normalization_8 (Batch (None, 8, 8, 256)         1024      \n",
            "_________________________________________________________________\n",
            "dropout_8 (Dropout)          (None, 8, 8, 256)         0         \n",
            "_________________________________________________________________\n",
            "max_pooling2d_3 (MaxPooling2 (None, 4, 4, 256)         0         \n",
            "_________________________________________________________________\n",
            "conv2d_11 (Conv2D)           (None, 4, 4, 32)          8224      \n",
            "_________________________________________________________________\n",
            "conv2d_12 (Conv2D)           (None, 4, 4, 256)         73984     \n",
            "_________________________________________________________________\n",
            "activation_9 (Activation)    (None, 4, 4, 256)         0         \n",
            "_________________________________________________________________\n",
            "batch_normalization_9 (Batch (None, 4, 4, 256)         1024      \n",
            "_________________________________________________________________\n",
            "dropout_9 (Dropout)          (None, 4, 4, 256)         0         \n",
            "_________________________________________________________________\n",
            "conv2d_13 (Conv2D)           (None, 4, 4, 256)         590080    \n",
            "_________________________________________________________________\n",
            "activation_10 (Activation)   (None, 4, 4, 256)         0         \n",
            "_________________________________________________________________\n",
            "batch_normalization_10 (Batc (None, 4, 4, 256)         1024      \n",
            "_________________________________________________________________\n",
            "dropout_10 (Dropout)         (None, 4, 4, 256)         0         \n",
            "_________________________________________________________________\n",
            "conv2d_14 (Conv2D)           (None, 4, 4, 256)         590080    \n",
            "_________________________________________________________________\n",
            "activation_11 (Activation)   (None, 4, 4, 256)         0         \n",
            "_________________________________________________________________\n",
            "batch_normalization_11 (Batc (None, 4, 4, 256)         1024      \n",
            "_________________________________________________________________\n",
            "dropout_11 (Dropout)         (None, 4, 4, 256)         0         \n",
            "_________________________________________________________________\n",
            "max_pooling2d_4 (MaxPooling2 (None, 2, 2, 256)         0         \n",
            "_________________________________________________________________\n",
            "conv2d_15 (Conv2D)           (None, 2, 2, 64)          16448     \n",
            "_________________________________________________________________\n",
            "conv2d_16 (Conv2D)           (None, 2, 2, 512)         295424    \n",
            "_________________________________________________________________\n",
            "activation_12 (Activation)   (None, 2, 2, 512)         0         \n",
            "_________________________________________________________________\n",
            "batch_normalization_12 (Batc (None, 2, 2, 512)         2048      \n",
            "_________________________________________________________________\n",
            "dropout_12 (Dropout)         (None, 2, 2, 512)         0         \n",
            "_________________________________________________________________\n",
            "conv2d_17 (Conv2D)           (None, 2, 2, 512)         2359808   \n",
            "_________________________________________________________________\n",
            "activation_13 (Activation)   (None, 2, 2, 512)         0         \n",
            "_________________________________________________________________\n",
            "batch_normalization_13 (Batc (None, 2, 2, 512)         2048      \n",
            "_________________________________________________________________\n",
            "dropout_13 (Dropout)         (None, 2, 2, 512)         0         \n",
            "_________________________________________________________________\n",
            "max_pooling2d_5 (MaxPooling2 (None, 1, 1, 512)         0         \n",
            "_________________________________________________________________\n",
            "conv2d_18 (Conv2D)           (None, 1, 1, 32)          16416     \n",
            "_________________________________________________________________\n",
            "conv2d_19 (Conv2D)           (None, 1, 1, 512)         147968    \n",
            "_________________________________________________________________\n",
            "activation_14 (Activation)   (None, 1, 1, 512)         0         \n",
            "_________________________________________________________________\n",
            "batch_normalization_14 (Batc (None, 1, 1, 512)         2048      \n",
            "_________________________________________________________________\n",
            "dropout_14 (Dropout)         (None, 1, 1, 512)         0         \n",
            "_________________________________________________________________\n",
            "conv2d_20 (Conv2D)           (None, 1, 1, 512)         2359808   \n",
            "_________________________________________________________________\n",
            "activation_15 (Activation)   (None, 1, 1, 512)         0         \n",
            "_________________________________________________________________\n",
            "batch_normalization_15 (Batc (None, 1, 1, 512)         2048      \n",
            "_________________________________________________________________\n",
            "dropout_15 (Dropout)         (None, 1, 1, 512)         0         \n",
            "_________________________________________________________________\n",
            "conv2d_21 (Conv2D)           (None, 1, 1, 10)          46090     \n",
            "_________________________________________________________________\n",
            "flatten_1 (Flatten)          (None, 10)                0         \n",
            "_________________________________________________________________\n",
            "activation_16 (Activation)   (None, 10)                0         \n",
            "=================================================================\n",
            "Total params: 8,021,578\n",
            "Trainable params: 8,013,578\n",
            "Non-trainable params: 8,000\n",
            "_________________________________________________________________\n"
          ],
          "name": "stdout"
        }
      ]
    },
    {
      "cell_type": "code",
      "metadata": {
        "id": "ff9_fAECKmo9",
        "colab_type": "code",
        "outputId": "29fa827a-9393-4abf-ab00-5c21b6c0f420",
        "colab": {
          "base_uri": "https://localhost:8080/",
          "height": 71
        }
      },
      "source": [
        "from keras.optimizers import adam\n",
        "adam = adam(lr=0.01, beta_1=0.9, beta_2=0.999, epsilon=1e-8,decay=0.005)\n",
        "model.compile(loss='categorical_crossentropy',\n",
        "             optimizer=adam,\n",
        "             metrics=['accuracy'])"
      ],
      "execution_count": 11,
      "outputs": [
        {
          "output_type": "stream",
          "text": [
            "W0724 04:36:43.462831 140703663208320 deprecation_wrapper.py:119] From /usr/local/lib/python3.6/dist-packages/keras/optimizers.py:790: The name tf.train.Optimizer is deprecated. Please use tf.compat.v1.train.Optimizer instead.\n",
            "\n"
          ],
          "name": "stderr"
        }
      ]
    },
    {
      "cell_type": "markdown",
      "metadata": {
        "id": "FeM9olujkXlf",
        "colab_type": "text"
      },
      "source": [
        "### cutout\n",
        "Image augmentation incudes cutout, resulting in 1.5% improvement in validation accuracy.\n",
        "I am saving this model, to be used for calculating grad-CAM.\n"
      ]
    },
    {
      "cell_type": "code",
      "metadata": {
        "id": "5oK_V7WyfsXX",
        "colab_type": "code",
        "outputId": "d4998031-2ba3-4c1a-969c-9977c0551aa2",
        "colab": {
          "base_uri": "https://localhost:8080/",
          "height": 1000
        }
      },
      "source": [
        "from keras.preprocessing.image import ImageDataGenerator\n",
        "random_erasing = True\n",
        "pixel_level = False\n",
        "\n",
        "datagen = ImageDataGenerator(featurewise_center=True,featurewise_std_normalization=True,\n",
        "                            preprocessing_function=get_random_eraser(v_l=0, v_h=1, pixel_level=pixel_level))\n",
        "\n",
        "filepath=\"/content/gdrive/My Drive/epochs:{epoch:03d}-val_acc:{val_acc:.3f}.hdf5\"\n",
        "\n",
        "earlyStopping = EarlyStopping(monitor='val_loss', patience=10, verbose=0, mode='min')\n",
        "mcp_save = ModelCheckpoint(filepath, save_best_only=True,verbose=1, monitor='val_loss', mode='min')\n",
        "reduce_lr_loss = ReduceLROnPlateau(monitor='val_loss', factor=0.1, patience=7, verbose=1, epsilon=1e-4, mode='min')\n",
        "\n",
        "# train the model\n",
        "start = time.time()\n",
        "# Train the model\n",
        "model_info = model.fit_generator(datagen.flow(train_features, train_labels, batch_size = 128),\n",
        "                                 samples_per_epoch = train_features.shape[0], nb_epoch = 100, \n",
        "                                 callbacks = [earlyStopping, mcp_save, reduce_lr_loss],\n",
        "                                 validation_data = (test_features, test_labels), verbose=1)\n",
        "end = time.time()\n",
        "print (\"Model took %0.2f seconds to train\"%(end - start))\n",
        "# plot model history\n",
        "plot_model_history(model_info)\n",
        "# compute test accuracy\n",
        "print (\"Accuracy on test data is: %0.2f\"%accuracy(test_features, test_labels, model))"
      ],
      "execution_count": 12,
      "outputs": [
        {
          "output_type": "stream",
          "text": [
            "/usr/local/lib/python3.6/dist-packages/keras/callbacks.py:1065: UserWarning: `epsilon` argument is deprecated and will be removed, use `min_delta` instead.\n",
            "  warnings.warn('`epsilon` argument is deprecated and '\n",
            "/usr/local/lib/python3.6/dist-packages/ipykernel_launcher.py:20: UserWarning: The semantics of the Keras 2 argument `steps_per_epoch` is not the same as the Keras 1 argument `samples_per_epoch`. `steps_per_epoch` is the number of batches to draw from the generator at each epoch. Basically steps_per_epoch = samples_per_epoch/batch_size. Similarly `nb_val_samples`->`validation_steps` and `val_samples`->`steps` arguments have changed. Update your method calls accordingly.\n",
            "/usr/local/lib/python3.6/dist-packages/ipykernel_launcher.py:20: UserWarning: Update your `fit_generator` call to the Keras 2 API: `fit_generator(<keras_pre..., callbacks=[<keras.ca..., validation_data=(array([[[..., verbose=1, steps_per_epoch=390, epochs=100)`\n",
            "W0724 04:36:47.443961 140703663208320 deprecation.py:323] From /usr/local/lib/python3.6/dist-packages/tensorflow/python/ops/math_grad.py:1250: add_dispatch_support.<locals>.wrapper (from tensorflow.python.ops.array_ops) is deprecated and will be removed in a future version.\n",
            "Instructions for updating:\n",
            "Use tf.where in 2.0, which has the same broadcast rule as np.where\n"
          ],
          "name": "stderr"
        },
        {
          "output_type": "stream",
          "text": [
            "Epoch 1/100\n"
          ],
          "name": "stdout"
        },
        {
          "output_type": "stream",
          "text": [
            "/usr/local/lib/python3.6/dist-packages/keras_preprocessing/image/image_data_generator.py:716: UserWarning: This ImageDataGenerator specifies `featurewise_center`, but it hasn't been fit on any training data. Fit it first by calling `.fit(numpy_data)`.\n",
            "  warnings.warn('This ImageDataGenerator specifies '\n",
            "/usr/local/lib/python3.6/dist-packages/keras_preprocessing/image/image_data_generator.py:724: UserWarning: This ImageDataGenerator specifies `featurewise_std_normalization`, but it hasn't been fit on any training data. Fit it first by calling `.fit(numpy_data)`.\n",
            "  warnings.warn('This ImageDataGenerator specifies '\n"
          ],
          "name": "stderr"
        },
        {
          "output_type": "stream",
          "text": [
            "390/390 [==============================] - 85s 218ms/step - loss: 4.9585 - acc: 0.2248 - val_loss: 3.3480 - val_acc: 0.1193\n",
            "\n",
            "Epoch 00001: val_loss improved from inf to 3.34803, saving model to /content/gdrive/My Drive/epochs:001-val_acc:0.119.hdf5\n",
            "Epoch 2/100\n",
            "390/390 [==============================] - 73s 188ms/step - loss: 2.6093 - acc: 0.3079 - val_loss: 2.4456 - val_acc: 0.3009\n",
            "\n",
            "Epoch 00002: val_loss improved from 3.34803 to 2.44555, saving model to /content/gdrive/My Drive/epochs:002-val_acc:0.301.hdf5\n",
            "Epoch 3/100\n",
            "390/390 [==============================] - 71s 183ms/step - loss: 2.0862 - acc: 0.3924 - val_loss: 2.1275 - val_acc: 0.3683\n",
            "\n",
            "Epoch 00003: val_loss improved from 2.44555 to 2.12746, saving model to /content/gdrive/My Drive/epochs:003-val_acc:0.368.hdf5\n",
            "Epoch 4/100\n",
            "390/390 [==============================] - 70s 181ms/step - loss: 1.8087 - acc: 0.4643 - val_loss: 2.0627 - val_acc: 0.3737\n",
            "\n",
            "Epoch 00004: val_loss improved from 2.12746 to 2.06274, saving model to /content/gdrive/My Drive/epochs:004-val_acc:0.374.hdf5\n",
            "Epoch 5/100\n",
            "390/390 [==============================] - 70s 181ms/step - loss: 1.6189 - acc: 0.5326 - val_loss: 1.7420 - val_acc: 0.4575\n",
            "\n",
            "Epoch 00005: val_loss improved from 2.06274 to 1.74196, saving model to /content/gdrive/My Drive/epochs:005-val_acc:0.458.hdf5\n",
            "Epoch 6/100\n",
            "390/390 [==============================] - 70s 180ms/step - loss: 1.4769 - acc: 0.5838 - val_loss: 1.4787 - val_acc: 0.5953\n",
            "\n",
            "Epoch 00006: val_loss improved from 1.74196 to 1.47865, saving model to /content/gdrive/My Drive/epochs:006-val_acc:0.595.hdf5\n",
            "Epoch 7/100\n",
            "390/390 [==============================] - 71s 183ms/step - loss: 1.3618 - acc: 0.6252 - val_loss: 1.3849 - val_acc: 0.6183\n",
            "\n",
            "Epoch 00007: val_loss improved from 1.47865 to 1.38486, saving model to /content/gdrive/My Drive/epochs:007-val_acc:0.618.hdf5\n",
            "Epoch 8/100\n",
            "390/390 [==============================] - 71s 182ms/step - loss: 1.2778 - acc: 0.6584 - val_loss: 1.3546 - val_acc: 0.6362\n",
            "\n",
            "Epoch 00008: val_loss improved from 1.38486 to 1.35456, saving model to /content/gdrive/My Drive/epochs:008-val_acc:0.636.hdf5\n",
            "Epoch 9/100\n",
            "390/390 [==============================] - 71s 181ms/step - loss: 1.1960 - acc: 0.6864 - val_loss: 1.2180 - val_acc: 0.6673\n",
            "\n",
            "Epoch 00009: val_loss improved from 1.35456 to 1.21798, saving model to /content/gdrive/My Drive/epochs:009-val_acc:0.667.hdf5\n",
            "Epoch 10/100\n",
            "390/390 [==============================] - 70s 181ms/step - loss: 1.1173 - acc: 0.7133 - val_loss: 1.1353 - val_acc: 0.7155\n",
            "\n",
            "Epoch 00010: val_loss improved from 1.21798 to 1.13529, saving model to /content/gdrive/My Drive/epochs:010-val_acc:0.716.hdf5\n",
            "Epoch 11/100\n",
            "390/390 [==============================] - 70s 180ms/step - loss: 1.0636 - acc: 0.7313 - val_loss: 1.1075 - val_acc: 0.7047\n",
            "\n",
            "Epoch 00011: val_loss improved from 1.13529 to 1.10751, saving model to /content/gdrive/My Drive/epochs:011-val_acc:0.705.hdf5\n",
            "Epoch 12/100\n",
            "390/390 [==============================] - 71s 182ms/step - loss: 1.0189 - acc: 0.7459 - val_loss: 0.9717 - val_acc: 0.7685\n",
            "\n",
            "Epoch 00012: val_loss improved from 1.10751 to 0.97169, saving model to /content/gdrive/My Drive/epochs:012-val_acc:0.768.hdf5\n",
            "Epoch 13/100\n",
            "390/390 [==============================] - 70s 180ms/step - loss: 0.9661 - acc: 0.7648 - val_loss: 0.9803 - val_acc: 0.7672\n",
            "\n",
            "Epoch 00013: val_loss did not improve from 0.97169\n",
            "Epoch 14/100\n",
            "390/390 [==============================] - 71s 182ms/step - loss: 0.9287 - acc: 0.7776 - val_loss: 0.9006 - val_acc: 0.7912\n",
            "\n",
            "Epoch 00014: val_loss improved from 0.97169 to 0.90058, saving model to /content/gdrive/My Drive/epochs:014-val_acc:0.791.hdf5\n",
            "Epoch 15/100\n",
            "390/390 [==============================] - 71s 182ms/step - loss: 0.8911 - acc: 0.7882 - val_loss: 0.8486 - val_acc: 0.8037\n",
            "\n",
            "Epoch 00015: val_loss improved from 0.90058 to 0.84862, saving model to /content/gdrive/My Drive/epochs:015-val_acc:0.804.hdf5\n",
            "Epoch 16/100\n",
            "390/390 [==============================] - 71s 182ms/step - loss: 0.8627 - acc: 0.7969 - val_loss: 0.8856 - val_acc: 0.7970\n",
            "\n",
            "Epoch 00016: val_loss did not improve from 0.84862\n",
            "Epoch 17/100\n",
            "390/390 [==============================] - 71s 182ms/step - loss: 0.8298 - acc: 0.8091 - val_loss: 0.8315 - val_acc: 0.8103\n",
            "\n",
            "Epoch 00017: val_loss improved from 0.84862 to 0.83154, saving model to /content/gdrive/My Drive/epochs:017-val_acc:0.810.hdf5\n",
            "Epoch 18/100\n",
            "390/390 [==============================] - 70s 180ms/step - loss: 0.7938 - acc: 0.8205 - val_loss: 0.8979 - val_acc: 0.7868\n",
            "\n",
            "Epoch 00018: val_loss did not improve from 0.83154\n",
            "Epoch 19/100\n",
            "390/390 [==============================] - 71s 182ms/step - loss: 0.7783 - acc: 0.8243 - val_loss: 0.8467 - val_acc: 0.8076\n",
            "\n",
            "Epoch 00019: val_loss did not improve from 0.83154\n",
            "Epoch 20/100\n",
            "390/390 [==============================] - 71s 182ms/step - loss: 0.7621 - acc: 0.8310 - val_loss: 0.8052 - val_acc: 0.8194\n",
            "\n",
            "Epoch 00020: val_loss improved from 0.83154 to 0.80519, saving model to /content/gdrive/My Drive/epochs:020-val_acc:0.819.hdf5\n",
            "Epoch 21/100\n",
            "390/390 [==============================] - 70s 180ms/step - loss: 0.7325 - acc: 0.8391 - val_loss: 0.8363 - val_acc: 0.8059\n",
            "\n",
            "Epoch 00021: val_loss did not improve from 0.80519\n",
            "Epoch 22/100\n",
            "390/390 [==============================] - 71s 182ms/step - loss: 0.7092 - acc: 0.8456 - val_loss: 0.8134 - val_acc: 0.8198\n",
            "\n",
            "Epoch 00022: val_loss did not improve from 0.80519\n",
            "Epoch 23/100\n",
            "390/390 [==============================] - 71s 181ms/step - loss: 0.6916 - acc: 0.8527 - val_loss: 0.7693 - val_acc: 0.8308\n",
            "\n",
            "Epoch 00023: val_loss improved from 0.80519 to 0.76932, saving model to /content/gdrive/My Drive/epochs:023-val_acc:0.831.hdf5\n",
            "Epoch 24/100\n",
            "390/390 [==============================] - 71s 182ms/step - loss: 0.6704 - acc: 0.8580 - val_loss: 0.7801 - val_acc: 0.8243\n",
            "\n",
            "Epoch 00024: val_loss did not improve from 0.76932\n",
            "Epoch 25/100\n",
            "390/390 [==============================] - 71s 183ms/step - loss: 0.6574 - acc: 0.8626 - val_loss: 0.7590 - val_acc: 0.8313\n",
            "\n",
            "Epoch 00025: val_loss improved from 0.76932 to 0.75901, saving model to /content/gdrive/My Drive/epochs:025-val_acc:0.831.hdf5\n",
            "Epoch 26/100\n",
            "390/390 [==============================] - 71s 182ms/step - loss: 0.6413 - acc: 0.8682 - val_loss: 0.7992 - val_acc: 0.8228\n",
            "\n",
            "Epoch 00026: val_loss did not improve from 0.75901\n",
            "Epoch 27/100\n",
            "390/390 [==============================] - 70s 181ms/step - loss: 0.6259 - acc: 0.8726 - val_loss: 0.8044 - val_acc: 0.8205\n",
            "\n",
            "Epoch 00027: val_loss did not improve from 0.75901\n",
            "Epoch 28/100\n",
            "390/390 [==============================] - 71s 182ms/step - loss: 0.6114 - acc: 0.8776 - val_loss: 0.7346 - val_acc: 0.8401\n",
            "\n",
            "Epoch 00028: val_loss improved from 0.75901 to 0.73459, saving model to /content/gdrive/My Drive/epochs:028-val_acc:0.840.hdf5\n",
            "Epoch 29/100\n",
            "390/390 [==============================] - 71s 181ms/step - loss: 0.5947 - acc: 0.8836 - val_loss: 0.7196 - val_acc: 0.8463\n",
            "\n",
            "Epoch 00029: val_loss improved from 0.73459 to 0.71962, saving model to /content/gdrive/My Drive/epochs:029-val_acc:0.846.hdf5\n",
            "Epoch 30/100\n",
            "390/390 [==============================] - 71s 182ms/step - loss: 0.5787 - acc: 0.8883 - val_loss: 0.7712 - val_acc: 0.8364\n",
            "\n",
            "Epoch 00030: val_loss did not improve from 0.71962\n",
            "Epoch 31/100\n",
            "390/390 [==============================] - 71s 181ms/step - loss: 0.5705 - acc: 0.8911 - val_loss: 0.7438 - val_acc: 0.8424\n",
            "\n",
            "Epoch 00031: val_loss did not improve from 0.71962\n",
            "Epoch 32/100\n",
            "390/390 [==============================] - 71s 182ms/step - loss: 0.5659 - acc: 0.8918 - val_loss: 0.7268 - val_acc: 0.8412\n",
            "\n",
            "Epoch 00032: val_loss did not improve from 0.71962\n",
            "Epoch 33/100\n",
            "390/390 [==============================] - 71s 181ms/step - loss: 0.5465 - acc: 0.8977 - val_loss: 0.7606 - val_acc: 0.8359\n",
            "\n",
            "Epoch 00033: val_loss did not improve from 0.71962\n",
            "Epoch 34/100\n",
            "390/390 [==============================] - 70s 180ms/step - loss: 0.5419 - acc: 0.9010 - val_loss: 0.7072 - val_acc: 0.8497\n",
            "\n",
            "Epoch 00034: val_loss improved from 0.71962 to 0.70723, saving model to /content/gdrive/My Drive/epochs:034-val_acc:0.850.hdf5\n",
            "Epoch 35/100\n",
            "390/390 [==============================] - 71s 181ms/step - loss: 0.5285 - acc: 0.9040 - val_loss: 0.7054 - val_acc: 0.8521\n",
            "\n",
            "Epoch 00035: val_loss improved from 0.70723 to 0.70542, saving model to /content/gdrive/My Drive/epochs:035-val_acc:0.852.hdf5\n",
            "Epoch 36/100\n",
            "390/390 [==============================] - 70s 180ms/step - loss: 0.5211 - acc: 0.9070 - val_loss: 0.7112 - val_acc: 0.8482\n",
            "\n",
            "Epoch 00036: val_loss did not improve from 0.70542\n",
            "Epoch 37/100\n",
            "390/390 [==============================] - 71s 181ms/step - loss: 0.5116 - acc: 0.9100 - val_loss: 0.7059 - val_acc: 0.8549\n",
            "\n",
            "Epoch 00037: val_loss did not improve from 0.70542\n",
            "Epoch 38/100\n",
            "390/390 [==============================] - 70s 180ms/step - loss: 0.5106 - acc: 0.9095 - val_loss: 0.7007 - val_acc: 0.8550\n",
            "\n",
            "Epoch 00038: val_loss improved from 0.70542 to 0.70071, saving model to /content/gdrive/My Drive/epochs:038-val_acc:0.855.hdf5\n",
            "Epoch 39/100\n",
            "390/390 [==============================] - 71s 181ms/step - loss: 0.4924 - acc: 0.9137 - val_loss: 0.7163 - val_acc: 0.8484\n",
            "\n",
            "Epoch 00039: val_loss did not improve from 0.70071\n",
            "Epoch 40/100\n",
            "390/390 [==============================] - 70s 181ms/step - loss: 0.4845 - acc: 0.9176 - val_loss: 0.6948 - val_acc: 0.8533\n",
            "\n",
            "Epoch 00040: val_loss improved from 0.70071 to 0.69484, saving model to /content/gdrive/My Drive/epochs:040-val_acc:0.853.hdf5\n",
            "Epoch 41/100\n",
            "390/390 [==============================] - 70s 180ms/step - loss: 0.4777 - acc: 0.9184 - val_loss: 0.7172 - val_acc: 0.8515\n",
            "\n",
            "Epoch 00041: val_loss did not improve from 0.69484\n",
            "Epoch 42/100\n",
            "390/390 [==============================] - 71s 181ms/step - loss: 0.4722 - acc: 0.9194 - val_loss: 0.7066 - val_acc: 0.8553\n",
            "\n",
            "Epoch 00042: val_loss did not improve from 0.69484\n",
            "Epoch 43/100\n",
            "390/390 [==============================] - 71s 182ms/step - loss: 0.4660 - acc: 0.9224 - val_loss: 0.7213 - val_acc: 0.8513\n",
            "\n",
            "Epoch 00043: val_loss did not improve from 0.69484\n",
            "Epoch 44/100\n",
            "390/390 [==============================] - 70s 179ms/step - loss: 0.4585 - acc: 0.9240 - val_loss: 0.6744 - val_acc: 0.8643\n",
            "\n",
            "Epoch 00044: val_loss improved from 0.69484 to 0.67443, saving model to /content/gdrive/My Drive/epochs:044-val_acc:0.864.hdf5\n",
            "Epoch 45/100\n",
            "390/390 [==============================] - 71s 181ms/step - loss: 0.4525 - acc: 0.9263 - val_loss: 0.6867 - val_acc: 0.8596\n",
            "\n",
            "Epoch 00045: val_loss did not improve from 0.67443\n",
            "Epoch 46/100\n",
            "390/390 [==============================] - 70s 181ms/step - loss: 0.4492 - acc: 0.9268 - val_loss: 0.6904 - val_acc: 0.8584\n",
            "\n",
            "Epoch 00046: val_loss did not improve from 0.67443\n",
            "Epoch 47/100\n",
            "390/390 [==============================] - 70s 179ms/step - loss: 0.4427 - acc: 0.9286 - val_loss: 0.6735 - val_acc: 0.8633\n",
            "\n",
            "Epoch 00047: val_loss improved from 0.67443 to 0.67350, saving model to /content/gdrive/My Drive/epochs:047-val_acc:0.863.hdf5\n",
            "Epoch 48/100\n",
            "390/390 [==============================] - 71s 181ms/step - loss: 0.4330 - acc: 0.9315 - val_loss: 0.6693 - val_acc: 0.8665\n",
            "\n",
            "Epoch 00048: val_loss improved from 0.67350 to 0.66928, saving model to /content/gdrive/My Drive/epochs:048-val_acc:0.867.hdf5\n",
            "Epoch 49/100\n",
            "390/390 [==============================] - 71s 181ms/step - loss: 0.4341 - acc: 0.9303 - val_loss: 0.6783 - val_acc: 0.8660\n",
            "\n",
            "Epoch 00049: val_loss did not improve from 0.66928\n",
            "Epoch 50/100\n",
            "390/390 [==============================] - 71s 182ms/step - loss: 0.4239 - acc: 0.9348 - val_loss: 0.6956 - val_acc: 0.8569\n",
            "\n",
            "Epoch 00050: val_loss did not improve from 0.66928\n",
            "Epoch 51/100\n",
            "390/390 [==============================] - 71s 183ms/step - loss: 0.4181 - acc: 0.9350 - val_loss: 0.6726 - val_acc: 0.8658\n",
            "\n",
            "Epoch 00051: val_loss did not improve from 0.66928\n",
            "Epoch 52/100\n",
            "390/390 [==============================] - 71s 182ms/step - loss: 0.4126 - acc: 0.9369 - val_loss: 0.6738 - val_acc: 0.8675\n",
            "\n",
            "Epoch 00052: val_loss did not improve from 0.66928\n",
            "Epoch 53/100\n",
            "390/390 [==============================] - 71s 183ms/step - loss: 0.4121 - acc: 0.9367 - val_loss: 0.6952 - val_acc: 0.8556\n",
            "\n",
            "Epoch 00053: val_loss did not improve from 0.66928\n",
            "Epoch 54/100\n",
            "390/390 [==============================] - 71s 181ms/step - loss: 0.4101 - acc: 0.9375 - val_loss: 0.6735 - val_acc: 0.8627\n",
            "\n",
            "Epoch 00054: val_loss did not improve from 0.66928\n",
            "Epoch 55/100\n",
            "390/390 [==============================] - 70s 179ms/step - loss: 0.4055 - acc: 0.9385 - val_loss: 0.7060 - val_acc: 0.8608\n",
            "\n",
            "Epoch 00055: val_loss did not improve from 0.66928\n",
            "\n",
            "Epoch 00055: ReduceLROnPlateau reducing learning rate to 0.0009999999776482583.\n",
            "Epoch 56/100\n",
            "390/390 [==============================] - 71s 181ms/step - loss: 0.3791 - acc: 0.9469 - val_loss: 0.6532 - val_acc: 0.8738\n",
            "\n",
            "Epoch 00056: val_loss improved from 0.66928 to 0.65315, saving model to /content/gdrive/My Drive/epochs:056-val_acc:0.874.hdf5\n",
            "Epoch 57/100\n",
            "390/390 [==============================] - 70s 180ms/step - loss: 0.3619 - acc: 0.9522 - val_loss: 0.6488 - val_acc: 0.8746\n",
            "\n",
            "Epoch 00057: val_loss improved from 0.65315 to 0.64883, saving model to /content/gdrive/My Drive/epochs:057-val_acc:0.875.hdf5\n",
            "Epoch 58/100\n",
            "390/390 [==============================] - 71s 181ms/step - loss: 0.3601 - acc: 0.9524 - val_loss: 0.6488 - val_acc: 0.8762\n",
            "\n",
            "Epoch 00058: val_loss improved from 0.64883 to 0.64876, saving model to /content/gdrive/My Drive/epochs:058-val_acc:0.876.hdf5\n",
            "Epoch 59/100\n",
            "390/390 [==============================] - 71s 182ms/step - loss: 0.3586 - acc: 0.9532 - val_loss: 0.6471 - val_acc: 0.8763\n",
            "\n",
            "Epoch 00059: val_loss improved from 0.64876 to 0.64713, saving model to /content/gdrive/My Drive/epochs:059-val_acc:0.876.hdf5\n",
            "Epoch 60/100\n",
            "390/390 [==============================] - 71s 182ms/step - loss: 0.3576 - acc: 0.9534 - val_loss: 0.6413 - val_acc: 0.8770\n",
            "\n",
            "Epoch 00060: val_loss improved from 0.64713 to 0.64129, saving model to /content/gdrive/My Drive/epochs:060-val_acc:0.877.hdf5\n",
            "Epoch 61/100\n",
            "390/390 [==============================] - 71s 182ms/step - loss: 0.3504 - acc: 0.9544 - val_loss: 0.6426 - val_acc: 0.8753\n",
            "\n",
            "Epoch 00061: val_loss did not improve from 0.64129\n",
            "Epoch 62/100\n",
            "390/390 [==============================] - 71s 181ms/step - loss: 0.3539 - acc: 0.9537 - val_loss: 0.6473 - val_acc: 0.8763\n",
            "\n",
            "Epoch 00062: val_loss did not improve from 0.64129\n",
            "Epoch 63/100\n",
            "390/390 [==============================] - 71s 182ms/step - loss: 0.3496 - acc: 0.9557 - val_loss: 0.6492 - val_acc: 0.8743\n",
            "\n",
            "Epoch 00063: val_loss did not improve from 0.64129\n",
            "Epoch 64/100\n",
            "390/390 [==============================] - 71s 182ms/step - loss: 0.3489 - acc: 0.9552 - val_loss: 0.6452 - val_acc: 0.8771\n",
            "\n",
            "Epoch 00064: val_loss did not improve from 0.64129\n",
            "Epoch 65/100\n",
            "390/390 [==============================] - 71s 182ms/step - loss: 0.3454 - acc: 0.9560 - val_loss: 0.6424 - val_acc: 0.8767\n",
            "\n",
            "Epoch 00065: val_loss did not improve from 0.64129\n",
            "Epoch 66/100\n",
            "390/390 [==============================] - 71s 182ms/step - loss: 0.3399 - acc: 0.9579 - val_loss: 0.6482 - val_acc: 0.8774\n",
            "\n",
            "Epoch 00066: val_loss did not improve from 0.64129\n",
            "Epoch 67/100\n",
            "390/390 [==============================] - 68s 174ms/step - loss: 0.3401 - acc: 0.9572 - val_loss: 0.6447 - val_acc: 0.8762\n",
            "\n",
            "Epoch 00067: val_loss did not improve from 0.64129\n",
            "\n",
            "Epoch 00067: ReduceLROnPlateau reducing learning rate to 9.999999310821295e-05.\n",
            "Epoch 68/100\n",
            "390/390 [==============================] - 36s 93ms/step - loss: 0.3394 - acc: 0.9573 - val_loss: 0.6464 - val_acc: 0.8768\n",
            "\n",
            "Epoch 00068: val_loss did not improve from 0.64129\n",
            "Epoch 69/100\n",
            "390/390 [==============================] - 36s 92ms/step - loss: 0.3380 - acc: 0.9583 - val_loss: 0.6469 - val_acc: 0.8769\n",
            "\n",
            "Epoch 00069: val_loss did not improve from 0.64129\n",
            "Epoch 70/100\n",
            "390/390 [==============================] - 36s 91ms/step - loss: 0.3364 - acc: 0.9586 - val_loss: 0.6465 - val_acc: 0.8767\n",
            "\n",
            "Epoch 00070: val_loss did not improve from 0.64129\n",
            "Model took 4896.95 seconds to train\n"
          ],
          "name": "stdout"
        },
        {
          "output_type": "display_data",
          "data": {
            "image/png": "[encoded data removed]",
            "text/plain": [
              "<Figure size 1080x360 with 2 Axes>"
            ]
          },
          "metadata": {
            "tags": []
          }
        },
        {
          "output_type": "stream",
          "text": [
            "Accuracy on test data is: 87.67\n"
          ],
          "name": "stdout"
        }
      ]
    },
    {
      "cell_type": "code",
      "metadata": {
        "id": "M1k93xgNA-6K",
        "colab_type": "code",
        "colab": {}
      },
      "source": [
        "from keras.applications.vgg16 import VGG16, preprocess_input, decode_predictions\n",
        "from keras.preprocessing import image\n",
        "import keras.backend as K\n",
        "import numpy as np\n",
        "import cv2\n",
        "import sys\n",
        "from google.colab.patches import cv2_imshow"
      ],
      "execution_count": 0,
      "outputs": []
    },
    {
      "cell_type": "code",
      "metadata": {
        "id": "l8eZ5BSJfJth",
        "colab_type": "code",
        "colab": {}
      },
      "source": [
        "# (train_data, train_labels), (test_data, test_labels) = cifar10.load_data()"
      ],
      "execution_count": 0,
      "outputs": []
    },
    {
      "cell_type": "code",
      "metadata": {
        "id": "V_g8w3AHY0ah",
        "colab_type": "code",
        "colab": {}
      },
      "source": [
        "# # model = VGG16(weights=\"imagenet\")\n",
        "# # img_path = \"car.jpeg\"\n",
        "# # img = image.load_img(img_path, target_size=(224, 224))\n",
        "# # x = image.img_to_array(img)\n",
        "# num = 55\n",
        "# x = test_data[num]\n",
        "# print(np.shape(x))\n",
        "# x = image.img_to_array(x)\n",
        "# x = np.expand_dims(x, axis=0)\n",
        "# x = preprocess_input(x)\n",
        "\n",
        "# print(np.shape(x))\n",
        "# print(x.dtype)"
      ],
      "execution_count": 0,
      "outputs": []
    },
    {
      "cell_type": "code",
      "metadata": {
        "id": "Ww0ZGcOpZFmh",
        "colab_type": "code",
        "colab": {}
      },
      "source": [
        "# preds = model.predict(x)\n",
        "# print(np.shape(preds))\n",
        "# class_idx = np.argmax(preds[0])\n",
        "# class_output = model.output[:, class_idx]\n",
        "# print(class_output)\n",
        "# last_conv_layer = model.get_layer(\"conv2d_83\")\n",
        "# print(last_conv_layer)"
      ],
      "execution_count": 0,
      "outputs": []
    },
    {
      "cell_type": "code",
      "metadata": {
        "id": "CWQ9MMaAZS6r",
        "colab_type": "code",
        "colab": {}
      },
      "source": [
        "# grads = K.gradients(class_output, last_conv_layer.output)[0]\n",
        "# pooled_grads = K.mean(grads, axis=(0, 1, 2))\n",
        "# iterate = K.function([model.input], [pooled_grads, last_conv_layer.output[0]])\n",
        "# pooled_grads_value, conv_layer_output_value = iterate([x])\n",
        "# # print(np.shape(conv_layer_output_value))\n",
        "# for i in range(256):\n",
        "# #     print(i)\n",
        "#     conv_layer_output_value[:, :, i] *= pooled_grads_value[i]"
      ],
      "execution_count": 0,
      "outputs": []
    },
    {
      "cell_type": "code",
      "metadata": {
        "id": "QInkBCxcZgHm",
        "colab_type": "code",
        "colab": {}
      },
      "source": [
        "# print(np.shape(conv_layer_output_value))\n",
        "# heatmap = np.mean(conv_layer_output_value, axis=-1)\n",
        "# print(np.shape(heatmap))\n",
        "# heatmap = np.maximum(heatmap, 0)\n",
        "# heatmap /= np.max(heatmap)"
      ],
      "execution_count": 0,
      "outputs": []
    },
    {
      "cell_type": "code",
      "metadata": {
        "id": "Rq6SK-gKZm-w",
        "colab_type": "code",
        "colab": {}
      },
      "source": [
        "# # from google.colab.patches import cv2_imshow\n",
        "# import matplotlib.pyplot as plt\n",
        "\n",
        "# %matplotlib inline\n",
        "\n",
        "# # img = cv2.imread(img_path)\n",
        "# org = test_features[num]\n",
        "# img = test_features[num].astype(np.uint8)\n",
        "# heatmap = cv2.resize(heatmap, (img.shape[1], img.shape[0]))\n",
        "# print(np.shape(heatmap),heatmap.dtype)\n",
        "# heatmap = np.uint8(255 * heatmap)\n",
        "# # heatmap = np.float32(255 * heatmap)\n",
        "# print(np.shape(heatmap))\n",
        "# heatmap = cv2.applyColorMap(heatmap, cv2.COLORMAP_JET)\n",
        "# print(np.shape(heatmap),np.shape(img),type(img),type(heatmap))\n",
        "# print(img.dtype,heatmap.dtype)\n",
        "# # img = img.astype(np.uint8)\n",
        "# print(img.dtype,heatmap.dtype)\n",
        "# superimposed_img = cv2.addWeighted(img, 0.6, heatmap, 0.4, 0)\n",
        "# # cv2.imshow(\"Original\", img)\n",
        "# # cv2.imshow(\"GradCam\", superimposed_img)\n",
        "# # cv2.waitKey(0)\n",
        "# # display images\n",
        "# fig, ax = plt.subplots(1,2)\n",
        "# ax[0].imshow(org)\n",
        "# ax[1].imshow(superimposed_img)\n",
        "# # plt.imshow(superimposed_img)\n",
        "# # plt.show()"
      ],
      "execution_count": 0,
      "outputs": []
    },
    {
      "cell_type": "code",
      "metadata": {
        "id": "qs0mn684kNi6",
        "colab_type": "code",
        "colab": {}
      },
      "source": [
        "# # from google.colab.patches import cv2_imshow\n",
        "# import matplotlib.pyplot as plt\n",
        "\n",
        "# %matplotlib inline\n",
        "\n",
        "# # img = cv2.imread(img_path)\n",
        "# org = test_features[num]\n",
        "# img = test_features[num].astype(np.uint8)\n",
        "# heatmap = cv2.resize(heatmap, (img.shape[1], img.shape[0]))\n",
        "# heatmap = np.uint8(255 * heatmap)\n",
        "# # heatmap = np.float32(255 * heatmap)\n",
        "# heatmap = cv2.applyColorMap(heatmap, cv2.COLORMAP_JET)\n",
        "# print(img.dtype,heatmap.dtype)\n",
        "# # img = img.astype(np.uint8)\n",
        "# print(img.dtype,heatmap.dtype)\n",
        "# print(type(img),type(heatmap))\n",
        "# superimposed_img = cv2.addWeighted(img, 0.6, heatmap, 0.4, 0)\n",
        "# superimposed_img11 = cv2.addWeighted(img, 1, heatmap, 0, 0)\n",
        "# superimposed_img22 = cv2.addWeighted(img, 0, heatmap, 1, 0)\n",
        "# print(superimposed_img.dtype)\n",
        "# superimposed_img = superimposed_img.astype(np.float32)\n",
        "# # display images\n",
        "# fig, ax = plt.subplots(1,4)\n",
        "# ax[0].imshow(org)\n",
        "# ax[1].imshow(superimposed_img)\n",
        "# ax[2].imshow(superimposed_img11)\n",
        "# ax[3].imshow(superimposed_img22)\n",
        "# # plt.imshow(superimposed_img)\n",
        "# # plt.show()"
      ],
      "execution_count": 0,
      "outputs": []
    },
    {
      "cell_type": "code",
      "metadata": {
        "id": "jeDRNLuon6rm",
        "colab_type": "code",
        "colab": {}
      },
      "source": [
        "from google.colab import files\n",
        "files.upload()"
      ],
      "execution_count": 0,
      "outputs": []
    },
    {
      "cell_type": "code",
      "metadata": {
        "id": "QF-dw4g5oVKh",
        "colab_type": "code",
        "colab": {}
      },
      "source": [
        "# img_path = \"dog.jpg\"\n",
        "# img = image.load_img(img_path, target_size=(32, 32))\n",
        "img = test_features[3]\n",
        "x = image.img_to_array(img)\n",
        "x = np.expand_dims(x, axis=0)\n",
        "x = preprocess_input(x)"
      ],
      "execution_count": 0,
      "outputs": []
    },
    {
      "cell_type": "code",
      "metadata": {
        "id": "OMzBxwcAopgY",
        "colab_type": "code",
        "colab": {}
      },
      "source": [
        "preds = model.predict(x)\n",
        "class_idx = np.argmax(preds[0])\n",
        "class_output = model.output[:, class_idx]\n",
        "last_conv_layer = model.get_layer(\"conv2d_146\")"
      ],
      "execution_count": 0,
      "outputs": []
    },
    {
      "cell_type": "code",
      "metadata": {
        "id": "tKI_WSKEopqv",
        "colab_type": "code",
        "colab": {}
      },
      "source": [
        "grads = K.gradients(class_output, last_conv_layer.output)[0]\n",
        "pooled_grads = K.mean(grads, axis=(0, 1, 2))\n",
        "iterate = K.function([model.input], [pooled_grads, last_conv_layer.output[0]])\n",
        "pooled_grads_value, conv_layer_output_value = iterate([x])\n",
        "for i in range(10):\n",
        "    conv_layer_output_value[:, :, i] *= pooled_grads_value[i]"
      ],
      "execution_count": 0,
      "outputs": []
    },
    {
      "cell_type": "code",
      "metadata": {
        "id": "iUsxI5R3optI",
        "colab_type": "code",
        "colab": {}
      },
      "source": [
        "heatmap = np.mean(conv_layer_output_value, axis=-1)\n",
        "heatmap = np.maximum(heatmap, 0)\n",
        "heatmap /= np.max(heatmap)"
      ],
      "execution_count": 0,
      "outputs": []
    },
    {
      "cell_type": "code",
      "metadata": {
        "id": "HQW6rJ7Eopxz",
        "colab_type": "code",
        "colab": {}
      },
      "source": [
        "import matplotlib.pyplot as plt\n",
        "\n",
        "%matplotlib inline\n",
        "# img = cv2.imread(img)\n",
        "org = img\n",
        "img = image.img_to_array(img)\n",
        "print(np.shape(img))\n",
        "print(img.dtype)\n",
        "img = cv2.resize(img, (32,32))\n",
        "heatmap = cv2.resize(heatmap, (img.shape[1], img.shape[0]))\n",
        "print(np.shape(heatmap))\n",
        "heatmap = np.uint8(255 * heatmap)\n",
        "print(np.shape(heatmap))\n",
        "heatmap = cv2.applyColorMap(heatmap, cv2.COLORMAP_JET)\n",
        "print(np.shape(heatmap),np.shape(img))\n",
        "print(img.dtype,heatmap.dtype)\n",
        "superimposed_img = cv2.addWeighted(np.uint8(img), 0.6, heatmap, 0.4, 0)\n",
        "# cv2.imshow(\"Original\", img)\n",
        "# cv2.imshow(\"GradCam\", superimposed_img)\n",
        "# cv2.waitKey(0)\n",
        "# plt.imshow(superimposed_img)\n",
        "# plt.show()\n",
        "# display images\n",
        "fig, ax = plt.subplots(1,2)\n",
        "ax[0].imshow(org)\n",
        "ax[1].imshow(superimposed_img)"
      ],
      "execution_count": 0,
      "outputs": []
    },
    {
      "cell_type": "code",
      "metadata": {
        "id": "JmQXndk3op1X",
        "colab_type": "code",
        "colab": {}
      },
      "source": [
        ""
      ],
      "execution_count": 0,
      "outputs": []
    },
    {
      "cell_type": "code",
      "metadata": {
        "id": "hW7bCB-Iop3p",
        "colab_type": "code",
        "colab": {}
      },
      "source": [
        ""
      ],
      "execution_count": 0,
      "outputs": []
    },
    {
      "cell_type": "code",
      "metadata": {
        "id": "BX4IY3jgop8p",
        "colab_type": "code",
        "colab": {}
      },
      "source": [
        ""
      ],
      "execution_count": 0,
      "outputs": []
    },
    {
      "cell_type": "code",
      "metadata": {
        "id": "Y3MS9y8Zop6X",
        "colab_type": "code",
        "colab": {}
      },
      "source": [
        ""
      ],
      "execution_count": 0,
      "outputs": []
    },
    {
      "cell_type": "code",
      "metadata": {
        "id": "dB7CqhMIbo2g",
        "colab_type": "code",
        "colab": {}
      },
      "source": [
        "num = 1100\n",
        "img = test_features[num]\n",
        "plt.imshow(img)\n",
        "plt.show()"
      ],
      "execution_count": 0,
      "outputs": []
    },
    {
      "cell_type": "code",
      "metadata": {
        "id": "6Spm5AC_emqC",
        "colab_type": "code",
        "colab": {}
      },
      "source": [
        "x = np.expand_dims(img, axis=0)\n",
        "preds = model.predict(x)\n",
        "print(preds)\n",
        "print(np.max(preds))\n",
        "print(np.argmax(preds))\n",
        "print(class_names[np.argmax(preds)])\n",
        "print(class_names[np.argmax(train_labels[num])])"
      ],
      "execution_count": 0,
      "outputs": []
    },
    {
      "cell_type": "code",
      "metadata": {
        "id": "FFRW7_mLiZal",
        "colab_type": "code",
        "colab": {}
      },
      "source": [
        "class_names"
      ],
      "execution_count": 0,
      "outputs": []
    },
    {
      "cell_type": "code",
      "metadata": {
        "id": "VH6h95RgmUpc",
        "colab_type": "code",
        "colab": {}
      },
      "source": [
        ""
      ],
      "execution_count": 0,
      "outputs": []
    }
  ]
}