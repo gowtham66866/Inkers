{
  "nbformat": 4,
  "nbformat_minor": 0,
  "metadata": {
    "colab": {
      "name": "Quiz 7_2nd Submission.ipynb",
      "version": "0.3.2",
      "provenance": [],
      "collapsed_sections": [],
      "include_colab_link": true
    },
    "kernelspec": {
      "name": "python3",
      "display_name": "Python 3"
    },
    "accelerator": "GPU"
  },
  "cells": [
    {
      "cell_type": "markdown",
      "metadata": {
        "id": "view-in-github",
        "colab_type": "text"
      },
      "source": [
        "<a href=\"https://colab.research.google.com/github/gowtham66866/Inkers/blob/master/Quiz_7_2nd_Submission.ipynb\" target=\"_parent\"><img src=\"https://colab.research.google.com/assets/colab-badge.svg\" alt=\"Open In Colab\"/></a>"
      ]
    },
    {
      "cell_type": "markdown",
      "metadata": {
        "id": "aNyZv-Ec52ot",
        "colab_type": "text"
      },
      "source": [
        "# **Import Libraries and modules**"
      ]
    },
    {
      "cell_type": "code",
      "metadata": {
        "id": "3m3w1Cw49Zkt",
        "colab_type": "code",
        "colab": {
          "base_uri": "https://localhost:8080/",
          "height": 34
        },
        "outputId": "673c8415-e547-4878-a953-add986f42862"
      },
      "source": [
        "# https://keras.io/\n",
        "!pip install -q keras\n",
        "import keras\n",
        "import datetime\n",
        "print(datetime.datetime.now())"
      ],
      "execution_count": 13,
      "outputs": [
        {
          "output_type": "stream",
          "text": [
            "2019-06-16 14:51:51.777695\n"
          ],
          "name": "stdout"
        }
      ]
    },
    {
      "cell_type": "code",
      "metadata": {
        "id": "Eso6UHE080D4",
        "colab_type": "code",
        "colab": {
          "base_uri": "https://localhost:8080/",
          "height": 34
        },
        "outputId": "0d6e6ad6-f0ab-45f8-91df-e9ad24a4e260"
      },
      "source": [
        "from keras import backend as K\n",
        "import time\n",
        "import matplotlib.pyplot as plt\n",
        "import numpy as np\n",
        "% matplotlib inline\n",
        "np.random.seed(2017) \n",
        "from keras.utils import np_utils\n",
        "\n",
        "\n",
        "# Multiple Inputs\n",
        "from keras.utils import plot_model\n",
        "from keras.models import Model\n",
        "from keras.layers import Input\n",
        "from keras.layers import Activation, Flatten, Dense, Dropout\n",
        "from keras.layers.convolutional import Conv2D, MaxPooling2D,SeparableConv2D,DepthwiseConv2D\n",
        "from keras.layers.pooling import MaxPooling2D\n",
        "from keras.layers.merge import concatenate\n",
        "from keras import regularizers\n",
        "from keras.layers.normalization import BatchNormalization\n",
        "\n",
        "from keras.datasets import mnist\n",
        "print(datetime.datetime.now())"
      ],
      "execution_count": 14,
      "outputs": [
        {
          "output_type": "stream",
          "text": [
            "2019-06-16 14:51:51.794888\n"
          ],
          "name": "stdout"
        }
      ]
    },
    {
      "cell_type": "markdown",
      "metadata": {
        "id": "zByEi95J86RD",
        "colab_type": "text"
      },
      "source": [
        "### Load pre-shuffled MNIST data into train and test sets"
      ]
    },
    {
      "cell_type": "code",
      "metadata": {
        "id": "7eRM0QWN83PV",
        "colab_type": "code",
        "colab": {
          "base_uri": "https://localhost:8080/",
          "height": 34
        },
        "outputId": "5382075a-82e3-4b30-f6bd-fb9c3f753c9e"
      },
      "source": [
        "(X_train, y_train), (X_test, y_test) = mnist.load_data()\n",
        "print(datetime.datetime.now())"
      ],
      "execution_count": 15,
      "outputs": [
        {
          "output_type": "stream",
          "text": [
            "2019-06-16 14:51:52.112892\n"
          ],
          "name": "stdout"
        }
      ]
    },
    {
      "cell_type": "code",
      "metadata": {
        "id": "4a4Be72j8-ZC",
        "colab_type": "code",
        "colab": {
          "base_uri": "https://localhost:8080/",
          "height": 303
        },
        "outputId": "26cb1259-d8b4-4501-f873-c310d8a095a3"
      },
      "source": [
        "print (X_train.shape)\n",
        "from matplotlib import pyplot as plt\n",
        "%matplotlib inline\n",
        "plt.imshow(X_train[0])\n",
        "print(datetime.datetime.now())"
      ],
      "execution_count": 16,
      "outputs": [
        {
          "output_type": "stream",
          "text": [
            "(60000, 28, 28)\n",
            "2019-06-16 14:51:52.140901\n"
          ],
          "name": "stdout"
        },
        {
          "output_type": "display_data",
          "data": {
            "image/png": "[encoded data removed]",
            "text/plain": [
              "<Figure size 432x288 with 1 Axes>"
            ]
          },
          "metadata": {
            "tags": []
          }
        }
      ]
    },
    {
      "cell_type": "code",
      "metadata": {
        "id": "dkmprriw9AnZ",
        "colab_type": "code",
        "colab": {
          "base_uri": "https://localhost:8080/",
          "height": 34
        },
        "outputId": "200c2b49-7a24-4760-f137-f0dd7612ef0d"
      },
      "source": [
        "X_train = X_train.reshape(X_train.shape[0], 28, 28,1)\n",
        "X_test = X_test.reshape(X_test.shape[0], 28, 28,1)\n",
        "print(datetime.datetime.now())"
      ],
      "execution_count": 17,
      "outputs": [
        {
          "output_type": "stream",
          "text": [
            "2019-06-16 14:51:52.292017\n"
          ],
          "name": "stdout"
        }
      ]
    },
    {
      "cell_type": "code",
      "metadata": {
        "id": "X2m4YS4E9CRh",
        "colab_type": "code",
        "colab": {
          "base_uri": "https://localhost:8080/",
          "height": 34
        },
        "outputId": "53f8263c-9c27-4de8-9de4-02d2551634d3"
      },
      "source": [
        "X_train = X_train.astype('float32')\n",
        "X_test = X_test.astype('float32')\n",
        "X_train /= 255\n",
        "X_test /= 255\n",
        "print(datetime.datetime.now())"
      ],
      "execution_count": 18,
      "outputs": [
        {
          "output_type": "stream",
          "text": [
            "2019-06-16 14:51:52.413345\n"
          ],
          "name": "stdout"
        }
      ]
    },
    {
      "cell_type": "code",
      "metadata": {
        "id": "0Mn0vAYD9DvB",
        "colab_type": "code",
        "colab": {
          "base_uri": "https://localhost:8080/",
          "height": 34
        },
        "outputId": "f7fc587c-fb1a-4f32-add9-8d3b9464ad19"
      },
      "source": [
        "y_train[:10]\n",
        "print(datetime.datetime.now())"
      ],
      "execution_count": 19,
      "outputs": [
        {
          "output_type": "stream",
          "text": [
            "2019-06-16 14:51:52.418952\n"
          ],
          "name": "stdout"
        }
      ]
    },
    {
      "cell_type": "code",
      "metadata": {
        "id": "ZG8JiXR39FHC",
        "colab_type": "code",
        "colab": {
          "base_uri": "https://localhost:8080/",
          "height": 34
        },
        "outputId": "f7a4b619-0998-4f3a-978d-118fc5a3dac0"
      },
      "source": [
        "# Convert 1-dimensional class arrays to 10-dimensional class matrices\n",
        "Y_train = np_utils.to_categorical(y_train, 10)\n",
        "Y_test = np_utils.to_categorical(y_test, 10)\n",
        "print(datetime.datetime.now())"
      ],
      "execution_count": 20,
      "outputs": [
        {
          "output_type": "stream",
          "text": [
            "2019-06-16 14:51:52.431790\n"
          ],
          "name": "stdout"
        }
      ]
    },
    {
      "cell_type": "code",
      "metadata": {
        "id": "fYlFRvKS9HMB",
        "colab_type": "code",
        "colab": {
          "base_uri": "https://localhost:8080/",
          "height": 34
        },
        "outputId": "6723e4b8-425c-4361-988a-88e6eea62b78"
      },
      "source": [
        "Y_train[:10]\n",
        "print(datetime.datetime.now())"
      ],
      "execution_count": 21,
      "outputs": [
        {
          "output_type": "stream",
          "text": [
            "2019-06-16 14:51:52.437707\n"
          ],
          "name": "stdout"
        }
      ]
    },
    {
      "cell_type": "code",
      "metadata": {
        "id": "osKqT73Q9JJB",
        "colab_type": "code",
        "colab": {
          "base_uri": "https://localhost:8080/",
          "height": 1037
        },
        "outputId": "77b3fe66-f215-4689-98bb-5675af402577"
      },
      "source": [
        "## MAIN BLOCK\n",
        "\n",
        "from keras.layers import Activation\n",
        "weight_decay = 0.005\n",
        "\n",
        "x1 = Input(shape=(28,28,1))\n",
        "\n",
        "x2 = Conv2D(64, kernel_size=3, padding='same', activation='relu',kernel_regularizer=regularizers.l2(weight_decay))(x1) #28\n",
        "x2 = concatenate([x1, x2]) \n",
        "x3 = Conv2D(64, kernel_size=3, padding='same', activation='relu',kernel_regularizer=regularizers.l2(weight_decay))(x2) #28\n",
        "x3 = concatenate([x1, x2, x3])\n",
        "x4 = MaxPooling2D(pool_size=(2, 2))(x3) #16\n",
        "\n",
        "\n",
        "x5 = Conv2D(64, kernel_size=3, padding='same', activation='relu',kernel_regularizer=regularizers.l2(weight_decay))(x4) #14\n",
        "x5 = concatenate([x4, x5])\n",
        "x6 = Conv2D(64, kernel_size=3, padding='same', activation='relu',kernel_regularizer=regularizers.l2(weight_decay))(x5) #14\n",
        "x6 = concatenate([x4, x5, x6])\n",
        "x7 = Conv2D(64, kernel_size=3, padding='same', activation='relu',kernel_regularizer=regularizers.l2(weight_decay))(x6) #14\n",
        "x7 = concatenate([x4, x5, x6])\n",
        "x8 = MaxPooling2D(pool_size=(2, 2))(x7) #8\n",
        "\n",
        "\n",
        "x9 = Conv2D(64, kernel_size=3, padding='same', activation='relu',kernel_regularizer=regularizers.l2(weight_decay))(x8) #7\n",
        "x9 = concatenate([x8, x9])\n",
        "x10 = Conv2D(64, kernel_size=3, padding='same', activation='relu',kernel_regularizer=regularizers.l2(weight_decay))(x9) #7\n",
        "x10 = concatenate([x8, x9, x10])\n",
        "x11 = Conv2D(64, kernel_size=3, padding='same', activation='relu',kernel_regularizer=regularizers.l2(weight_decay))(x10) #7\n",
        "x12 = Conv2D(10, kernel_size=7 )(x11) #1\n",
        "\n",
        "x12 = Flatten()(x12)\n",
        "output = Activation('softmax')(x12)\n",
        "\n",
        "model = Model(inputs=[x1], outputs=output)\n",
        "# summarize layers\n",
        "print(model.summary())\n",
        "print(datetime.datetime.now())"
      ],
      "execution_count": 30,
      "outputs": [
        {
          "output_type": "stream",
          "text": [
            "__________________________________________________________________________________________________\n",
            "Layer (type)                    Output Shape         Param #     Connected to                     \n",
            "==================================================================================================\n",
            "input_6 (InputLayer)            (None, 28, 28, 1)    0                                            \n",
            "__________________________________________________________________________________________________\n",
            "conv2d_36 (Conv2D)              (None, 28, 28, 64)   640         input_6[0][0]                    \n",
            "__________________________________________________________________________________________________\n",
            "concatenate_29 (Concatenate)    (None, 28, 28, 65)   0           input_6[0][0]                    \n",
            "                                                                 conv2d_36[0][0]                  \n",
            "__________________________________________________________________________________________________\n",
            "conv2d_37 (Conv2D)              (None, 28, 28, 64)   37504       concatenate_29[0][0]             \n",
            "__________________________________________________________________________________________________\n",
            "concatenate_30 (Concatenate)    (None, 28, 28, 130)  0           input_6[0][0]                    \n",
            "                                                                 concatenate_29[0][0]             \n",
            "                                                                 conv2d_37[0][0]                  \n",
            "__________________________________________________________________________________________________\n",
            "max_pooling2d_9 (MaxPooling2D)  (None, 14, 14, 130)  0           concatenate_30[0][0]             \n",
            "__________________________________________________________________________________________________\n",
            "conv2d_38 (Conv2D)              (None, 14, 14, 64)   74944       max_pooling2d_9[0][0]            \n",
            "__________________________________________________________________________________________________\n",
            "concatenate_31 (Concatenate)    (None, 14, 14, 194)  0           max_pooling2d_9[0][0]            \n",
            "                                                                 conv2d_38[0][0]                  \n",
            "__________________________________________________________________________________________________\n",
            "conv2d_39 (Conv2D)              (None, 14, 14, 64)   111808      concatenate_31[0][0]             \n",
            "__________________________________________________________________________________________________\n",
            "concatenate_32 (Concatenate)    (None, 14, 14, 388)  0           max_pooling2d_9[0][0]            \n",
            "                                                                 concatenate_31[0][0]             \n",
            "                                                                 conv2d_39[0][0]                  \n",
            "__________________________________________________________________________________________________\n",
            "concatenate_33 (Concatenate)    (None, 14, 14, 712)  0           max_pooling2d_9[0][0]            \n",
            "                                                                 concatenate_31[0][0]             \n",
            "                                                                 concatenate_32[0][0]             \n",
            "__________________________________________________________________________________________________\n",
            "max_pooling2d_10 (MaxPooling2D) (None, 7, 7, 712)    0           concatenate_33[0][0]             \n",
            "__________________________________________________________________________________________________\n",
            "conv2d_41 (Conv2D)              (None, 7, 7, 64)     410176      max_pooling2d_10[0][0]           \n",
            "__________________________________________________________________________________________________\n",
            "concatenate_34 (Concatenate)    (None, 7, 7, 776)    0           max_pooling2d_10[0][0]           \n",
            "                                                                 conv2d_41[0][0]                  \n",
            "__________________________________________________________________________________________________\n",
            "conv2d_42 (Conv2D)              (None, 7, 7, 64)     447040      concatenate_34[0][0]             \n",
            "__________________________________________________________________________________________________\n",
            "concatenate_35 (Concatenate)    (None, 7, 7, 1552)   0           max_pooling2d_10[0][0]           \n",
            "                                                                 concatenate_34[0][0]             \n",
            "                                                                 conv2d_42[0][0]                  \n",
            "__________________________________________________________________________________________________\n",
            "conv2d_43 (Conv2D)              (None, 7, 7, 64)     894016      concatenate_35[0][0]             \n",
            "__________________________________________________________________________________________________\n",
            "conv2d_44 (Conv2D)              (None, 1, 1, 10)     31370       conv2d_43[0][0]                  \n",
            "__________________________________________________________________________________________________\n",
            "flatten_3 (Flatten)             (None, 10)           0           conv2d_44[0][0]                  \n",
            "__________________________________________________________________________________________________\n",
            "activation_3 (Activation)       (None, 10)           0           flatten_3[0][0]                  \n",
            "==================================================================================================\n",
            "Total params: 2,007,498\n",
            "Trainable params: 2,007,498\n",
            "Non-trainable params: 0\n",
            "__________________________________________________________________________________________________\n",
            "None\n",
            "2019-06-16 15:04:27.678009\n"
          ],
          "name": "stdout"
        }
      ]
    },
    {
      "cell_type": "code",
      "metadata": {
        "id": "TzdAYg1k9K7Z",
        "colab_type": "code",
        "colab": {
          "base_uri": "https://localhost:8080/",
          "height": 1020
        },
        "outputId": "c04f13f9-7bb0-4ff7-e050-7cea5d48d3b3"
      },
      "source": [
        "model.summary()\n",
        "\n",
        "print(datetime.datetime.now())"
      ],
      "execution_count": 31,
      "outputs": [
        {
          "output_type": "stream",
          "text": [
            "__________________________________________________________________________________________________\n",
            "Layer (type)                    Output Shape         Param #     Connected to                     \n",
            "==================================================================================================\n",
            "input_6 (InputLayer)            (None, 28, 28, 1)    0                                            \n",
            "__________________________________________________________________________________________________\n",
            "conv2d_36 (Conv2D)              (None, 28, 28, 64)   640         input_6[0][0]                    \n",
            "__________________________________________________________________________________________________\n",
            "concatenate_29 (Concatenate)    (None, 28, 28, 65)   0           input_6[0][0]                    \n",
            "                                                                 conv2d_36[0][0]                  \n",
            "__________________________________________________________________________________________________\n",
            "conv2d_37 (Conv2D)              (None, 28, 28, 64)   37504       concatenate_29[0][0]             \n",
            "__________________________________________________________________________________________________\n",
            "concatenate_30 (Concatenate)    (None, 28, 28, 130)  0           input_6[0][0]                    \n",
            "                                                                 concatenate_29[0][0]             \n",
            "                                                                 conv2d_37[0][0]                  \n",
            "__________________________________________________________________________________________________\n",
            "max_pooling2d_9 (MaxPooling2D)  (None, 14, 14, 130)  0           concatenate_30[0][0]             \n",
            "__________________________________________________________________________________________________\n",
            "conv2d_38 (Conv2D)              (None, 14, 14, 64)   74944       max_pooling2d_9[0][0]            \n",
            "__________________________________________________________________________________________________\n",
            "concatenate_31 (Concatenate)    (None, 14, 14, 194)  0           max_pooling2d_9[0][0]            \n",
            "                                                                 conv2d_38[0][0]                  \n",
            "__________________________________________________________________________________________________\n",
            "conv2d_39 (Conv2D)              (None, 14, 14, 64)   111808      concatenate_31[0][0]             \n",
            "__________________________________________________________________________________________________\n",
            "concatenate_32 (Concatenate)    (None, 14, 14, 388)  0           max_pooling2d_9[0][0]            \n",
            "                                                                 concatenate_31[0][0]             \n",
            "                                                                 conv2d_39[0][0]                  \n",
            "__________________________________________________________________________________________________\n",
            "concatenate_33 (Concatenate)    (None, 14, 14, 712)  0           max_pooling2d_9[0][0]            \n",
            "                                                                 concatenate_31[0][0]             \n",
            "                                                                 concatenate_32[0][0]             \n",
            "__________________________________________________________________________________________________\n",
            "max_pooling2d_10 (MaxPooling2D) (None, 7, 7, 712)    0           concatenate_33[0][0]             \n",
            "__________________________________________________________________________________________________\n",
            "conv2d_41 (Conv2D)              (None, 7, 7, 64)     410176      max_pooling2d_10[0][0]           \n",
            "__________________________________________________________________________________________________\n",
            "concatenate_34 (Concatenate)    (None, 7, 7, 776)    0           max_pooling2d_10[0][0]           \n",
            "                                                                 conv2d_41[0][0]                  \n",
            "__________________________________________________________________________________________________\n",
            "conv2d_42 (Conv2D)              (None, 7, 7, 64)     447040      concatenate_34[0][0]             \n",
            "__________________________________________________________________________________________________\n",
            "concatenate_35 (Concatenate)    (None, 7, 7, 1552)   0           max_pooling2d_10[0][0]           \n",
            "                                                                 concatenate_34[0][0]             \n",
            "                                                                 conv2d_42[0][0]                  \n",
            "__________________________________________________________________________________________________\n",
            "conv2d_43 (Conv2D)              (None, 7, 7, 64)     894016      concatenate_35[0][0]             \n",
            "__________________________________________________________________________________________________\n",
            "conv2d_44 (Conv2D)              (None, 1, 1, 10)     31370       conv2d_43[0][0]                  \n",
            "__________________________________________________________________________________________________\n",
            "flatten_3 (Flatten)             (None, 10)           0           conv2d_44[0][0]                  \n",
            "__________________________________________________________________________________________________\n",
            "activation_3 (Activation)       (None, 10)           0           flatten_3[0][0]                  \n",
            "==================================================================================================\n",
            "Total params: 2,007,498\n",
            "Trainable params: 2,007,498\n",
            "Non-trainable params: 0\n",
            "__________________________________________________________________________________________________\n",
            "2019-06-16 15:04:35.444620\n"
          ],
          "name": "stdout"
        }
      ]
    },
    {
      "cell_type": "code",
      "metadata": {
        "id": "Zp6SuGrL9M3h",
        "colab_type": "code",
        "colab": {
          "base_uri": "https://localhost:8080/",
          "height": 34
        },
        "outputId": "32311ee4-df0e-49b9-d5d7-331beed64cdb"
      },
      "source": [
        "model.compile(loss='categorical_crossentropy',\n",
        "             optimizer='adam',\n",
        "             metrics=['accuracy'])\n",
        "print(datetime.datetime.now())"
      ],
      "execution_count": 33,
      "outputs": [
        {
          "output_type": "stream",
          "text": [
            "2019-06-16 15:05:35.432413\n"
          ],
          "name": "stdout"
        }
      ]
    },
    {
      "cell_type": "code",
      "metadata": {
        "id": "4xWoKhPY9Of5",
        "colab_type": "code",
        "colab": {
          "base_uri": "https://localhost:8080/",
          "height": 513
        },
        "outputId": "379d3340-ecdb-4aad-8e1b-c12cb76f2c0e"
      },
      "source": [
        "model.fit(X_train, Y_train, batch_size=32, nb_epoch=10, verbose=1)\n",
        "print(datetime.datetime.now())"
      ],
      "execution_count": 34,
      "outputs": [
        {
          "output_type": "stream",
          "text": [
            "/usr/local/lib/python3.6/dist-packages/ipykernel_launcher.py:1: UserWarning: The `nb_epoch` argument in `fit` has been renamed `epochs`.\n",
            "  \"\"\"Entry point for launching an IPython kernel.\n",
            "W0616 15:05:39.681506 140238773585792 deprecation.py:323] From /usr/local/lib/python3.6/dist-packages/tensorflow/python/ops/math_grad.py:1250: add_dispatch_support.<locals>.wrapper (from tensorflow.python.ops.array_ops) is deprecated and will be removed in a future version.\n",
            "Instructions for updating:\n",
            "Use tf.where in 2.0, which has the same broadcast rule as np.where\n",
            "W0616 15:05:39.821403 140238773585792 deprecation_wrapper.py:119] From /usr/local/lib/python3.6/dist-packages/keras/backend/tensorflow_backend.py:986: The name tf.assign_add is deprecated. Please use tf.compat.v1.assign_add instead.\n",
            "\n"
          ],
          "name": "stderr"
        },
        {
          "output_type": "stream",
          "text": [
            "Epoch 1/10\n",
            "60000/60000 [==============================] - 36s 600us/step - loss: 0.3022 - acc: 0.9531\n",
            "Epoch 2/10\n",
            "60000/60000 [==============================] - 29s 488us/step - loss: 0.1632 - acc: 0.9719\n",
            "Epoch 3/10\n",
            "60000/60000 [==============================] - 29s 489us/step - loss: 0.1401 - acc: 0.9754\n",
            "Epoch 4/10\n",
            "60000/60000 [==============================] - 29s 491us/step - loss: 0.1251 - acc: 0.9785\n",
            "Epoch 5/10\n",
            "60000/60000 [==============================] - 29s 488us/step - loss: 0.1174 - acc: 0.9798\n",
            "Epoch 6/10\n",
            "60000/60000 [==============================] - 29s 488us/step - loss: 0.1102 - acc: 0.9812\n",
            "Epoch 7/10\n",
            "60000/60000 [==============================] - 29s 490us/step - loss: 0.1057 - acc: 0.9814\n",
            "Epoch 8/10\n",
            "60000/60000 [==============================] - 29s 489us/step - loss: 0.1025 - acc: 0.9828\n",
            "Epoch 9/10\n",
            "60000/60000 [==============================] - 29s 490us/step - loss: 0.1002 - acc: 0.9827\n",
            "Epoch 10/10\n",
            "60000/60000 [==============================] - 29s 490us/step - loss: 0.0999 - acc: 0.9828\n",
            "2019-06-16 15:10:40.537478\n"
          ],
          "name": "stdout"
        }
      ]
    },
    {
      "cell_type": "code",
      "metadata": {
        "id": "AtsH-lLk-eLb",
        "colab_type": "code",
        "colab": {
          "base_uri": "https://localhost:8080/",
          "height": 34
        },
        "outputId": "7bd9ecce-0712-4aaf-86f1-a4d0f4a23b3d"
      },
      "source": [
        "score = model.evaluate(X_test, Y_test, verbose=0)\n",
        "print(datetime.datetime.now())"
      ],
      "execution_count": 35,
      "outputs": [
        {
          "output_type": "stream",
          "text": [
            "2019-06-16 15:10:48.974013\n"
          ],
          "name": "stdout"
        }
      ]
    },
    {
      "cell_type": "code",
      "metadata": {
        "id": "mkX8JMv79q9r",
        "colab_type": "code",
        "colab": {
          "base_uri": "https://localhost:8080/",
          "height": 51
        },
        "outputId": "72447024-059b-48eb-8108-6efae9903107"
      },
      "source": [
        "print(score)\n",
        "print(datetime.datetime.now())"
      ],
      "execution_count": 36,
      "outputs": [
        {
          "output_type": "stream",
          "text": [
            "[0.0895332954466343, 0.9848]\n",
            "2019-06-16 15:10:53.941511\n"
          ],
          "name": "stdout"
        }
      ]
    },
    {
      "cell_type": "code",
      "metadata": {
        "id": "t6a3rQmV11b4",
        "colab_type": "code",
        "colab": {}
      },
      "source": [
        ""
      ],
      "execution_count": 0,
      "outputs": []
    }
  ]
}